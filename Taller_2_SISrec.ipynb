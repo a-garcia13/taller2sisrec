{
  "nbformat": 4,
  "nbformat_minor": 0,
  "metadata": {
    "colab": {
      "provenance": [],
      "toc_visible": true
    },
    "kernelspec": {
      "name": "python3",
      "display_name": "Python 3"
    },
    "language_info": {
      "name": "python"
    }
  },
  "cells": [
    {
      "cell_type": "markdown",
      "source": [
        "1. Definición y construcción de un modelo híbrido de recomendación\n",
        "\n",
        "- a) Objetivo de recomendación: Aumentar la satisfacción del usuario al proporcionar recomendaciones personalizadas de negocios y mejorar la visibilidad y el tráfico hacia negocios menos conocidos pero de alta calidad.\n",
        "\n",
        "Objetivos estratégicos del proveedor del servicio:\n",
        "\n",
        "- Aumentar la retención y la participación de los usuarios en la plataforma.\n",
        "Promover negocios de alta calidad que aún no han sido descubiertos por una amplia audiencia.\n",
        "\n",
        "Objetivos estratégicos del usuario del servicio:\n",
        "\n",
        "- Descubrir nuevos negocios que se ajusten a sus intereses y preferencias.\n",
        "Tomar decisiones informadas sobre qué negocios visitar en función de recomendaciones confiables.\n",
        "\n",
        "Propósito de recomendación:\n",
        "\n",
        "- Proveedor: Impulsar el crecimiento de la plataforma al aumentar la satisfacción del usuario y la visibilidad de negocios de alta calidad.\n",
        "Usuario: Recibir recomendaciones de negocios personalizadas y de alta calidad basadas en sus intereses y contexto.\n",
        "\n",
        "Tareas operativas:\n",
        "\n",
        "- Predecir la valoración que un usuario daría a un negocio no visitado previamente.\n",
        "- Identificar y recomendar negocios similares a los que un usuario ha valorado positivamente en el pasado.\n",
        "- Incorporar información contextual, como la ubicación del usuario, para mejorar la calidad de las recomendaciones.\n",
        "\n",
        "## Métricas:\n",
        "\n",
        "- Precisión (RMSE, MAE, MRR): Para medir la diferencia entre las valoraciones reales y las predichas por el sistema de recomendación. Y medir resultados rankeados\n",
        "\n",
        "- Recall@k y Precision@k: Para evaluar la calidad de las recomendaciones proporcionadas en términos de relevancia y exhaustividad.\n",
        "\n",
        "- Diversidad: Para evaluar la variedad de las recomendaciones y evitar la sobreexposición a negocios populares."
      ],
      "metadata": {
        "id": "md4F00GINi-J"
      }
    },
    {
      "cell_type": "code",
      "source": [
        "%pip install surprise sns joblib tensorflow scikit-learn contractions inflect pyinflect --quiet"
      ],
      "metadata": {
        "colab": {
          "base_uri": "https://localhost:8080/"
        },
        "id": "LQiJ4gLYeA7r",
        "outputId": "7fcb8d83-a6ea-4c3c-81e7-61c251d47cff"
      },
      "execution_count": null,
      "outputs": [
        {
          "output_type": "stream",
          "name": "stdout",
          "text": [
            "Note: you may need to restart the kernel to use updated packages.\n"
          ]
        },
        {
          "output_type": "stream",
          "name": "stderr",
          "text": [
            "\n",
            "[notice] A new release of pip is available: 23.0.1 -> 23.1.2\n",
            "[notice] To update, run: python.exe -m pip install --upgrade pip\n"
          ]
        },
        {
          "output_type": "stream",
          "name": "stdout",
          "text": [
            "Note: you may need to restart the kernel to use updated packages.\n"
          ]
        },
        {
          "output_type": "stream",
          "name": "stderr",
          "text": [
            "\n",
            "[notice] A new release of pip is available: 23.0.1 -> 23.1.2\n",
            "[notice] To update, run: python.exe -m pip install --upgrade pip\n"
          ]
        }
      ]
    },
    {
      "cell_type": "code",
      "source": [
        "import pandas as pd\n",
        "import numpy as np\n",
        "from pathlib import Path\n",
        "import seaborn as sns\n",
        "import matplotlib.pyplot as plt\n",
        "import datetime\n",
        "from surprise import SVD\n",
        "from surprise import Reader\n",
        "from surprise import Dataset\n",
        "from surprise import accuracy\n",
        "from surprise.model_selection.search import GridSearchCV\n",
        "from pathlib import Path\n",
        "from IPython.display import display,Markdown\n",
        "import joblib\n",
        "from tqdm import tqdm\n",
        "# from google.colab import output, \n",
        "# output.enable_custom_widget_manager()\n",
        "from ydata_profiling import ProfileReport\n",
        "from sklearn.preprocessing import MultiLabelBinarizer,OneHotEncoder\n",
        "from sklearn.feature_extraction.text import TfidfVectorizer\n",
        "from sklearn.model_selection import train_test_split\n",
        "from os import environ\n",
        "import json\n",
        "import contractions\n",
        "import inflect\n",
        "import nltk\n",
        "from nltk import word_tokenize, sent_tokenize\n",
        "from nltk.corpus import stopwords\n",
        "from nltk.stem import SnowballStemmer, WordNetLemmatizer\n",
        "from nltk.stem.snowball import EnglishStemmer\n",
        "import string\n",
        "import unicodedata as ud\n",
        "from time import perf_counter_ns"
      ],
      "metadata": {
        "id": "Y9N_07iKdH-K"
      },
      "execution_count": null,
      "outputs": []
    },
    {
      "cell_type": "code",
      "source": [
        "nltk.download('all', quiet=True)"
      ],
      "metadata": {
        "colab": {
          "base_uri": "https://localhost:8080/"
        },
        "id": "bbxC1nwUoXl9",
        "outputId": "c684519d-6e1e-43f0-d48e-b6d6b4c3ff9f"
      },
      "execution_count": null,
      "outputs": [
        {
          "output_type": "execute_result",
          "data": {
            "text/plain": [
              "True"
            ]
          },
          "metadata": {},
          "execution_count": 13
        }
      ]
    },
    {
      "cell_type": "markdown",
      "source": [
        "## 1. Datasets\n",
        "\n",
        "  Documentación en [https://www.yelp.com/dataset/documentation/main](https://www.yelp.com/dataset/documentation/main)"
      ],
      "metadata": {
        "id": "8iTHq2rlfGso"
      }
    },
    {
      "cell_type": "code",
      "source": [
        "yelp_path = Path(\"./data/\")\n",
        "\n",
        "yelp_processed_data = Path(\"./processed_data/\")\n",
        "\n",
        "# ordenados por tamaño\n",
        "yelp_business = Path(yelp_path,\"yelp_academic_dataset_business.json\")\n",
        "yelp_tip = Path(yelp_path , \"yelp_academic_dataset_tip.json\")\n",
        "yelp_checkin = Path(yelp_path , \"yelp_academic_dataset_checkin.json\")\n",
        "yelp_user = Path(yelp_path , \"yelp_academic_dataset_user.json\")\n",
        "yelp_review = Path(yelp_path , \"yelp_academic_dataset_review.json\")\n"
      ],
      "metadata": {
        "id": "WlohQRjCdo_9"
      },
      "execution_count": null,
      "outputs": []
    },
    {
      "cell_type": "markdown",
      "source": [
        "los archivos son gigantes, por lo que se cargan por chunks (1 millón de lineas cada uno, en total son alrededor de 7 chunks para el archivo más grande), y se guarda con joblib para luego re-cargarlo completo con joblib, parece redundante pero ahorra mucha ram y tiempo en los archivos pesados"
      ],
      "metadata": {
        "id": "lGPxFhrQ1urW"
      }
    },
    {
      "cell_type": "code",
      "source": [
        "def reload_dframe(json_path:Path):\n",
        "  # carga el dataframe de path en chunks, lo guarda con joblib y lo recarga en la misma variable para ahorrar ram\n",
        "  chunksize = 1e6\n",
        "  yelp_data = []\n",
        "  if Path(json_path.parent,f\"{json_path.stem}.joblib\").exists():\n",
        "      yelp_data:pd.DataFrame = joblib.load(Path(json_path.parent,f\"{json_path.stem}.joblib\"))\n",
        "  else:\n",
        "    yelp_chunks = pd.read_json(json_path, lines=True, chunksize=chunksize)\n",
        "    for chunk in tqdm(yelp_chunks):\n",
        "        yelp_data.append(chunk)\n",
        "\n",
        "    joblib.dump(pd.concat(yelp_data), Path(json_path.parent,f\"{json_path.stem}.joblib\"))\n",
        "    yelp_data:pd.DataFrame = joblib.load(Path(json_path.parent,f\"{json_path.stem}.joblib\"))\n",
        "  return yelp_data"
      ],
      "metadata": {
        "id": "ZUfDwPoLy9FQ"
      },
      "execution_count": null,
      "outputs": []
    },
    {
      "cell_type": "markdown",
      "source": [
        "### Business"
      ],
      "metadata": {
        "id": "vPTFodG7loJb"
      }
    },
    {
      "cell_type": "code",
      "source": [
        "%%time\n",
        "yelp_business_data = reload_dframe(yelp_business)"
      ],
      "metadata": {
        "colab": {
          "base_uri": "https://localhost:8080/"
        },
        "id": "39SXd1H1BYUd",
        "outputId": "24231d35-471b-426b-db35-be3a5a811e8b"
      },
      "execution_count": null,
      "outputs": [
        {
          "output_type": "stream",
          "name": "stdout",
          "text": [
            "CPU times: total: 375 ms\n",
            "Wall time: 950 ms\n"
          ]
        }
      ]
    },
    {
      "cell_type": "code",
      "source": [
        "yelp_business_data.head(3)"
      ],
      "metadata": {
        "colab": {
          "base_uri": "https://localhost:8080/",
          "height": 389
        },
        "id": "UrMrUpcFh38M",
        "outputId": "5679c1e0-56ba-483f-d0f1-8e6298898748"
      },
      "execution_count": null,
      "outputs": [
        {
          "output_type": "execute_result",
          "data": {
            "text/plain": [
              "              business_id                      name  \\\n",
              "0  Pns2l4eNsfO8kk83dixA6A  Abby Rappoport, LAC, CMQ   \n",
              "1  mpf3x-BjTdTEA3yCZrAYPw             The UPS Store   \n",
              "2  tUFrWirKiKi_TAnsVWINQQ                    Target   \n",
              "\n",
              "                           address           city state postal_code  \\\n",
              "0           1616 Chapala St, Ste 2  Santa Barbara    CA       93101   \n",
              "1  87 Grasso Plaza Shopping Center         Affton    MO       63123   \n",
              "2             5255 E Broadway Blvd         Tucson    AZ       85711   \n",
              "\n",
              "    latitude   longitude  stars  review_count  is_open  \\\n",
              "0  34.426679 -119.711197    5.0             7        0   \n",
              "1  38.551126  -90.335695    3.0            15        1   \n",
              "2  32.223236 -110.880452    3.5            22        0   \n",
              "\n",
              "                                          attributes  \\\n",
              "0                      {'ByAppointmentOnly': 'True'}   \n",
              "1             {'BusinessAcceptsCreditCards': 'True'}   \n",
              "2  {'BikeParking': 'True', 'BusinessAcceptsCredit...   \n",
              "\n",
              "                                          categories  \\\n",
              "0  Doctors, Traditional Chinese Medicine, Naturop...   \n",
              "1  Shipping Centers, Local Services, Notaries, Ma...   \n",
              "2  Department Stores, Shopping, Fashion, Home & G...   \n",
              "\n",
              "                                               hours  \n",
              "0                                               None  \n",
              "1  {'Monday': '0:0-0:0', 'Tuesday': '8:0-18:30', ...  \n",
              "2  {'Monday': '8:0-22:0', 'Tuesday': '8:0-22:0', ...  "
            ],
            "text/html": [
              "<div>\n",
              "<style scoped>\n",
              "    .dataframe tbody tr th:only-of-type {\n",
              "        vertical-align: middle;\n",
              "    }\n",
              "\n",
              "    .dataframe tbody tr th {\n",
              "        vertical-align: top;\n",
              "    }\n",
              "\n",
              "    .dataframe thead th {\n",
              "        text-align: right;\n",
              "    }\n",
              "</style>\n",
              "<table border=\"1\" class=\"dataframe\">\n",
              "  <thead>\n",
              "    <tr style=\"text-align: right;\">\n",
              "      <th></th>\n",
              "      <th>business_id</th>\n",
              "      <th>name</th>\n",
              "      <th>address</th>\n",
              "      <th>city</th>\n",
              "      <th>state</th>\n",
              "      <th>postal_code</th>\n",
              "      <th>latitude</th>\n",
              "      <th>longitude</th>\n",
              "      <th>stars</th>\n",
              "      <th>review_count</th>\n",
              "      <th>is_open</th>\n",
              "      <th>attributes</th>\n",
              "      <th>categories</th>\n",
              "      <th>hours</th>\n",
              "    </tr>\n",
              "  </thead>\n",
              "  <tbody>\n",
              "    <tr>\n",
              "      <th>0</th>\n",
              "      <td>Pns2l4eNsfO8kk83dixA6A</td>\n",
              "      <td>Abby Rappoport, LAC, CMQ</td>\n",
              "      <td>1616 Chapala St, Ste 2</td>\n",
              "      <td>Santa Barbara</td>\n",
              "      <td>CA</td>\n",
              "      <td>93101</td>\n",
              "      <td>34.426679</td>\n",
              "      <td>-119.711197</td>\n",
              "      <td>5.0</td>\n",
              "      <td>7</td>\n",
              "      <td>0</td>\n",
              "      <td>{'ByAppointmentOnly': 'True'}</td>\n",
              "      <td>Doctors, Traditional Chinese Medicine, Naturop...</td>\n",
              "      <td>None</td>\n",
              "    </tr>\n",
              "    <tr>\n",
              "      <th>1</th>\n",
              "      <td>mpf3x-BjTdTEA3yCZrAYPw</td>\n",
              "      <td>The UPS Store</td>\n",
              "      <td>87 Grasso Plaza Shopping Center</td>\n",
              "      <td>Affton</td>\n",
              "      <td>MO</td>\n",
              "      <td>63123</td>\n",
              "      <td>38.551126</td>\n",
              "      <td>-90.335695</td>\n",
              "      <td>3.0</td>\n",
              "      <td>15</td>\n",
              "      <td>1</td>\n",
              "      <td>{'BusinessAcceptsCreditCards': 'True'}</td>\n",
              "      <td>Shipping Centers, Local Services, Notaries, Ma...</td>\n",
              "      <td>{'Monday': '0:0-0:0', 'Tuesday': '8:0-18:30', ...</td>\n",
              "    </tr>\n",
              "    <tr>\n",
              "      <th>2</th>\n",
              "      <td>tUFrWirKiKi_TAnsVWINQQ</td>\n",
              "      <td>Target</td>\n",
              "      <td>5255 E Broadway Blvd</td>\n",
              "      <td>Tucson</td>\n",
              "      <td>AZ</td>\n",
              "      <td>85711</td>\n",
              "      <td>32.223236</td>\n",
              "      <td>-110.880452</td>\n",
              "      <td>3.5</td>\n",
              "      <td>22</td>\n",
              "      <td>0</td>\n",
              "      <td>{'BikeParking': 'True', 'BusinessAcceptsCredit...</td>\n",
              "      <td>Department Stores, Shopping, Fashion, Home &amp; G...</td>\n",
              "      <td>{'Monday': '8:0-22:0', 'Tuesday': '8:0-22:0', ...</td>\n",
              "    </tr>\n",
              "  </tbody>\n",
              "</table>\n",
              "</div>"
            ]
          },
          "metadata": {},
          "execution_count": 5
        }
      ]
    },
    {
      "cell_type": "markdown",
      "source": [
        " - Eliminar Address, city, state y postal code porque ya existe la latitud y longitud que codifica los mismos datos de forma numérica.\n",
        " - Eliminar is_open porque ya están las horas de apertura."
      ],
      "metadata": {
        "id": "Kg4A5xGcPiDg"
      }
    },
    {
      "cell_type": "code",
      "source": [
        "yelp_business_data.info()"
      ],
      "metadata": {
        "colab": {
          "base_uri": "https://localhost:8080/"
        },
        "id": "fJw5wyGW1I9a",
        "outputId": "c7ad47ff-ddd7-432c-95c2-9128fbdb95f5"
      },
      "execution_count": null,
      "outputs": [
        {
          "output_type": "stream",
          "name": "stdout",
          "text": [
            "<class 'pandas.core.frame.DataFrame'>\n",
            "RangeIndex: 150346 entries, 0 to 150345\n",
            "Data columns (total 14 columns):\n",
            " #   Column        Non-Null Count   Dtype  \n",
            "---  ------        --------------   -----  \n",
            " 0   business_id   150346 non-null  object \n",
            " 1   name          150346 non-null  object \n",
            " 2   address       150346 non-null  object \n",
            " 3   city          150346 non-null  object \n",
            " 4   state         150346 non-null  object \n",
            " 5   postal_code   150346 non-null  object \n",
            " 6   latitude      150346 non-null  float64\n",
            " 7   longitude     150346 non-null  float64\n",
            " 8   stars         150346 non-null  float64\n",
            " 9   review_count  150346 non-null  int64  \n",
            " 10  is_open       150346 non-null  int64  \n",
            " 11  attributes    136602 non-null  object \n",
            " 12  categories    150243 non-null  object \n",
            " 13  hours         127123 non-null  object \n",
            "dtypes: float64(3), int64(2), object(9)\n",
            "memory usage: 16.1+ MB\n"
          ]
        }
      ]
    },
    {
      "cell_type": "code",
      "source": [
        "yelp_business_data.describe()"
      ],
      "metadata": {
        "colab": {
          "base_uri": "https://localhost:8080/",
          "height": 300
        },
        "id": "nYH_ODzO1LQ5",
        "outputId": "9488efb0-c1c5-4c65-a3a3-01b3fad3a4d0"
      },
      "execution_count": null,
      "outputs": [
        {
          "output_type": "execute_result",
          "data": {
            "text/plain": [
              "            latitude      longitude          stars   review_count  \\\n",
              "count  150346.000000  150346.000000  150346.000000  150346.000000   \n",
              "mean       36.671150     -89.357339       3.596724      44.866561   \n",
              "std         5.872759      14.918502       0.974421     121.120136   \n",
              "min        27.555127    -120.095137       1.000000       5.000000   \n",
              "25%        32.187293     -90.357810       3.000000       8.000000   \n",
              "50%        38.777413     -86.121179       3.500000      15.000000   \n",
              "75%        39.954036     -75.421542       4.500000      37.000000   \n",
              "max        53.679197     -73.200457       5.000000    7568.000000   \n",
              "\n",
              "            is_open  \n",
              "count  150346.00000  \n",
              "mean        0.79615  \n",
              "std         0.40286  \n",
              "min         0.00000  \n",
              "25%         1.00000  \n",
              "50%         1.00000  \n",
              "75%         1.00000  \n",
              "max         1.00000  "
            ],
            "text/html": [
              "<div>\n",
              "<style scoped>\n",
              "    .dataframe tbody tr th:only-of-type {\n",
              "        vertical-align: middle;\n",
              "    }\n",
              "\n",
              "    .dataframe tbody tr th {\n",
              "        vertical-align: top;\n",
              "    }\n",
              "\n",
              "    .dataframe thead th {\n",
              "        text-align: right;\n",
              "    }\n",
              "</style>\n",
              "<table border=\"1\" class=\"dataframe\">\n",
              "  <thead>\n",
              "    <tr style=\"text-align: right;\">\n",
              "      <th></th>\n",
              "      <th>latitude</th>\n",
              "      <th>longitude</th>\n",
              "      <th>stars</th>\n",
              "      <th>review_count</th>\n",
              "      <th>is_open</th>\n",
              "    </tr>\n",
              "  </thead>\n",
              "  <tbody>\n",
              "    <tr>\n",
              "      <th>count</th>\n",
              "      <td>150346.000000</td>\n",
              "      <td>150346.000000</td>\n",
              "      <td>150346.000000</td>\n",
              "      <td>150346.000000</td>\n",
              "      <td>150346.00000</td>\n",
              "    </tr>\n",
              "    <tr>\n",
              "      <th>mean</th>\n",
              "      <td>36.671150</td>\n",
              "      <td>-89.357339</td>\n",
              "      <td>3.596724</td>\n",
              "      <td>44.866561</td>\n",
              "      <td>0.79615</td>\n",
              "    </tr>\n",
              "    <tr>\n",
              "      <th>std</th>\n",
              "      <td>5.872759</td>\n",
              "      <td>14.918502</td>\n",
              "      <td>0.974421</td>\n",
              "      <td>121.120136</td>\n",
              "      <td>0.40286</td>\n",
              "    </tr>\n",
              "    <tr>\n",
              "      <th>min</th>\n",
              "      <td>27.555127</td>\n",
              "      <td>-120.095137</td>\n",
              "      <td>1.000000</td>\n",
              "      <td>5.000000</td>\n",
              "      <td>0.00000</td>\n",
              "    </tr>\n",
              "    <tr>\n",
              "      <th>25%</th>\n",
              "      <td>32.187293</td>\n",
              "      <td>-90.357810</td>\n",
              "      <td>3.000000</td>\n",
              "      <td>8.000000</td>\n",
              "      <td>1.00000</td>\n",
              "    </tr>\n",
              "    <tr>\n",
              "      <th>50%</th>\n",
              "      <td>38.777413</td>\n",
              "      <td>-86.121179</td>\n",
              "      <td>3.500000</td>\n",
              "      <td>15.000000</td>\n",
              "      <td>1.00000</td>\n",
              "    </tr>\n",
              "    <tr>\n",
              "      <th>75%</th>\n",
              "      <td>39.954036</td>\n",
              "      <td>-75.421542</td>\n",
              "      <td>4.500000</td>\n",
              "      <td>37.000000</td>\n",
              "      <td>1.00000</td>\n",
              "    </tr>\n",
              "    <tr>\n",
              "      <th>max</th>\n",
              "      <td>53.679197</td>\n",
              "      <td>-73.200457</td>\n",
              "      <td>5.000000</td>\n",
              "      <td>7568.000000</td>\n",
              "      <td>1.00000</td>\n",
              "    </tr>\n",
              "  </tbody>\n",
              "</table>\n",
              "</div>"
            ]
          },
          "metadata": {},
          "execution_count": 6
        }
      ]
    },
    {
      "cell_type": "code",
      "source": [
        "yelp_business_data[\"stars\"].hist()"
      ],
      "metadata": {
        "colab": {
          "base_uri": "https://localhost:8080/",
          "height": 447
        },
        "id": "miAygUAj2ZRg",
        "outputId": "fe6a886d-0388-4a2d-aaa5-f2ddbd4434bc"
      },
      "execution_count": null,
      "outputs": [
        {
          "output_type": "execute_result",
          "data": {
            "text/plain": [
              "<AxesSubplot: >"
            ]
          },
          "metadata": {},
          "execution_count": 8
        },
        {
          "output_type": "display_data",
          "data": {
            "text/plain": [
              "<Figure size 640x480 with 1 Axes>"
            ],
            "image/png": "[encoded data removed]"
          },
          "metadata": {}
        }
      ]
    },
    {
      "cell_type": "code",
      "source": [
        "trans_yelp_business=yelp_business_data.drop([\"address\",\"city\",\"state\",\"postal_code\",\"is_open\"],axis=1)\n",
        "trans_yelp_business.head(3)"
      ],
      "metadata": {
        "colab": {
          "base_uri": "https://localhost:8080/",
          "height": 389
        },
        "id": "AXGfXu_5menC",
        "outputId": "7812bd68-d3fa-4de2-f88e-0cd7f24ef7c4"
      },
      "execution_count": null,
      "outputs": [
        {
          "output_type": "execute_result",
          "data": {
            "text/plain": [
              "              business_id                      name   latitude   longitude  \\\n",
              "0  Pns2l4eNsfO8kk83dixA6A  Abby Rappoport, LAC, CMQ  34.426679 -119.711197   \n",
              "1  mpf3x-BjTdTEA3yCZrAYPw             The UPS Store  38.551126  -90.335695   \n",
              "2  tUFrWirKiKi_TAnsVWINQQ                    Target  32.223236 -110.880452   \n",
              "\n",
              "   stars  review_count                                         attributes  \\\n",
              "0    5.0             7                      {'ByAppointmentOnly': 'True'}   \n",
              "1    3.0            15             {'BusinessAcceptsCreditCards': 'True'}   \n",
              "2    3.5            22  {'BikeParking': 'True', 'BusinessAcceptsCredit...   \n",
              "\n",
              "                                          categories  \\\n",
              "0  Doctors, Traditional Chinese Medicine, Naturop...   \n",
              "1  Shipping Centers, Local Services, Notaries, Ma...   \n",
              "2  Department Stores, Shopping, Fashion, Home & G...   \n",
              "\n",
              "                                               hours  \n",
              "0                                               None  \n",
              "1  {'Monday': '0:0-0:0', 'Tuesday': '8:0-18:30', ...  \n",
              "2  {'Monday': '8:0-22:0', 'Tuesday': '8:0-22:0', ...  "
            ],
            "text/html": [
              "<div>\n",
              "<style scoped>\n",
              "    .dataframe tbody tr th:only-of-type {\n",
              "        vertical-align: middle;\n",
              "    }\n",
              "\n",
              "    .dataframe tbody tr th {\n",
              "        vertical-align: top;\n",
              "    }\n",
              "\n",
              "    .dataframe thead th {\n",
              "        text-align: right;\n",
              "    }\n",
              "</style>\n",
              "<table border=\"1\" class=\"dataframe\">\n",
              "  <thead>\n",
              "    <tr style=\"text-align: right;\">\n",
              "      <th></th>\n",
              "      <th>business_id</th>\n",
              "      <th>name</th>\n",
              "      <th>latitude</th>\n",
              "      <th>longitude</th>\n",
              "      <th>stars</th>\n",
              "      <th>review_count</th>\n",
              "      <th>attributes</th>\n",
              "      <th>categories</th>\n",
              "      <th>hours</th>\n",
              "    </tr>\n",
              "  </thead>\n",
              "  <tbody>\n",
              "    <tr>\n",
              "      <th>0</th>\n",
              "      <td>Pns2l4eNsfO8kk83dixA6A</td>\n",
              "      <td>Abby Rappoport, LAC, CMQ</td>\n",
              "      <td>34.426679</td>\n",
              "      <td>-119.711197</td>\n",
              "      <td>5.0</td>\n",
              "      <td>7</td>\n",
              "      <td>{'ByAppointmentOnly': 'True'}</td>\n",
              "      <td>Doctors, Traditional Chinese Medicine, Naturop...</td>\n",
              "      <td>None</td>\n",
              "    </tr>\n",
              "    <tr>\n",
              "      <th>1</th>\n",
              "      <td>mpf3x-BjTdTEA3yCZrAYPw</td>\n",
              "      <td>The UPS Store</td>\n",
              "      <td>38.551126</td>\n",
              "      <td>-90.335695</td>\n",
              "      <td>3.0</td>\n",
              "      <td>15</td>\n",
              "      <td>{'BusinessAcceptsCreditCards': 'True'}</td>\n",
              "      <td>Shipping Centers, Local Services, Notaries, Ma...</td>\n",
              "      <td>{'Monday': '0:0-0:0', 'Tuesday': '8:0-18:30', ...</td>\n",
              "    </tr>\n",
              "    <tr>\n",
              "      <th>2</th>\n",
              "      <td>tUFrWirKiKi_TAnsVWINQQ</td>\n",
              "      <td>Target</td>\n",
              "      <td>32.223236</td>\n",
              "      <td>-110.880452</td>\n",
              "      <td>3.5</td>\n",
              "      <td>22</td>\n",
              "      <td>{'BikeParking': 'True', 'BusinessAcceptsCredit...</td>\n",
              "      <td>Department Stores, Shopping, Fashion, Home &amp; G...</td>\n",
              "      <td>{'Monday': '8:0-22:0', 'Tuesday': '8:0-22:0', ...</td>\n",
              "    </tr>\n",
              "  </tbody>\n",
              "</table>\n",
              "</div>"
            ]
          },
          "metadata": {},
          "execution_count": 9
        }
      ]
    },
    {
      "cell_type": "markdown",
      "source": [
        "de la columna attributes, se preservan los booleanos y pasar múltiples atributos a listas para aplicar OneHotEncoding, el resto se descartan debido a que tienen estructura muy compleja y los booleanos son suficientes (24)"
      ],
      "metadata": {
        "id": "V7ubtVE751Ry"
      }
    },
    {
      "cell_type": "code",
      "source": [
        "distinctBoolValues = []\n",
        "rest =[]\n",
        "for item in trans_yelp_business[\"attributes\"]:\n",
        "  if item:\n",
        "    for it,val in item.items():\n",
        "      if val in [\"True\",\"False\"]:\n",
        "        distinctBoolValues.append(it)\n",
        "      rest.append(it)\n",
        "distinctBoolValues = set(distinctBoolValues)\n",
        "rest = set(rest)\n",
        "print(len(distinctBoolValues),distinctBoolValues)\n",
        "print(len(rest),rest)\n"
      ],
      "metadata": {
        "colab": {
          "base_uri": "https://localhost:8080/"
        },
        "id": "ZjuOlwY8cQOm",
        "outputId": "7404916c-a497-429c-e54e-3b7c23594a89"
      },
      "execution_count": null,
      "outputs": [
        {
          "output_type": "stream",
          "name": "stdout",
          "text": [
            "24 {'GoodForKids', 'Open24Hours', 'RestaurantsReservations', 'BusinessAcceptsCreditCards', 'BusinessAcceptsBitcoin', 'BikeParking', 'RestaurantsCounterService', 'RestaurantsTakeOut', 'HappyHour', 'DogsAllowed', 'BYOB', 'HasTV', 'WheelchairAccessible', 'RestaurantsTableService', 'CoatCheck', 'DriveThru', 'Caters', 'AcceptsInsurance', 'RestaurantsDelivery', 'OutdoorSeating', 'Corkage', 'RestaurantsGoodForGroups', 'GoodForDancing', 'ByAppointmentOnly'}\n",
            "39 {'BusinessParking', 'GoodForKids', 'NoiseLevel', 'Music', 'Open24Hours', 'BestNights', 'RestaurantsReservations', 'BusinessAcceptsCreditCards', 'GoodForMeal', 'BusinessAcceptsBitcoin', 'BikeParking', 'RestaurantsCounterService', 'BYOBCorkage', 'RestaurantsTakeOut', 'HappyHour', 'DogsAllowed', 'RestaurantsAttire', 'Smoking', 'BYOB', 'AgesAllowed', 'HasTV', 'HairSpecializesIn', 'WheelchairAccessible', 'RestaurantsPriceRange2', 'DietaryRestrictions', 'Alcohol', 'RestaurantsTableService', 'Ambience', 'CoatCheck', 'DriveThru', 'Caters', 'WiFi', 'AcceptsInsurance', 'RestaurantsDelivery', 'OutdoorSeating', 'Corkage', 'RestaurantsGoodForGroups', 'GoodForDancing', 'ByAppointmentOnly'}\n"
          ]
        }
      ]
    },
    {
      "cell_type": "markdown",
      "source": [
        "Parsear las horas para que sean legibles, se crean columnas de la forma \"(open|closing)\\__nombre-día_\" y su valor corresponde a la hora numérica en formato 24 horas (ejemplo, 6:00am equivale a 600 y 6:00pm a 1800), si hay un vacío, se llenan sus horarios vacíos con apertura y cierre a las 00:00 horas, que equivale a mantener cerrado ese día"
      ],
      "metadata": {
        "id": "s5rgElXHPneU"
      }
    },
    {
      "cell_type": "code",
      "source": [
        "days = [\"Monday\",\"Tuesday\",\"Wednesday\",\"Thursday\",\"Friday\",\"Saturday\",\"Sunday\"]"
      ],
      "metadata": {
        "id": "0fwrxqNPLGep"
      },
      "execution_count": null,
      "outputs": []
    },
    {
      "cell_type": "code",
      "source": [
        "businessmap={}\n",
        "\n",
        "hoursmap_open={day:{} for day in days}\n",
        "hoursmap_closing={day:{} for day in days}\n",
        "for row in trans_yelp_business.itertuples(name=\"Business\"):\n",
        "  bid = row[1]\n",
        "  attributes = row[7]\n",
        "  hours=row[9]\n",
        "  attribs=[]\n",
        "  if attributes:\n",
        "    for it,val in attributes.items():\n",
        "      if val==\"True\":\n",
        "        attribs.append(it)\n",
        "  businessmap[bid]=attribs\n",
        "    \n",
        "  for day in days:\n",
        "    mil_open_hour = 0\n",
        "    mil_close_hour = 0\n",
        "    if hours is not None and day in hours:\n",
        "      hour=hours[day]\n",
        "      hour_split = hour.split(\"-\")\n",
        "      open_hr,open_min = hour_split[0].split(\":\")\n",
        "      close_hr,close_min = hour_split[1].split(\":\")\n",
        "      mil_open_hour = int(open_hr+open_min.zfill(2))\n",
        "      mil_close_hour = int(close_hr+close_min.zfill(2))\n",
        "    hoursmap_open[day][bid] = mil_open_hour\n",
        "    hoursmap_closing[day][bid] = mil_close_hour\n",
        "    \n",
        "trans_yelp_business[\"attributes\"] = yelp_business_data[\"business_id\"].map(businessmap)\n",
        "trans_yelp_business.head(3)"
      ],
      "metadata": {
        "colab": {
          "base_uri": "https://localhost:8080/",
          "height": 389
        },
        "id": "Pu1sytn1wc2j",
        "outputId": "f10d977f-4754-4892-c84d-e33df26c35ab"
      },
      "execution_count": null,
      "outputs": [
        {
          "output_type": "execute_result",
          "data": {
            "text/plain": [
              "              business_id                      name   latitude   longitude  \\\n",
              "0  Pns2l4eNsfO8kk83dixA6A  Abby Rappoport, LAC, CMQ  34.426679 -119.711197   \n",
              "1  mpf3x-BjTdTEA3yCZrAYPw             The UPS Store  38.551126  -90.335695   \n",
              "2  tUFrWirKiKi_TAnsVWINQQ                    Target  32.223236 -110.880452   \n",
              "\n",
              "   stars  review_count                                         attributes  \\\n",
              "0    5.0             7                                [ByAppointmentOnly]   \n",
              "1    3.0            15                       [BusinessAcceptsCreditCards]   \n",
              "2    3.5            22  [BikeParking, BusinessAcceptsCreditCards, Whee...   \n",
              "\n",
              "                                          categories  \\\n",
              "0  Doctors, Traditional Chinese Medicine, Naturop...   \n",
              "1  Shipping Centers, Local Services, Notaries, Ma...   \n",
              "2  Department Stores, Shopping, Fashion, Home & G...   \n",
              "\n",
              "                                               hours  \n",
              "0                                               None  \n",
              "1  {'Monday': '0:0-0:0', 'Tuesday': '8:0-18:30', ...  \n",
              "2  {'Monday': '8:0-22:0', 'Tuesday': '8:0-22:0', ...  "
            ],
            "text/html": [
              "<div>\n",
              "<style scoped>\n",
              "    .dataframe tbody tr th:only-of-type {\n",
              "        vertical-align: middle;\n",
              "    }\n",
              "\n",
              "    .dataframe tbody tr th {\n",
              "        vertical-align: top;\n",
              "    }\n",
              "\n",
              "    .dataframe thead th {\n",
              "        text-align: right;\n",
              "    }\n",
              "</style>\n",
              "<table border=\"1\" class=\"dataframe\">\n",
              "  <thead>\n",
              "    <tr style=\"text-align: right;\">\n",
              "      <th></th>\n",
              "      <th>business_id</th>\n",
              "      <th>name</th>\n",
              "      <th>latitude</th>\n",
              "      <th>longitude</th>\n",
              "      <th>stars</th>\n",
              "      <th>review_count</th>\n",
              "      <th>attributes</th>\n",
              "      <th>categories</th>\n",
              "      <th>hours</th>\n",
              "    </tr>\n",
              "  </thead>\n",
              "  <tbody>\n",
              "    <tr>\n",
              "      <th>0</th>\n",
              "      <td>Pns2l4eNsfO8kk83dixA6A</td>\n",
              "      <td>Abby Rappoport, LAC, CMQ</td>\n",
              "      <td>34.426679</td>\n",
              "      <td>-119.711197</td>\n",
              "      <td>5.0</td>\n",
              "      <td>7</td>\n",
              "      <td>[ByAppointmentOnly]</td>\n",
              "      <td>Doctors, Traditional Chinese Medicine, Naturop...</td>\n",
              "      <td>None</td>\n",
              "    </tr>\n",
              "    <tr>\n",
              "      <th>1</th>\n",
              "      <td>mpf3x-BjTdTEA3yCZrAYPw</td>\n",
              "      <td>The UPS Store</td>\n",
              "      <td>38.551126</td>\n",
              "      <td>-90.335695</td>\n",
              "      <td>3.0</td>\n",
              "      <td>15</td>\n",
              "      <td>[BusinessAcceptsCreditCards]</td>\n",
              "      <td>Shipping Centers, Local Services, Notaries, Ma...</td>\n",
              "      <td>{'Monday': '0:0-0:0', 'Tuesday': '8:0-18:30', ...</td>\n",
              "    </tr>\n",
              "    <tr>\n",
              "      <th>2</th>\n",
              "      <td>tUFrWirKiKi_TAnsVWINQQ</td>\n",
              "      <td>Target</td>\n",
              "      <td>32.223236</td>\n",
              "      <td>-110.880452</td>\n",
              "      <td>3.5</td>\n",
              "      <td>22</td>\n",
              "      <td>[BikeParking, BusinessAcceptsCreditCards, Whee...</td>\n",
              "      <td>Department Stores, Shopping, Fashion, Home &amp; G...</td>\n",
              "      <td>{'Monday': '8:0-22:0', 'Tuesday': '8:0-22:0', ...</td>\n",
              "    </tr>\n",
              "  </tbody>\n",
              "</table>\n",
              "</div>"
            ]
          },
          "metadata": {},
          "execution_count": 13
        }
      ]
    },
    {
      "cell_type": "code",
      "source": [
        "for day,daymap in hoursmap_open.items():\n",
        "  trans_yelp_business[f\"open_{day}\"] = trans_yelp_business[\"business_id\"].map(daymap)\n",
        "\n",
        "for day,daymap in hoursmap_closing.items():\n",
        "  trans_yelp_business[f\"closing_{day}\"] = trans_yelp_business[\"business_id\"].map(daymap)\n",
        "\n",
        "trans_yelp_business.head(3)"
      ],
      "metadata": {
        "colab": {
          "base_uri": "https://localhost:8080/",
          "height": 418
        },
        "id": "a7jjJ0eTMsve",
        "outputId": "a59ab1d6-73e9-4d96-dc40-0841e04d4e75"
      },
      "execution_count": null,
      "outputs": [
        {
          "output_type": "execute_result",
          "data": {
            "text/plain": [
              "              business_id                      name   latitude   longitude  \\\n",
              "0  Pns2l4eNsfO8kk83dixA6A  Abby Rappoport, LAC, CMQ  34.426679 -119.711197   \n",
              "1  mpf3x-BjTdTEA3yCZrAYPw             The UPS Store  38.551126  -90.335695   \n",
              "2  tUFrWirKiKi_TAnsVWINQQ                    Target  32.223236 -110.880452   \n",
              "\n",
              "   stars  review_count                                         attributes  \\\n",
              "0    5.0             7                                [ByAppointmentOnly]   \n",
              "1    3.0            15                       [BusinessAcceptsCreditCards]   \n",
              "2    3.5            22  [BikeParking, BusinessAcceptsCreditCards, Whee...   \n",
              "\n",
              "                                          categories  \\\n",
              "0  Doctors, Traditional Chinese Medicine, Naturop...   \n",
              "1  Shipping Centers, Local Services, Notaries, Ma...   \n",
              "2  Department Stores, Shopping, Fashion, Home & G...   \n",
              "\n",
              "                                               hours  open_Monday  ...  \\\n",
              "0                                               None            0  ...   \n",
              "1  {'Monday': '0:0-0:0', 'Tuesday': '8:0-18:30', ...            0  ...   \n",
              "2  {'Monday': '8:0-22:0', 'Tuesday': '8:0-22:0', ...          800  ...   \n",
              "\n",
              "   open_Friday  open_Saturday  open_Sunday  closing_Monday  closing_Tuesday  \\\n",
              "0            0              0            0               0                0   \n",
              "1          800            800            0               0             1830   \n",
              "2          800            800          800            2200             2200   \n",
              "\n",
              "   closing_Wednesday  closing_Thursday  closing_Friday  closing_Saturday  \\\n",
              "0                  0                 0               0                 0   \n",
              "1               1830              1830            1830              1400   \n",
              "2               2200              2200            2300              2300   \n",
              "\n",
              "   closing_Sunday  \n",
              "0               0  \n",
              "1               0  \n",
              "2            2200  \n",
              "\n",
              "[3 rows x 23 columns]"
            ],
            "text/html": [
              "<div>\n",
              "<style scoped>\n",
              "    .dataframe tbody tr th:only-of-type {\n",
              "        vertical-align: middle;\n",
              "    }\n",
              "\n",
              "    .dataframe tbody tr th {\n",
              "        vertical-align: top;\n",
              "    }\n",
              "\n",
              "    .dataframe thead th {\n",
              "        text-align: right;\n",
              "    }\n",
              "</style>\n",
              "<table border=\"1\" class=\"dataframe\">\n",
              "  <thead>\n",
              "    <tr style=\"text-align: right;\">\n",
              "      <th></th>\n",
              "      <th>business_id</th>\n",
              "      <th>name</th>\n",
              "      <th>latitude</th>\n",
              "      <th>longitude</th>\n",
              "      <th>stars</th>\n",
              "      <th>review_count</th>\n",
              "      <th>attributes</th>\n",
              "      <th>categories</th>\n",
              "      <th>hours</th>\n",
              "      <th>open_Monday</th>\n",
              "      <th>...</th>\n",
              "      <th>open_Friday</th>\n",
              "      <th>open_Saturday</th>\n",
              "      <th>open_Sunday</th>\n",
              "      <th>closing_Monday</th>\n",
              "      <th>closing_Tuesday</th>\n",
              "      <th>closing_Wednesday</th>\n",
              "      <th>closing_Thursday</th>\n",
              "      <th>closing_Friday</th>\n",
              "      <th>closing_Saturday</th>\n",
              "      <th>closing_Sunday</th>\n",
              "    </tr>\n",
              "  </thead>\n",
              "  <tbody>\n",
              "    <tr>\n",
              "      <th>0</th>\n",
              "      <td>Pns2l4eNsfO8kk83dixA6A</td>\n",
              "      <td>Abby Rappoport, LAC, CMQ</td>\n",
              "      <td>34.426679</td>\n",
              "      <td>-119.711197</td>\n",
              "      <td>5.0</td>\n",
              "      <td>7</td>\n",
              "      <td>[ByAppointmentOnly]</td>\n",
              "      <td>Doctors, Traditional Chinese Medicine, Naturop...</td>\n",
              "      <td>None</td>\n",
              "      <td>0</td>\n",
              "      <td>...</td>\n",
              "      <td>0</td>\n",
              "      <td>0</td>\n",
              "      <td>0</td>\n",
              "      <td>0</td>\n",
              "      <td>0</td>\n",
              "      <td>0</td>\n",
              "      <td>0</td>\n",
              "      <td>0</td>\n",
              "      <td>0</td>\n",
              "      <td>0</td>\n",
              "    </tr>\n",
              "    <tr>\n",
              "      <th>1</th>\n",
              "      <td>mpf3x-BjTdTEA3yCZrAYPw</td>\n",
              "      <td>The UPS Store</td>\n",
              "      <td>38.551126</td>\n",
              "      <td>-90.335695</td>\n",
              "      <td>3.0</td>\n",
              "      <td>15</td>\n",
              "      <td>[BusinessAcceptsCreditCards]</td>\n",
              "      <td>Shipping Centers, Local Services, Notaries, Ma...</td>\n",
              "      <td>{'Monday': '0:0-0:0', 'Tuesday': '8:0-18:30', ...</td>\n",
              "      <td>0</td>\n",
              "      <td>...</td>\n",
              "      <td>800</td>\n",
              "      <td>800</td>\n",
              "      <td>0</td>\n",
              "      <td>0</td>\n",
              "      <td>1830</td>\n",
              "      <td>1830</td>\n",
              "      <td>1830</td>\n",
              "      <td>1830</td>\n",
              "      <td>1400</td>\n",
              "      <td>0</td>\n",
              "    </tr>\n",
              "    <tr>\n",
              "      <th>2</th>\n",
              "      <td>tUFrWirKiKi_TAnsVWINQQ</td>\n",
              "      <td>Target</td>\n",
              "      <td>32.223236</td>\n",
              "      <td>-110.880452</td>\n",
              "      <td>3.5</td>\n",
              "      <td>22</td>\n",
              "      <td>[BikeParking, BusinessAcceptsCreditCards, Whee...</td>\n",
              "      <td>Department Stores, Shopping, Fashion, Home &amp; G...</td>\n",
              "      <td>{'Monday': '8:0-22:0', 'Tuesday': '8:0-22:0', ...</td>\n",
              "      <td>800</td>\n",
              "      <td>...</td>\n",
              "      <td>800</td>\n",
              "      <td>800</td>\n",
              "      <td>800</td>\n",
              "      <td>2200</td>\n",
              "      <td>2200</td>\n",
              "      <td>2200</td>\n",
              "      <td>2200</td>\n",
              "      <td>2300</td>\n",
              "      <td>2300</td>\n",
              "      <td>2200</td>\n",
              "    </tr>\n",
              "  </tbody>\n",
              "</table>\n",
              "<p>3 rows × 23 columns</p>\n",
              "</div>"
            ]
          },
          "metadata": {},
          "execution_count": 14
        }
      ]
    },
    {
      "cell_type": "code",
      "source": [
        "trans_yelp_business= trans_yelp_business.drop([\"hours\"],axis=1)"
      ],
      "metadata": {
        "id": "hdTpreRAR75T"
      },
      "execution_count": null,
      "outputs": []
    },
    {
      "cell_type": "markdown",
      "source": [
        "Transformar las categorías a listas, de modo que se pueda hacer OneHotEncoding más adelante"
      ],
      "metadata": {
        "id": "39ovhq9zQUUR"
      }
    },
    {
      "cell_type": "code",
      "source": [
        "trans_yelp_business[\"categories\"]=trans_yelp_business[\"categories\"].str.split(\", \")\n",
        "trans_yelp_business.head(3)\n"
      ],
      "metadata": {
        "colab": {
          "base_uri": "https://localhost:8080/",
          "height": 418
        },
        "id": "n5nfMzoCFyzl",
        "outputId": "c286283c-7c8a-4150-d40c-649986d0485c"
      },
      "execution_count": null,
      "outputs": [
        {
          "output_type": "execute_result",
          "data": {
            "text/plain": [
              "              business_id                      name   latitude   longitude  \\\n",
              "0  Pns2l4eNsfO8kk83dixA6A  Abby Rappoport, LAC, CMQ  34.426679 -119.711197   \n",
              "1  mpf3x-BjTdTEA3yCZrAYPw             The UPS Store  38.551126  -90.335695   \n",
              "2  tUFrWirKiKi_TAnsVWINQQ                    Target  32.223236 -110.880452   \n",
              "\n",
              "   stars  review_count                                         attributes  \\\n",
              "0    5.0             7                                [ByAppointmentOnly]   \n",
              "1    3.0            15                       [BusinessAcceptsCreditCards]   \n",
              "2    3.5            22  [BikeParking, BusinessAcceptsCreditCards, Whee...   \n",
              "\n",
              "                                          categories  open_Monday  \\\n",
              "0  [Doctors, Traditional Chinese Medicine, Naturo...            0   \n",
              "1  [Shipping Centers, Local Services, Notaries, M...            0   \n",
              "2  [Department Stores, Shopping, Fashion, Home & ...          800   \n",
              "\n",
              "   open_Tuesday  ...  open_Friday  open_Saturday  open_Sunday  closing_Monday  \\\n",
              "0             0  ...            0              0            0               0   \n",
              "1           800  ...          800            800            0               0   \n",
              "2           800  ...          800            800          800            2200   \n",
              "\n",
              "   closing_Tuesday  closing_Wednesday  closing_Thursday  closing_Friday  \\\n",
              "0                0                  0                 0               0   \n",
              "1             1830               1830              1830            1830   \n",
              "2             2200               2200              2200            2300   \n",
              "\n",
              "   closing_Saturday  closing_Sunday  \n",
              "0                 0               0  \n",
              "1              1400               0  \n",
              "2              2300            2200  \n",
              "\n",
              "[3 rows x 22 columns]"
            ],
            "text/html": [
              "<div>\n",
              "<style scoped>\n",
              "    .dataframe tbody tr th:only-of-type {\n",
              "        vertical-align: middle;\n",
              "    }\n",
              "\n",
              "    .dataframe tbody tr th {\n",
              "        vertical-align: top;\n",
              "    }\n",
              "\n",
              "    .dataframe thead th {\n",
              "        text-align: right;\n",
              "    }\n",
              "</style>\n",
              "<table border=\"1\" class=\"dataframe\">\n",
              "  <thead>\n",
              "    <tr style=\"text-align: right;\">\n",
              "      <th></th>\n",
              "      <th>business_id</th>\n",
              "      <th>name</th>\n",
              "      <th>latitude</th>\n",
              "      <th>longitude</th>\n",
              "      <th>stars</th>\n",
              "      <th>review_count</th>\n",
              "      <th>attributes</th>\n",
              "      <th>categories</th>\n",
              "      <th>open_Monday</th>\n",
              "      <th>open_Tuesday</th>\n",
              "      <th>...</th>\n",
              "      <th>open_Friday</th>\n",
              "      <th>open_Saturday</th>\n",
              "      <th>open_Sunday</th>\n",
              "      <th>closing_Monday</th>\n",
              "      <th>closing_Tuesday</th>\n",
              "      <th>closing_Wednesday</th>\n",
              "      <th>closing_Thursday</th>\n",
              "      <th>closing_Friday</th>\n",
              "      <th>closing_Saturday</th>\n",
              "      <th>closing_Sunday</th>\n",
              "    </tr>\n",
              "  </thead>\n",
              "  <tbody>\n",
              "    <tr>\n",
              "      <th>0</th>\n",
              "      <td>Pns2l4eNsfO8kk83dixA6A</td>\n",
              "      <td>Abby Rappoport, LAC, CMQ</td>\n",
              "      <td>34.426679</td>\n",
              "      <td>-119.711197</td>\n",
              "      <td>5.0</td>\n",
              "      <td>7</td>\n",
              "      <td>[ByAppointmentOnly]</td>\n",
              "      <td>[Doctors, Traditional Chinese Medicine, Naturo...</td>\n",
              "      <td>0</td>\n",
              "      <td>0</td>\n",
              "      <td>...</td>\n",
              "      <td>0</td>\n",
              "      <td>0</td>\n",
              "      <td>0</td>\n",
              "      <td>0</td>\n",
              "      <td>0</td>\n",
              "      <td>0</td>\n",
              "      <td>0</td>\n",
              "      <td>0</td>\n",
              "      <td>0</td>\n",
              "      <td>0</td>\n",
              "    </tr>\n",
              "    <tr>\n",
              "      <th>1</th>\n",
              "      <td>mpf3x-BjTdTEA3yCZrAYPw</td>\n",
              "      <td>The UPS Store</td>\n",
              "      <td>38.551126</td>\n",
              "      <td>-90.335695</td>\n",
              "      <td>3.0</td>\n",
              "      <td>15</td>\n",
              "      <td>[BusinessAcceptsCreditCards]</td>\n",
              "      <td>[Shipping Centers, Local Services, Notaries, M...</td>\n",
              "      <td>0</td>\n",
              "      <td>800</td>\n",
              "      <td>...</td>\n",
              "      <td>800</td>\n",
              "      <td>800</td>\n",
              "      <td>0</td>\n",
              "      <td>0</td>\n",
              "      <td>1830</td>\n",
              "      <td>1830</td>\n",
              "      <td>1830</td>\n",
              "      <td>1830</td>\n",
              "      <td>1400</td>\n",
              "      <td>0</td>\n",
              "    </tr>\n",
              "    <tr>\n",
              "      <th>2</th>\n",
              "      <td>tUFrWirKiKi_TAnsVWINQQ</td>\n",
              "      <td>Target</td>\n",
              "      <td>32.223236</td>\n",
              "      <td>-110.880452</td>\n",
              "      <td>3.5</td>\n",
              "      <td>22</td>\n",
              "      <td>[BikeParking, BusinessAcceptsCreditCards, Whee...</td>\n",
              "      <td>[Department Stores, Shopping, Fashion, Home &amp; ...</td>\n",
              "      <td>800</td>\n",
              "      <td>800</td>\n",
              "      <td>...</td>\n",
              "      <td>800</td>\n",
              "      <td>800</td>\n",
              "      <td>800</td>\n",
              "      <td>2200</td>\n",
              "      <td>2200</td>\n",
              "      <td>2200</td>\n",
              "      <td>2200</td>\n",
              "      <td>2300</td>\n",
              "      <td>2300</td>\n",
              "      <td>2200</td>\n",
              "    </tr>\n",
              "  </tbody>\n",
              "</table>\n",
              "<p>3 rows × 22 columns</p>\n",
              "</div>"
            ]
          },
          "metadata": {},
          "execution_count": 16
        }
      ]
    },
    {
      "cell_type": "code",
      "source": [
        "trans_yelp_business[\"review_count\"].describe()"
      ],
      "metadata": {
        "colab": {
          "base_uri": "https://localhost:8080/"
        },
        "id": "_jxPOz2qSOmC",
        "outputId": "fab7e813-37c9-436a-c179-9440f1ae9dd8"
      },
      "execution_count": null,
      "outputs": [
        {
          "output_type": "execute_result",
          "data": {
            "text/plain": [
              "count    150346.000000\n",
              "mean         44.866561\n",
              "std         121.120136\n",
              "min           5.000000\n",
              "25%           8.000000\n",
              "50%          15.000000\n",
              "75%          37.000000\n",
              "max        7568.000000\n",
              "Name: review_count, dtype: float64"
            ]
          },
          "metadata": {},
          "execution_count": 17
        }
      ]
    },
    {
      "cell_type": "code",
      "source": [
        "trans_yelp_business[\"review_count\"].plot(kind=\"hist\",logy=True,xlabel=\"review count\",bins=25)\n"
      ],
      "metadata": {
        "colab": {
          "base_uri": "https://localhost:8080/",
          "height": 447
        },
        "id": "50Gp82toS6jx",
        "outputId": "1990b544-8e31-4fbc-b452-d3ed5a038cf3"
      },
      "execution_count": null,
      "outputs": [
        {
          "output_type": "execute_result",
          "data": {
            "text/plain": [
              "<AxesSubplot: ylabel='Frequency'>"
            ]
          },
          "metadata": {},
          "execution_count": 13
        },
        {
          "output_type": "display_data",
          "data": {
            "text/plain": [
              "<Figure size 640x480 with 1 Axes>"
            ],
            "image/png": "[encoded data removed]"
          },
          "metadata": {}
        }
      ]
    },
    {
      "cell_type": "markdown",
      "source": [
        "La distribución de reviews muestra que muy pocos lugares tienen más de 10 reseñas"
      ],
      "metadata": {
        "id": "K2lFaRhqeerH"
      }
    },
    {
      "cell_type": "code",
      "source": [
        "trans_yelp_business[\"stars\"].describe()"
      ],
      "metadata": {
        "colab": {
          "base_uri": "https://localhost:8080/"
        },
        "id": "uj3NcgAUS35l",
        "outputId": "0eb854c2-8c1e-40b7-85b4-f014d180b8b5"
      },
      "execution_count": null,
      "outputs": [
        {
          "output_type": "execute_result",
          "data": {
            "text/plain": [
              "count    150346.000000\n",
              "mean          3.596724\n",
              "std           0.974421\n",
              "min           1.000000\n",
              "25%           3.000000\n",
              "50%           3.500000\n",
              "75%           4.500000\n",
              "max           5.000000\n",
              "Name: stars, dtype: float64"
            ]
          },
          "metadata": {},
          "execution_count": 14
        }
      ]
    },
    {
      "cell_type": "code",
      "source": [
        "trans_yelp_business[\"stars\"].plot(kind=\"hist\")"
      ],
      "metadata": {
        "colab": {
          "base_uri": "https://localhost:8080/",
          "height": 447
        },
        "id": "wXV0JIzLSWeN",
        "outputId": "b35025e7-fb98-414e-e090-728cb968513d"
      },
      "execution_count": null,
      "outputs": [
        {
          "output_type": "execute_result",
          "data": {
            "text/plain": [
              "<AxesSubplot: ylabel='Frequency'>"
            ]
          },
          "metadata": {},
          "execution_count": 15
        },
        {
          "output_type": "display_data",
          "data": {
            "text/plain": [
              "<Figure size 640x480 with 1 Axes>"
            ],
            "image/png": "[encoded data removed]"
          },
          "metadata": {}
        }
      ]
    },
    {
      "cell_type": "markdown",
      "source": [
        "OneHot Encoding de attributes y categories"
      ],
      "metadata": {
        "id": "ymFlZtr-0dno"
      }
    },
    {
      "cell_type": "code",
      "source": [
        "trans_yelp_business['categories'] = trans_yelp_business['categories'].fillna(\"\").apply(list)"
      ],
      "metadata": {
        "id": "2ywo-LZ72vGa"
      },
      "execution_count": null,
      "outputs": []
    },
    {
      "cell_type": "code",
      "source": [
        "cats=[]\n",
        "for l in trans_yelp_business['categories']:\n",
        "  cats +=  l\n",
        "cats = pd.Series(cats)"
      ],
      "metadata": {
        "id": "8g04h2oRBqU2"
      },
      "execution_count": null,
      "outputs": []
    },
    {
      "cell_type": "code",
      "source": [
        "len(set(cats))"
      ],
      "metadata": {
        "colab": {
          "base_uri": "https://localhost:8080/"
        },
        "id": "ul3gPI4SD9SK",
        "outputId": "a2ef1ed7-0272-4077-c6b5-077d1bcd3778"
      },
      "execution_count": null,
      "outputs": [
        {
          "output_type": "execute_result",
          "data": {
            "text/plain": [
              "1311"
            ]
          },
          "metadata": {},
          "execution_count": 21
        }
      ]
    },
    {
      "cell_type": "markdown",
      "source": [
        "Hay demasiadas categorías, por lo que se tomarán las más recurrentes y se agrupará el resto en \"otros\""
      ],
      "metadata": {
        "id": "l7J4ry8iD_5c"
      }
    },
    {
      "cell_type": "code",
      "source": [
        "cats.value_counts().nlargest(30).plot(kind=\"bar\")"
      ],
      "metadata": {
        "colab": {
          "base_uri": "https://localhost:8080/",
          "height": 615
        },
        "id": "WfeTLgQDDTtW",
        "outputId": "e764f063-986a-4906-fc78-a7d32549f325"
      },
      "execution_count": null,
      "outputs": [
        {
          "output_type": "execute_result",
          "data": {
            "text/plain": [
              "<AxesSubplot: >"
            ]
          },
          "metadata": {},
          "execution_count": 59
        },
        {
          "output_type": "display_data",
          "data": {
            "text/plain": [
              "<Figure size 640x480 with 1 Axes>"
            ],
            "image/png": "[encoded data removed]"
          },
          "metadata": {}
        }
      ]
    },
    {
      "cell_type": "markdown",
      "source": [
        "A manera de método de codo, se mantendrá el top 10, manteniendo 190K datos con categoría"
      ],
      "metadata": {
        "id": "qC1GJEjnE_3a"
      }
    },
    {
      "cell_type": "code",
      "source": [
        "cats.value_counts().nlargest(10).plot(kind=\"bar\")"
      ],
      "metadata": {
        "colab": {
          "base_uri": "https://localhost:8080/",
          "height": 551
        },
        "id": "Uhv5umD9FG22",
        "outputId": "f20f5256-e92f-49c7-908d-acdd2273f695"
      },
      "execution_count": null,
      "outputs": [
        {
          "output_type": "execute_result",
          "data": {
            "text/plain": [
              "<AxesSubplot: >"
            ]
          },
          "metadata": {},
          "execution_count": 47
        },
        {
          "output_type": "display_data",
          "data": {
            "text/plain": [
              "<Figure size 640x480 with 1 Axes>"
            ],
            "image/png": "[encoded data removed]"
          },
          "metadata": {}
        }
      ]
    },
    {
      "cell_type": "code",
      "source": [
        "catmap={}\n",
        "catsset=set(cats.value_counts().nlargest(10).keys().tolist()+[\"other\"])\n",
        "for row in trans_yelp_business.itertuples(name=\"Business\"):\n",
        "  bid = row[1]\n",
        "  catlist = row[8]\n",
        "  diff = set(catlist)-catsset\n",
        "  inters = catsset.intersection(catlist)\n",
        "  if len(diff)>0: \n",
        "    inters.union([\"other\"])\n",
        "  catmap[bid]=list(inters)\n",
        "\n",
        "trans_yelp_business['categories']= trans_yelp_business[\"business_id\"].map(catmap)"
      ],
      "metadata": {
        "id": "0JNXAJt6Fjv-"
      },
      "execution_count": null,
      "outputs": []
    },
    {
      "cell_type": "code",
      "source": [
        "encoder1 = MultiLabelBinarizer()\n",
        "encoder2 = MultiLabelBinarizer()\n",
        "\n",
        "encoder2.fit(trans_yelp_business[\"categories\"])\n",
        "encoder1.fit(trans_yelp_business[\"attributes\"])"
      ],
      "metadata": {
        "colab": {
          "base_uri": "https://localhost:8080/",
          "height": 75
        },
        "id": "V4ZWSq6F05MM",
        "outputId": "bda3e62d-65cd-4b77-8766-f10d3dfca033"
      },
      "execution_count": null,
      "outputs": [
        {
          "output_type": "execute_result",
          "data": {
            "text/plain": [
              "MultiLabelBinarizer()"
            ],
            "text/html": [
              "<style>#sk-container-id-1 {color: black;background-color: white;}#sk-container-id-1 pre{padding: 0;}#sk-container-id-1 div.sk-toggleable {background-color: white;}#sk-container-id-1 label.sk-toggleable__label {cursor: pointer;display: block;width: 100%;margin-bottom: 0;padding: 0.3em;box-sizing: border-box;text-align: center;}#sk-container-id-1 label.sk-toggleable__label-arrow:before {content: \"▸\";float: left;margin-right: 0.25em;color: #696969;}#sk-container-id-1 label.sk-toggleable__label-arrow:hover:before {color: black;}#sk-container-id-1 div.sk-estimator:hover label.sk-toggleable__label-arrow:before {color: black;}#sk-container-id-1 div.sk-toggleable__content {max-height: 0;max-width: 0;overflow: hidden;text-align: left;background-color: #f0f8ff;}#sk-container-id-1 div.sk-toggleable__content pre {margin: 0.2em;color: black;border-radius: 0.25em;background-color: #f0f8ff;}#sk-container-id-1 input.sk-toggleable__control:checked~div.sk-toggleable__content {max-height: 200px;max-width: 100%;overflow: auto;}#sk-container-id-1 input.sk-toggleable__control:checked~label.sk-toggleable__label-arrow:before {content: \"▾\";}#sk-container-id-1 div.sk-estimator input.sk-toggleable__control:checked~label.sk-toggleable__label {background-color: #d4ebff;}#sk-container-id-1 div.sk-label input.sk-toggleable__control:checked~label.sk-toggleable__label {background-color: #d4ebff;}#sk-container-id-1 input.sk-hidden--visually {border: 0;clip: rect(1px 1px 1px 1px);clip: rect(1px, 1px, 1px, 1px);height: 1px;margin: -1px;overflow: hidden;padding: 0;position: absolute;width: 1px;}#sk-container-id-1 div.sk-estimator {font-family: monospace;background-color: #f0f8ff;border: 1px dotted black;border-radius: 0.25em;box-sizing: border-box;margin-bottom: 0.5em;}#sk-container-id-1 div.sk-estimator:hover {background-color: #d4ebff;}#sk-container-id-1 div.sk-parallel-item::after {content: \"\";width: 100%;border-bottom: 1px solid gray;flex-grow: 1;}#sk-container-id-1 div.sk-label:hover label.sk-toggleable__label {background-color: #d4ebff;}#sk-container-id-1 div.sk-serial::before {content: \"\";position: absolute;border-left: 1px solid gray;box-sizing: border-box;top: 0;bottom: 0;left: 50%;z-index: 0;}#sk-container-id-1 div.sk-serial {display: flex;flex-direction: column;align-items: center;background-color: white;padding-right: 0.2em;padding-left: 0.2em;position: relative;}#sk-container-id-1 div.sk-item {position: relative;z-index: 1;}#sk-container-id-1 div.sk-parallel {display: flex;align-items: stretch;justify-content: center;background-color: white;position: relative;}#sk-container-id-1 div.sk-item::before, #sk-container-id-1 div.sk-parallel-item::before {content: \"\";position: absolute;border-left: 1px solid gray;box-sizing: border-box;top: 0;bottom: 0;left: 50%;z-index: -1;}#sk-container-id-1 div.sk-parallel-item {display: flex;flex-direction: column;z-index: 1;position: relative;background-color: white;}#sk-container-id-1 div.sk-parallel-item:first-child::after {align-self: flex-end;width: 50%;}#sk-container-id-1 div.sk-parallel-item:last-child::after {align-self: flex-start;width: 50%;}#sk-container-id-1 div.sk-parallel-item:only-child::after {width: 0;}#sk-container-id-1 div.sk-dashed-wrapped {border: 1px dashed gray;margin: 0 0.4em 0.5em 0.4em;box-sizing: border-box;padding-bottom: 0.4em;background-color: white;}#sk-container-id-1 div.sk-label label {font-family: monospace;font-weight: bold;display: inline-block;line-height: 1.2em;}#sk-container-id-1 div.sk-label-container {text-align: center;}#sk-container-id-1 div.sk-container {/* jupyter's `normalize.less` sets `[hidden] { display: none; }` but bootstrap.min.css set `[hidden] { display: none !important; }` so we also need the `!important` here to be able to override the default hidden behavior on the sphinx rendered scikit-learn.org. See: https://github.com/scikit-learn/scikit-learn/issues/21755 */display: inline-block !important;position: relative;}#sk-container-id-1 div.sk-text-repr-fallback {display: none;}</style><div id=\"sk-container-id-1\" class=\"sk-top-container\"><div class=\"sk-text-repr-fallback\"><pre>MultiLabelBinarizer()</pre><b>In a Jupyter environment, please rerun this cell to show the HTML representation or trust the notebook. <br />On GitHub, the HTML representation is unable to render, please try loading this page with nbviewer.org.</b></div><div class=\"sk-container\" hidden><div class=\"sk-item\"><div class=\"sk-estimator sk-toggleable\"><input class=\"sk-toggleable__control sk-hidden--visually\" id=\"sk-estimator-id-1\" type=\"checkbox\" checked><label for=\"sk-estimator-id-1\" class=\"sk-toggleable__label sk-toggleable__label-arrow\">MultiLabelBinarizer</label><div class=\"sk-toggleable__content\"><pre>MultiLabelBinarizer()</pre></div></div></div></div></div>"
            ]
          },
          "metadata": {},
          "execution_count": 23
        }
      ]
    },
    {
      "cell_type": "code",
      "source": [
        "trans_yelp_business = pd.concat([trans_yelp_business,\n",
        "    pd.DataFrame(encoder2.transform(trans_yelp_business[\"categories\"]), columns=[ f\"category_{cla}\" for cla in encoder2.classes_ ]),\n",
        "           pd.DataFrame(encoder1.transform(trans_yelp_business[\"attributes\"]), columns=[ f\"attribute_{cla}\" for cla in encoder1.classes_ ])],axis=1)"
      ],
      "metadata": {
        "id": "7kWwNC6sUtu1"
      },
      "execution_count": null,
      "outputs": []
    },
    {
      "cell_type": "code",
      "source": [
        "trans_yelp_business.drop([\"categories\",\"attributes\"],inplace=True,axis=1)\n",
        "trans_yelp_business.head(3)"
      ],
      "metadata": {
        "colab": {
          "base_uri": "https://localhost:8080/",
          "height": 245
        },
        "id": "2Xhiufz9VDIm",
        "outputId": "a4b2575f-9473-479a-a1dd-d20158b1e7a5"
      },
      "execution_count": null,
      "outputs": [
        {
          "output_type": "execute_result",
          "data": {
            "text/plain": [
              "              business_id                      name   latitude   longitude  \\\n",
              "0  Pns2l4eNsfO8kk83dixA6A  Abby Rappoport, LAC, CMQ  34.426679 -119.711197   \n",
              "1  mpf3x-BjTdTEA3yCZrAYPw             The UPS Store  38.551126  -90.335695   \n",
              "2  tUFrWirKiKi_TAnsVWINQQ                    Target  32.223236 -110.880452   \n",
              "\n",
              "   stars  review_count  open_Monday  open_Tuesday  open_Wednesday  \\\n",
              "0    5.0             7            0             0               0   \n",
              "1    3.0            15            0           800             800   \n",
              "2    3.5            22          800           800             800   \n",
              "\n",
              "   open_Thursday  ...  attribute_HasTV  attribute_Open24Hours  \\\n",
              "0              0  ...                0                      0   \n",
              "1            800  ...                0                      0   \n",
              "2            800  ...                0                      0   \n",
              "\n",
              "   attribute_OutdoorSeating  attribute_RestaurantsCounterService  \\\n",
              "0                         0                                    0   \n",
              "1                         0                                    0   \n",
              "2                         0                                    0   \n",
              "\n",
              "   attribute_RestaurantsDelivery  attribute_RestaurantsGoodForGroups  \\\n",
              "0                              0                                   0   \n",
              "1                              0                                   0   \n",
              "2                              0                                   0   \n",
              "\n",
              "   attribute_RestaurantsReservations  attribute_RestaurantsTableService  \\\n",
              "0                                  0                                  0   \n",
              "1                                  0                                  0   \n",
              "2                                  0                                  0   \n",
              "\n",
              "   attribute_RestaurantsTakeOut  attribute_WheelchairAccessible  \n",
              "0                             0                               0  \n",
              "1                             0                               0  \n",
              "2                             0                               1  \n",
              "\n",
              "[3 rows x 54 columns]"
            ],
            "text/html": [
              "<div>\n",
              "<style scoped>\n",
              "    .dataframe tbody tr th:only-of-type {\n",
              "        vertical-align: middle;\n",
              "    }\n",
              "\n",
              "    .dataframe tbody tr th {\n",
              "        vertical-align: top;\n",
              "    }\n",
              "\n",
              "    .dataframe thead th {\n",
              "        text-align: right;\n",
              "    }\n",
              "</style>\n",
              "<table border=\"1\" class=\"dataframe\">\n",
              "  <thead>\n",
              "    <tr style=\"text-align: right;\">\n",
              "      <th></th>\n",
              "      <th>business_id</th>\n",
              "      <th>name</th>\n",
              "      <th>latitude</th>\n",
              "      <th>longitude</th>\n",
              "      <th>stars</th>\n",
              "      <th>review_count</th>\n",
              "      <th>open_Monday</th>\n",
              "      <th>open_Tuesday</th>\n",
              "      <th>open_Wednesday</th>\n",
              "      <th>open_Thursday</th>\n",
              "      <th>...</th>\n",
              "      <th>attribute_HasTV</th>\n",
              "      <th>attribute_Open24Hours</th>\n",
              "      <th>attribute_OutdoorSeating</th>\n",
              "      <th>attribute_RestaurantsCounterService</th>\n",
              "      <th>attribute_RestaurantsDelivery</th>\n",
              "      <th>attribute_RestaurantsGoodForGroups</th>\n",
              "      <th>attribute_RestaurantsReservations</th>\n",
              "      <th>attribute_RestaurantsTableService</th>\n",
              "      <th>attribute_RestaurantsTakeOut</th>\n",
              "      <th>attribute_WheelchairAccessible</th>\n",
              "    </tr>\n",
              "  </thead>\n",
              "  <tbody>\n",
              "    <tr>\n",
              "      <th>0</th>\n",
              "      <td>Pns2l4eNsfO8kk83dixA6A</td>\n",
              "      <td>Abby Rappoport, LAC, CMQ</td>\n",
              "      <td>34.426679</td>\n",
              "      <td>-119.711197</td>\n",
              "      <td>5.0</td>\n",
              "      <td>7</td>\n",
              "      <td>0</td>\n",
              "      <td>0</td>\n",
              "      <td>0</td>\n",
              "      <td>0</td>\n",
              "      <td>...</td>\n",
              "      <td>0</td>\n",
              "      <td>0</td>\n",
              "      <td>0</td>\n",
              "      <td>0</td>\n",
              "      <td>0</td>\n",
              "      <td>0</td>\n",
              "      <td>0</td>\n",
              "      <td>0</td>\n",
              "      <td>0</td>\n",
              "      <td>0</td>\n",
              "    </tr>\n",
              "    <tr>\n",
              "      <th>1</th>\n",
              "      <td>mpf3x-BjTdTEA3yCZrAYPw</td>\n",
              "      <td>The UPS Store</td>\n",
              "      <td>38.551126</td>\n",
              "      <td>-90.335695</td>\n",
              "      <td>3.0</td>\n",
              "      <td>15</td>\n",
              "      <td>0</td>\n",
              "      <td>800</td>\n",
              "      <td>800</td>\n",
              "      <td>800</td>\n",
              "      <td>...</td>\n",
              "      <td>0</td>\n",
              "      <td>0</td>\n",
              "      <td>0</td>\n",
              "      <td>0</td>\n",
              "      <td>0</td>\n",
              "      <td>0</td>\n",
              "      <td>0</td>\n",
              "      <td>0</td>\n",
              "      <td>0</td>\n",
              "      <td>0</td>\n",
              "    </tr>\n",
              "    <tr>\n",
              "      <th>2</th>\n",
              "      <td>tUFrWirKiKi_TAnsVWINQQ</td>\n",
              "      <td>Target</td>\n",
              "      <td>32.223236</td>\n",
              "      <td>-110.880452</td>\n",
              "      <td>3.5</td>\n",
              "      <td>22</td>\n",
              "      <td>800</td>\n",
              "      <td>800</td>\n",
              "      <td>800</td>\n",
              "      <td>800</td>\n",
              "      <td>...</td>\n",
              "      <td>0</td>\n",
              "      <td>0</td>\n",
              "      <td>0</td>\n",
              "      <td>0</td>\n",
              "      <td>0</td>\n",
              "      <td>0</td>\n",
              "      <td>0</td>\n",
              "      <td>0</td>\n",
              "      <td>0</td>\n",
              "      <td>1</td>\n",
              "    </tr>\n",
              "  </tbody>\n",
              "</table>\n",
              "<p>3 rows × 54 columns</p>\n",
              "</div>"
            ]
          },
          "metadata": {},
          "execution_count": 64
        }
      ]
    },
    {
      "cell_type": "code",
      "source": [
        "trans_yelp_business[trans_yelp_business.isna().any(axis=1)]\n",
        "# ya no hay nulos y los datos aún conservan el sentido"
      ],
      "metadata": {
        "colab": {
          "base_uri": "https://localhost:8080/",
          "height": 99
        },
        "id": "bcWi359o74ET",
        "outputId": "08f2377b-f236-4ccd-de4e-f7f9000d93b3"
      },
      "execution_count": null,
      "outputs": [
        {
          "output_type": "execute_result",
          "data": {
            "text/plain": [
              "Empty DataFrame\n",
              "Columns: [business_id, name, latitude, longitude, stars, review_count, open_Monday, open_Tuesday, open_Wednesday, open_Thursday, open_Friday, open_Saturday, open_Sunday, closing_Monday, closing_Tuesday, closing_Wednesday, closing_Thursday, closing_Friday, closing_Saturday, closing_Sunday, category_Automotive, category_Bars, category_Beauty & Spas, category_Food, category_Health & Medical, category_Home Services, category_Local Services, category_Nightlife, category_Restaurants, category_Shopping, attribute_AcceptsInsurance, attribute_BYOB, attribute_BikeParking, attribute_BusinessAcceptsBitcoin, attribute_BusinessAcceptsCreditCards, attribute_ByAppointmentOnly, attribute_Caters, attribute_CoatCheck, attribute_Corkage, attribute_DogsAllowed, attribute_DriveThru, attribute_GoodForDancing, attribute_GoodForKids, attribute_HappyHour, attribute_HasTV, attribute_Open24Hours, attribute_OutdoorSeating, attribute_RestaurantsCounterService, attribute_RestaurantsDelivery, attribute_RestaurantsGoodForGroups, attribute_RestaurantsReservations, attribute_RestaurantsTableService, attribute_RestaurantsTakeOut, attribute_WheelchairAccessible]\n",
              "Index: []\n",
              "\n",
              "[0 rows x 54 columns]"
            ],
            "text/html": [
              "<div>\n",
              "<style scoped>\n",
              "    .dataframe tbody tr th:only-of-type {\n",
              "        vertical-align: middle;\n",
              "    }\n",
              "\n",
              "    .dataframe tbody tr th {\n",
              "        vertical-align: top;\n",
              "    }\n",
              "\n",
              "    .dataframe thead th {\n",
              "        text-align: right;\n",
              "    }\n",
              "</style>\n",
              "<table border=\"1\" class=\"dataframe\">\n",
              "  <thead>\n",
              "    <tr style=\"text-align: right;\">\n",
              "      <th></th>\n",
              "      <th>business_id</th>\n",
              "      <th>name</th>\n",
              "      <th>latitude</th>\n",
              "      <th>longitude</th>\n",
              "      <th>stars</th>\n",
              "      <th>review_count</th>\n",
              "      <th>open_Monday</th>\n",
              "      <th>open_Tuesday</th>\n",
              "      <th>open_Wednesday</th>\n",
              "      <th>open_Thursday</th>\n",
              "      <th>...</th>\n",
              "      <th>attribute_HasTV</th>\n",
              "      <th>attribute_Open24Hours</th>\n",
              "      <th>attribute_OutdoorSeating</th>\n",
              "      <th>attribute_RestaurantsCounterService</th>\n",
              "      <th>attribute_RestaurantsDelivery</th>\n",
              "      <th>attribute_RestaurantsGoodForGroups</th>\n",
              "      <th>attribute_RestaurantsReservations</th>\n",
              "      <th>attribute_RestaurantsTableService</th>\n",
              "      <th>attribute_RestaurantsTakeOut</th>\n",
              "      <th>attribute_WheelchairAccessible</th>\n",
              "    </tr>\n",
              "  </thead>\n",
              "  <tbody>\n",
              "  </tbody>\n",
              "</table>\n",
              "<p>0 rows × 54 columns</p>\n",
              "</div>"
            ]
          },
          "metadata": {},
          "execution_count": 65
        }
      ]
    },
    {
      "cell_type": "code",
      "source": [
        "joblib.dump(trans_yelp_business,Path(yelp_processed_data,\"yelp_academic_dataset_business.joblib\"))"
      ],
      "metadata": {
        "colab": {
          "base_uri": "https://localhost:8080/"
        },
        "id": "zteqS2WCT-kf",
        "outputId": "9429f6c3-9d54-4436-e487-c39252b91e3a"
      },
      "execution_count": null,
      "outputs": [
        {
          "output_type": "execute_result",
          "data": {
            "text/plain": [
              "['processed_data\\\\yelp_academic_dataset_business.joblib']"
            ]
          },
          "metadata": {},
          "execution_count": 66
        }
      ]
    },
    {
      "cell_type": "code",
      "source": [
        "trans_yelp_business.to_json(Path(yelp_processed_data,\"yelp_academic_dataset_business_processed.json\"),orient=\"records\",date_format=\"iso\")"
      ],
      "metadata": {
        "id": "V8oM3Ur7AAxq"
      },
      "execution_count": null,
      "outputs": []
    },
    {
      "cell_type": "markdown",
      "source": [
        "### Tip"
      ],
      "metadata": {
        "id": "TLHXv2fzlyAi"
      }
    },
    {
      "cell_type": "code",
      "source": [
        "yelp_tip_data = reload_dframe(yelp_tip)"
      ],
      "metadata": {
        "id": "XkvlZM8TBaWj"
      },
      "execution_count": null,
      "outputs": []
    },
    {
      "cell_type": "code",
      "source": [
        "yelp_tip_data.head(3)"
      ],
      "metadata": {
        "colab": {
          "base_uri": "https://localhost:8080/",
          "height": 196
        },
        "id": "SFa0U_qYh45H",
        "outputId": "ce0175d9-a0a5-49a3-b891-37c0e5347c32"
      },
      "execution_count": null,
      "outputs": [
        {
          "output_type": "execute_result",
          "data": {
            "text/plain": [
              "                  user_id             business_id  \\\n",
              "0  AGNUgVwnZUey3gcPCJ76iw  3uLgwr0qeCNMjKenHJwPGQ   \n",
              "1  NBN4MgHP9D3cw--SnauTkA  QoezRbYQncpRqyrLH6Iqjg   \n",
              "2  -copOvldyKh1qr-vzkDEvw  MYoRNLb5chwjQe3c_k37Gg   \n",
              "\n",
              "                                                text                date  \\\n",
              "0                     Avengers time with the ladies. 2012-05-18 02:17:21   \n",
              "1  They have lots of good deserts and tasty cuban... 2013-02-05 18:35:10   \n",
              "2             It's open even when you think it isn't 2013-08-18 00:56:08   \n",
              "\n",
              "   compliment_count  \n",
              "0                 0  \n",
              "1                 0  \n",
              "2                 0  "
            ],
            "text/html": [
              "<div>\n",
              "<style scoped>\n",
              "    .dataframe tbody tr th:only-of-type {\n",
              "        vertical-align: middle;\n",
              "    }\n",
              "\n",
              "    .dataframe tbody tr th {\n",
              "        vertical-align: top;\n",
              "    }\n",
              "\n",
              "    .dataframe thead th {\n",
              "        text-align: right;\n",
              "    }\n",
              "</style>\n",
              "<table border=\"1\" class=\"dataframe\">\n",
              "  <thead>\n",
              "    <tr style=\"text-align: right;\">\n",
              "      <th></th>\n",
              "      <th>user_id</th>\n",
              "      <th>business_id</th>\n",
              "      <th>text</th>\n",
              "      <th>date</th>\n",
              "      <th>compliment_count</th>\n",
              "    </tr>\n",
              "  </thead>\n",
              "  <tbody>\n",
              "    <tr>\n",
              "      <th>0</th>\n",
              "      <td>AGNUgVwnZUey3gcPCJ76iw</td>\n",
              "      <td>3uLgwr0qeCNMjKenHJwPGQ</td>\n",
              "      <td>Avengers time with the ladies.</td>\n",
              "      <td>2012-05-18 02:17:21</td>\n",
              "      <td>0</td>\n",
              "    </tr>\n",
              "    <tr>\n",
              "      <th>1</th>\n",
              "      <td>NBN4MgHP9D3cw--SnauTkA</td>\n",
              "      <td>QoezRbYQncpRqyrLH6Iqjg</td>\n",
              "      <td>They have lots of good deserts and tasty cuban...</td>\n",
              "      <td>2013-02-05 18:35:10</td>\n",
              "      <td>0</td>\n",
              "    </tr>\n",
              "    <tr>\n",
              "      <th>2</th>\n",
              "      <td>-copOvldyKh1qr-vzkDEvw</td>\n",
              "      <td>MYoRNLb5chwjQe3c_k37Gg</td>\n",
              "      <td>It's open even when you think it isn't</td>\n",
              "      <td>2013-08-18 00:56:08</td>\n",
              "      <td>0</td>\n",
              "    </tr>\n",
              "  </tbody>\n",
              "</table>\n",
              "</div>"
            ]
          },
          "metadata": {},
          "execution_count": 25
        }
      ]
    },
    {
      "cell_type": "code",
      "source": [
        "yelp_tip_data.describe()"
      ],
      "metadata": {
        "colab": {
          "base_uri": "https://localhost:8080/",
          "height": 300
        },
        "id": "43d2XCr_8Hn0",
        "outputId": "251a3e4a-f2c8-43b0-c580-c86ef9704289"
      },
      "execution_count": null,
      "outputs": [
        {
          "output_type": "execute_result",
          "data": {
            "text/plain": [
              "       compliment_count\n",
              "count     908915.000000\n",
              "mean           0.012525\n",
              "std            0.120763\n",
              "min            0.000000\n",
              "25%            0.000000\n",
              "50%            0.000000\n",
              "75%            0.000000\n",
              "max            6.000000"
            ],
            "text/html": [
              "<div>\n",
              "<style scoped>\n",
              "    .dataframe tbody tr th:only-of-type {\n",
              "        vertical-align: middle;\n",
              "    }\n",
              "\n",
              "    .dataframe tbody tr th {\n",
              "        vertical-align: top;\n",
              "    }\n",
              "\n",
              "    .dataframe thead th {\n",
              "        text-align: right;\n",
              "    }\n",
              "</style>\n",
              "<table border=\"1\" class=\"dataframe\">\n",
              "  <thead>\n",
              "    <tr style=\"text-align: right;\">\n",
              "      <th></th>\n",
              "      <th>compliment_count</th>\n",
              "    </tr>\n",
              "  </thead>\n",
              "  <tbody>\n",
              "    <tr>\n",
              "      <th>count</th>\n",
              "      <td>908915.000000</td>\n",
              "    </tr>\n",
              "    <tr>\n",
              "      <th>mean</th>\n",
              "      <td>0.012525</td>\n",
              "    </tr>\n",
              "    <tr>\n",
              "      <th>std</th>\n",
              "      <td>0.120763</td>\n",
              "    </tr>\n",
              "    <tr>\n",
              "      <th>min</th>\n",
              "      <td>0.000000</td>\n",
              "    </tr>\n",
              "    <tr>\n",
              "      <th>25%</th>\n",
              "      <td>0.000000</td>\n",
              "    </tr>\n",
              "    <tr>\n",
              "      <th>50%</th>\n",
              "      <td>0.000000</td>\n",
              "    </tr>\n",
              "    <tr>\n",
              "      <th>75%</th>\n",
              "      <td>0.000000</td>\n",
              "    </tr>\n",
              "    <tr>\n",
              "      <th>max</th>\n",
              "      <td>6.000000</td>\n",
              "    </tr>\n",
              "  </tbody>\n",
              "</table>\n",
              "</div>"
            ]
          },
          "metadata": {},
          "execution_count": 26
        }
      ]
    },
    {
      "cell_type": "markdown",
      "source": [
        "No se usará para recomendar, pero se usará como complemento para los negocios que se le recomienden a un usuario. por lo que no se hará ninguna transformación"
      ],
      "metadata": {
        "id": "38Mp_jM8XJj6"
      }
    },
    {
      "cell_type": "markdown",
      "source": [
        " - Esto guarda un json listo para cargar a mongo,  lo único que cambia es volvelo una lista válida de jsons"
      ],
      "metadata": {
        "id": "gyhbTkxCIGD4"
      }
    },
    {
      "cell_type": "code",
      "source": [
        "joblib.dump(yelp_tip_data,Path(yelp_processed_data,\"yelp_academic_dataset_tip.joblib\"))\n",
        "yelp_tip_data.to_json(yelp_processed_data/\"yelp_academic_dataset_tip_processed.json\",orient=\"records\",date_format=\"iso\")"
      ],
      "metadata": {
        "id": "B9ZCYPHeWH_P"
      },
      "execution_count": null,
      "outputs": []
    },
    {
      "cell_type": "markdown",
      "source": [
        "### Checkin"
      ],
      "metadata": {
        "id": "Q64obX0Klzgu"
      }
    },
    {
      "cell_type": "code",
      "source": [
        "yelp_checkin_data = reload_dframe(yelp_checkin)"
      ],
      "metadata": {
        "id": "Z8-WmmNzBbzj"
      },
      "execution_count": null,
      "outputs": []
    },
    {
      "cell_type": "code",
      "source": [
        "yelp_checkin_data.head(3)"
      ],
      "metadata": {
        "colab": {
          "base_uri": "https://localhost:8080/",
          "height": 143
        },
        "id": "ikM84Lklh-2l",
        "outputId": "d5045766-8342-472c-ce7a-0a96b0daa21e"
      },
      "execution_count": null,
      "outputs": [
        {
          "output_type": "execute_result",
          "data": {
            "text/plain": [
              "              business_id                                               date\n",
              "0  ---kPU91CF4Lq2-WlRu9Lw  2020-03-13 21:10:56, 2020-06-02 22:18:06, 2020...\n",
              "1  --0iUa4sNDFiZFrAdIWhZQ  2010-09-13 21:43:09, 2011-05-04 23:08:15, 2011...\n",
              "2  --30_8IhuyMHbSOcNWd6DQ           2013-06-14 23:29:17, 2014-08-13 23:20:22"
            ],
            "text/html": [
              "<div>\n",
              "<style scoped>\n",
              "    .dataframe tbody tr th:only-of-type {\n",
              "        vertical-align: middle;\n",
              "    }\n",
              "\n",
              "    .dataframe tbody tr th {\n",
              "        vertical-align: top;\n",
              "    }\n",
              "\n",
              "    .dataframe thead th {\n",
              "        text-align: right;\n",
              "    }\n",
              "</style>\n",
              "<table border=\"1\" class=\"dataframe\">\n",
              "  <thead>\n",
              "    <tr style=\"text-align: right;\">\n",
              "      <th></th>\n",
              "      <th>business_id</th>\n",
              "      <th>date</th>\n",
              "    </tr>\n",
              "  </thead>\n",
              "  <tbody>\n",
              "    <tr>\n",
              "      <th>0</th>\n",
              "      <td>---kPU91CF4Lq2-WlRu9Lw</td>\n",
              "      <td>2020-03-13 21:10:56, 2020-06-02 22:18:06, 2020...</td>\n",
              "    </tr>\n",
              "    <tr>\n",
              "      <th>1</th>\n",
              "      <td>--0iUa4sNDFiZFrAdIWhZQ</td>\n",
              "      <td>2010-09-13 21:43:09, 2011-05-04 23:08:15, 2011...</td>\n",
              "    </tr>\n",
              "    <tr>\n",
              "      <th>2</th>\n",
              "      <td>--30_8IhuyMHbSOcNWd6DQ</td>\n",
              "      <td>2013-06-14 23:29:17, 2014-08-13 23:20:22</td>\n",
              "    </tr>\n",
              "  </tbody>\n",
              "</table>\n",
              "</div>"
            ]
          },
          "metadata": {},
          "execution_count": 28
        }
      ]
    },
    {
      "cell_type": "markdown",
      "source": [
        "La idea es usar esto para ver la cantidad de personas en promedio en cada día de la semana."
      ],
      "metadata": {
        "id": "G1-0VS-ZFyPn"
      }
    },
    {
      "cell_type": "code",
      "source": [
        "%%time\n",
        "yelp_checkin_data[\"date\"]=yelp_checkin_data[\"date\"].str.split(\",\")\n",
        "yelp_checkin_data[\"checkin_count\"]=yelp_checkin_data[\"date\"].apply(len)\n",
        "yelp_checkin_data.head(3)"
      ],
      "metadata": {
        "id": "ySMbO_oPnvA_",
        "colab": {
          "base_uri": "https://localhost:8080/",
          "height": 178
        },
        "outputId": "3b44209e-1e3c-482e-eff2-4343d604980a"
      },
      "execution_count": null,
      "outputs": [
        {
          "output_type": "stream",
          "name": "stdout",
          "text": [
            "CPU times: total: 1.09 s\n",
            "Wall time: 1.23 s\n"
          ]
        },
        {
          "output_type": "execute_result",
          "data": {
            "text/plain": [
              "              business_id                                               date  \\\n",
              "0  ---kPU91CF4Lq2-WlRu9Lw  [2020-03-13 21:10:56,  2020-06-02 22:18:06,  2...   \n",
              "1  --0iUa4sNDFiZFrAdIWhZQ  [2010-09-13 21:43:09,  2011-05-04 23:08:15,  2...   \n",
              "2  --30_8IhuyMHbSOcNWd6DQ        [2013-06-14 23:29:17,  2014-08-13 23:20:22]   \n",
              "\n",
              "   checkin_count  \n",
              "0             11  \n",
              "1             10  \n",
              "2              2  "
            ],
            "text/html": [
              "<div>\n",
              "<style scoped>\n",
              "    .dataframe tbody tr th:only-of-type {\n",
              "        vertical-align: middle;\n",
              "    }\n",
              "\n",
              "    .dataframe tbody tr th {\n",
              "        vertical-align: top;\n",
              "    }\n",
              "\n",
              "    .dataframe thead th {\n",
              "        text-align: right;\n",
              "    }\n",
              "</style>\n",
              "<table border=\"1\" class=\"dataframe\">\n",
              "  <thead>\n",
              "    <tr style=\"text-align: right;\">\n",
              "      <th></th>\n",
              "      <th>business_id</th>\n",
              "      <th>date</th>\n",
              "      <th>checkin_count</th>\n",
              "    </tr>\n",
              "  </thead>\n",
              "  <tbody>\n",
              "    <tr>\n",
              "      <th>0</th>\n",
              "      <td>---kPU91CF4Lq2-WlRu9Lw</td>\n",
              "      <td>[2020-03-13 21:10:56,  2020-06-02 22:18:06,  2...</td>\n",
              "      <td>11</td>\n",
              "    </tr>\n",
              "    <tr>\n",
              "      <th>1</th>\n",
              "      <td>--0iUa4sNDFiZFrAdIWhZQ</td>\n",
              "      <td>[2010-09-13 21:43:09,  2011-05-04 23:08:15,  2...</td>\n",
              "      <td>10</td>\n",
              "    </tr>\n",
              "    <tr>\n",
              "      <th>2</th>\n",
              "      <td>--30_8IhuyMHbSOcNWd6DQ</td>\n",
              "      <td>[2013-06-14 23:29:17,  2014-08-13 23:20:22]</td>\n",
              "      <td>2</td>\n",
              "    </tr>\n",
              "  </tbody>\n",
              "</table>\n",
              "</div>"
            ]
          },
          "metadata": {},
          "execution_count": 7
        }
      ]
    },
    {
      "cell_type": "code",
      "source": [
        "yelp_checkin_data.shape"
      ],
      "metadata": {
        "colab": {
          "base_uri": "https://localhost:8080/"
        },
        "id": "9KkHhf-tnl3o",
        "outputId": "7dc0a6bd-5acd-46b6-98cc-d41aba10e961"
      },
      "execution_count": null,
      "outputs": [
        {
          "output_type": "execute_result",
          "data": {
            "text/plain": [
              "(131930, 3)"
            ]
          },
          "metadata": {},
          "execution_count": 8
        }
      ]
    },
    {
      "cell_type": "code",
      "source": [
        "%%time\n",
        "yelp_checkin_data[\"date\"] = yelp_checkin_data['date'].apply(pd.to_datetime)\n",
        "yelp_checkin_data.head(3)"
      ],
      "metadata": {
        "colab": {
          "base_uri": "https://localhost:8080/",
          "height": 178
        },
        "id": "06A5i4eQGRFV",
        "outputId": "a8c9f87a-87c5-490d-b5f8-d751aefe3782"
      },
      "execution_count": null,
      "outputs": [
        {
          "output_type": "stream",
          "name": "stdout",
          "text": [
            "CPU times: total: 26.2 s\n",
            "Wall time: 30.2 s\n"
          ]
        },
        {
          "output_type": "execute_result",
          "data": {
            "text/plain": [
              "              business_id                                               date  \\\n",
              "0  ---kPU91CF4Lq2-WlRu9Lw  DatetimeIndex(['2020-03-13 21:10:56', '2020-06...   \n",
              "1  --0iUa4sNDFiZFrAdIWhZQ  DatetimeIndex(['2010-09-13 21:43:09', '2011-05...   \n",
              "2  --30_8IhuyMHbSOcNWd6DQ  DatetimeIndex(['2013-06-14 23:29:17', '2014-08...   \n",
              "\n",
              "   checkin_count  \n",
              "0             11  \n",
              "1             10  \n",
              "2              2  "
            ],
            "text/html": [
              "<div>\n",
              "<style scoped>\n",
              "    .dataframe tbody tr th:only-of-type {\n",
              "        vertical-align: middle;\n",
              "    }\n",
              "\n",
              "    .dataframe tbody tr th {\n",
              "        vertical-align: top;\n",
              "    }\n",
              "\n",
              "    .dataframe thead th {\n",
              "        text-align: right;\n",
              "    }\n",
              "</style>\n",
              "<table border=\"1\" class=\"dataframe\">\n",
              "  <thead>\n",
              "    <tr style=\"text-align: right;\">\n",
              "      <th></th>\n",
              "      <th>business_id</th>\n",
              "      <th>date</th>\n",
              "      <th>checkin_count</th>\n",
              "    </tr>\n",
              "  </thead>\n",
              "  <tbody>\n",
              "    <tr>\n",
              "      <th>0</th>\n",
              "      <td>---kPU91CF4Lq2-WlRu9Lw</td>\n",
              "      <td>DatetimeIndex(['2020-03-13 21:10:56', '2020-06...</td>\n",
              "      <td>11</td>\n",
              "    </tr>\n",
              "    <tr>\n",
              "      <th>1</th>\n",
              "      <td>--0iUa4sNDFiZFrAdIWhZQ</td>\n",
              "      <td>DatetimeIndex(['2010-09-13 21:43:09', '2011-05...</td>\n",
              "      <td>10</td>\n",
              "    </tr>\n",
              "    <tr>\n",
              "      <th>2</th>\n",
              "      <td>--30_8IhuyMHbSOcNWd6DQ</td>\n",
              "      <td>DatetimeIndex(['2013-06-14 23:29:17', '2014-08...</td>\n",
              "      <td>2</td>\n",
              "    </tr>\n",
              "  </tbody>\n",
              "</table>\n",
              "</div>"
            ]
          },
          "metadata": {},
          "execution_count": 9
        }
      ]
    },
    {
      "cell_type": "code",
      "source": [
        "days = [\"Monday\",\"Tuesday\",\"Wednesday\",\"Thursday\",\"Friday\",\"Saturday\",\"Sunday\"]"
      ],
      "metadata": {
        "id": "vCpq5xk6wEJl"
      },
      "execution_count": null,
      "outputs": []
    },
    {
      "cell_type": "code",
      "source": [
        "minvec = np.vectorize(lambda x: min(x))\n",
        "maxvec = np.vectorize(lambda x: max(x))\n",
        "minweekve = np.vectorize(lambda x: min(x.isocalendar().week))\n",
        "maxweekve = np.vectorize(lambda x: max(x.isocalendar().week))\n",
        "minyear=min(minvec(yelp_checkin_data[\"date\"])).year\n",
        "maxyear=max(maxvec(yelp_checkin_data[\"date\"])).year\n",
        "minweek=min(minweekve(yelp_checkin_data[\"date\"]))\n",
        "maxweek=max(maxweekve(yelp_checkin_data[\"date\"]))\n",
        "minyear,maxyear,minweek,maxweek"
      ],
      "metadata": {
        "colab": {
          "base_uri": "https://localhost:8080/"
        },
        "id": "mZsj0KE22XvL",
        "outputId": "fac6ad2c-3975-4609-b33d-28ee56c299bc"
      },
      "execution_count": null,
      "outputs": [
        {
          "output_type": "execute_result",
          "data": {
            "text/plain": [
              "(2009, 2022, 1, 53)"
            ]
          },
          "metadata": {},
          "execution_count": 14
        }
      ]
    },
    {
      "cell_type": "code",
      "source": [
        "totaldistinctdates = ((maxyear+1)-minyear)*((maxweek+1)-minweek)\n",
        "totaldistinctdates"
      ],
      "metadata": {
        "colab": {
          "base_uri": "https://localhost:8080/"
        },
        "id": "T3ySmsSG4OQs",
        "outputId": "d24889d9-1b50-4804-da40-0a2858149569"
      },
      "execution_count": null,
      "outputs": [
        {
          "output_type": "execute_result",
          "data": {
            "text/plain": [
              "742"
            ]
          },
          "metadata": {},
          "execution_count": 15
        }
      ]
    },
    {
      "cell_type": "code",
      "source": [
        "%%time\n",
        "# datesmap={bid:{'Monday': {},'Tuesday': {},'Wednesday': {},'Thursday': {},'Friday': {},'Saturday': {},'Sunday': {}} for bid in yelp_checkin_data[\"business_id\"]}\n",
        "datesmap={day:{bid:{} for bid in yelp_checkin_data[\"business_id\"]} for day in days}\n",
        "for row in yelp_checkin_data.itertuples(name=\"Checkin\"):\n",
        "  bid = row[1]\n",
        "  checkins = row[2]\n",
        "  for cki in checkins:\n",
        "    week,dayname=cki.isocalendar().week,cki.day_name()\n",
        "    if week in datesmap[dayname][bid]:\n",
        "      datesmap[dayname][bid][week]+=1\n",
        "    else:\n",
        "      datesmap[dayname][bid][week]=1\n",
        "  for day in days:\n",
        "    totaldaycheckins=sum(datesmap[day][bid].values())\n",
        "    datesmap[day][bid]=totaldaycheckins/totaldistinctdates"
      ],
      "metadata": {
        "colab": {
          "base_uri": "https://localhost:8080/"
        },
        "id": "j65PWTROtsje",
        "outputId": "8ae18238-b35b-49ef-a81a-5821b31ee768"
      },
      "execution_count": null,
      "outputs": [
        {
          "output_type": "stream",
          "name": "stdout",
          "text": [
            "CPU times: total: 49 s\n",
            "Wall time: 53.5 s\n"
          ]
        }
      ]
    },
    {
      "cell_type": "code",
      "source": [
        "datesmap[\"Monday\"][\"-QI8Qi8XWH3D8y8ethnajA\"] # 11.71"
      ],
      "metadata": {
        "colab": {
          "base_uri": "https://localhost:8080/"
        },
        "id": "v1AAkVASydsH",
        "outputId": "36e4b7e6-5934-41bd-9fcb-0095684b7e1c"
      },
      "execution_count": null,
      "outputs": [
        {
          "output_type": "execute_result",
          "data": {
            "text/plain": [
              "11.715633423180593"
            ]
          },
          "metadata": {},
          "execution_count": 17
        }
      ]
    },
    {
      "cell_type": "code",
      "source": [
        "for day,bidobj in datesmap.items():\n",
        "  yelp_checkin_data[f\"avg_{day}\"] = yelp_checkin_data[\"business_id\"].map(bidobj)\n"
      ],
      "metadata": {
        "id": "C5C_R92I8tYp"
      },
      "execution_count": null,
      "outputs": []
    },
    {
      "cell_type": "code",
      "source": [
        "\n",
        "yelp_checkin_data.drop([\"date\"],axis=1,inplace=True)"
      ],
      "metadata": {
        "id": "nLjmc7q6lThl"
      },
      "execution_count": null,
      "outputs": []
    },
    {
      "cell_type": "markdown",
      "source": [
        "Al final se tiene el conteo de visitas promedio por día de la semana"
      ],
      "metadata": {
        "id": "MxaYSNyUXs41"
      }
    },
    {
      "cell_type": "code",
      "source": [
        "yelp_checkin_data.nlargest(columns=\"avg_Monday\",n=3)"
      ],
      "metadata": {
        "colab": {
          "base_uri": "https://localhost:8080/",
          "height": 143
        },
        "id": "KyQqECg8Xz8U",
        "outputId": "c68d5afa-b0e5-4c2e-f6f1-64deb22cbdc9"
      },
      "execution_count": null,
      "outputs": [
        {
          "output_type": "execute_result",
          "data": {
            "text/plain": [
              "                  business_id  checkin_count  avg_Monday  avg_Tuesday  \\\n",
              "878    -QI8Qi8XWH3D8y8ethnajA          52144   11.715633     9.324798   \n",
              "83440  c_4c5rJECZSfNgFj7frwHQ          37518    8.799191     6.470350   \n",
              "32401  Eb1XmmLWyt_way5NNZ7-Pw          37562    8.192722     6.274933   \n",
              "\n",
              "       avg_Wednesday  avg_Thursday  avg_Friday  avg_Saturday  avg_Sunday  \n",
              "878         9.110512     10.346361   11.393531      8.661725    9.722372  \n",
              "83440       6.473046      7.588949    8.241240      6.156334    6.834232  \n",
              "32401       6.431267      7.650943    8.066038      6.929919    7.076819  "
            ],
            "text/html": [
              "<div>\n",
              "<style scoped>\n",
              "    .dataframe tbody tr th:only-of-type {\n",
              "        vertical-align: middle;\n",
              "    }\n",
              "\n",
              "    .dataframe tbody tr th {\n",
              "        vertical-align: top;\n",
              "    }\n",
              "\n",
              "    .dataframe thead th {\n",
              "        text-align: right;\n",
              "    }\n",
              "</style>\n",
              "<table border=\"1\" class=\"dataframe\">\n",
              "  <thead>\n",
              "    <tr style=\"text-align: right;\">\n",
              "      <th></th>\n",
              "      <th>business_id</th>\n",
              "      <th>checkin_count</th>\n",
              "      <th>avg_Monday</th>\n",
              "      <th>avg_Tuesday</th>\n",
              "      <th>avg_Wednesday</th>\n",
              "      <th>avg_Thursday</th>\n",
              "      <th>avg_Friday</th>\n",
              "      <th>avg_Saturday</th>\n",
              "      <th>avg_Sunday</th>\n",
              "    </tr>\n",
              "  </thead>\n",
              "  <tbody>\n",
              "    <tr>\n",
              "      <th>878</th>\n",
              "      <td>-QI8Qi8XWH3D8y8ethnajA</td>\n",
              "      <td>52144</td>\n",
              "      <td>11.715633</td>\n",
              "      <td>9.324798</td>\n",
              "      <td>9.110512</td>\n",
              "      <td>10.346361</td>\n",
              "      <td>11.393531</td>\n",
              "      <td>8.661725</td>\n",
              "      <td>9.722372</td>\n",
              "    </tr>\n",
              "    <tr>\n",
              "      <th>83440</th>\n",
              "      <td>c_4c5rJECZSfNgFj7frwHQ</td>\n",
              "      <td>37518</td>\n",
              "      <td>8.799191</td>\n",
              "      <td>6.470350</td>\n",
              "      <td>6.473046</td>\n",
              "      <td>7.588949</td>\n",
              "      <td>8.241240</td>\n",
              "      <td>6.156334</td>\n",
              "      <td>6.834232</td>\n",
              "    </tr>\n",
              "    <tr>\n",
              "      <th>32401</th>\n",
              "      <td>Eb1XmmLWyt_way5NNZ7-Pw</td>\n",
              "      <td>37562</td>\n",
              "      <td>8.192722</td>\n",
              "      <td>6.274933</td>\n",
              "      <td>6.431267</td>\n",
              "      <td>7.650943</td>\n",
              "      <td>8.066038</td>\n",
              "      <td>6.929919</td>\n",
              "      <td>7.076819</td>\n",
              "    </tr>\n",
              "  </tbody>\n",
              "</table>\n",
              "</div>"
            ]
          },
          "metadata": {},
          "execution_count": 20
        }
      ]
    },
    {
      "cell_type": "code",
      "source": [
        "joblib.dump(yelp_checkin_data,Path(yelp_processed_data,\"yelp_academic_dataset_checkin.joblib\"))\n",
        "yelp_checkin_data.to_json(yelp_processed_data/\"yelp_academic_dataset_checkin_processed.json\",orient=\"records\",date_format=\"iso\")"
      ],
      "metadata": {
        "id": "Yl5XdaDm_lyd"
      },
      "execution_count": null,
      "outputs": []
    },
    {
      "cell_type": "markdown",
      "source": [
        "### User"
      ],
      "metadata": {
        "id": "8YCTnGtPmCtW"
      }
    },
    {
      "cell_type": "code",
      "source": [
        "%%time\n",
        "yelp_user_data = reload_dframe(yelp_user)"
      ],
      "metadata": {
        "id": "blVk4kzRiAg5",
        "colab": {
          "base_uri": "https://localhost:8080/"
        },
        "outputId": "f77de114-9fce-4872-e9bb-1f579afabb9e"
      },
      "execution_count": null,
      "outputs": [
        {
          "output_type": "stream",
          "name": "stdout",
          "text": [
            "CPU times: total: 1.55 s\n",
            "Wall time: 12.6 s\n"
          ]
        }
      ]
    },
    {
      "cell_type": "code",
      "source": [
        "yelp_user_data.head(3)"
      ],
      "metadata": {
        "id": "3GUiqlM-iIkI",
        "colab": {
          "base_uri": "https://localhost:8080/",
          "height": 262
        },
        "outputId": "d834ba8c-6a1d-4494-8553-e31965393b9a"
      },
      "execution_count": null,
      "outputs": [
        {
          "output_type": "execute_result",
          "data": {
            "text/plain": [
              "                  user_id    name  review_count        yelping_since  useful  \\\n",
              "0  qVc8ODYU5SZjKXVBgXdI7w  Walker           585  2007-01-25 16:47:26    7217   \n",
              "1  j14WgRoU_-2ZE1aw1dXrJg  Daniel          4333  2009-01-25 04:35:42   43091   \n",
              "2  2WnXYQFK0hXEoTxPtV2zvg   Steph           665  2008-07-25 10:41:00    2086   \n",
              "\n",
              "   funny   cool                                              elite  \\\n",
              "0   1259   5994                                               2007   \n",
              "1  13066  27281  2009,2010,2011,2012,2013,2014,2015,2016,2017,2...   \n",
              "2   1010   1003                           2009,2010,2011,2012,2013   \n",
              "\n",
              "                                             friends  fans  ...  \\\n",
              "0  NSCy54eWehBJyZdG2iE84w, pe42u7DcCH2QmI81NX-8qA...   267  ...   \n",
              "1  ueRPE0CX75ePGMqOFVj6IQ, 52oH4DrRvzzl8wh5UXyU0A...  3138  ...   \n",
              "2  LuO3Bn4f3rlhyHIaNfTlnA, j9B4XdHUhDfTKVecyWQgyA...    52  ...   \n",
              "\n",
              "   compliment_more  compliment_profile  compliment_cute  compliment_list  \\\n",
              "0               65                  55               56               18   \n",
              "1              264                 184              157              251   \n",
              "2               13                  10               17                3   \n",
              "\n",
              "   compliment_note  compliment_plain  compliment_cool  compliment_funny  \\\n",
              "0              232               844              467               467   \n",
              "1             1847              7054             3131              3131   \n",
              "2               66                96              119               119   \n",
              "\n",
              "   compliment_writer  compliment_photos  \n",
              "0                239                180  \n",
              "1               1521               1946  \n",
              "2                 35                 18  \n",
              "\n",
              "[3 rows x 22 columns]"
            ],
            "text/html": [
              "<div>\n",
              "<style scoped>\n",
              "    .dataframe tbody tr th:only-of-type {\n",
              "        vertical-align: middle;\n",
              "    }\n",
              "\n",
              "    .dataframe tbody tr th {\n",
              "        vertical-align: top;\n",
              "    }\n",
              "\n",
              "    .dataframe thead th {\n",
              "        text-align: right;\n",
              "    }\n",
              "</style>\n",
              "<table border=\"1\" class=\"dataframe\">\n",
              "  <thead>\n",
              "    <tr style=\"text-align: right;\">\n",
              "      <th></th>\n",
              "      <th>user_id</th>\n",
              "      <th>name</th>\n",
              "      <th>review_count</th>\n",
              "      <th>yelping_since</th>\n",
              "      <th>useful</th>\n",
              "      <th>funny</th>\n",
              "      <th>cool</th>\n",
              "      <th>elite</th>\n",
              "      <th>friends</th>\n",
              "      <th>fans</th>\n",
              "      <th>...</th>\n",
              "      <th>compliment_more</th>\n",
              "      <th>compliment_profile</th>\n",
              "      <th>compliment_cute</th>\n",
              "      <th>compliment_list</th>\n",
              "      <th>compliment_note</th>\n",
              "      <th>compliment_plain</th>\n",
              "      <th>compliment_cool</th>\n",
              "      <th>compliment_funny</th>\n",
              "      <th>compliment_writer</th>\n",
              "      <th>compliment_photos</th>\n",
              "    </tr>\n",
              "  </thead>\n",
              "  <tbody>\n",
              "    <tr>\n",
              "      <th>0</th>\n",
              "      <td>qVc8ODYU5SZjKXVBgXdI7w</td>\n",
              "      <td>Walker</td>\n",
              "      <td>585</td>\n",
              "      <td>2007-01-25 16:47:26</td>\n",
              "      <td>7217</td>\n",
              "      <td>1259</td>\n",
              "      <td>5994</td>\n",
              "      <td>2007</td>\n",
              "      <td>NSCy54eWehBJyZdG2iE84w, pe42u7DcCH2QmI81NX-8qA...</td>\n",
              "      <td>267</td>\n",
              "      <td>...</td>\n",
              "      <td>65</td>\n",
              "      <td>55</td>\n",
              "      <td>56</td>\n",
              "      <td>18</td>\n",
              "      <td>232</td>\n",
              "      <td>844</td>\n",
              "      <td>467</td>\n",
              "      <td>467</td>\n",
              "      <td>239</td>\n",
              "      <td>180</td>\n",
              "    </tr>\n",
              "    <tr>\n",
              "      <th>1</th>\n",
              "      <td>j14WgRoU_-2ZE1aw1dXrJg</td>\n",
              "      <td>Daniel</td>\n",
              "      <td>4333</td>\n",
              "      <td>2009-01-25 04:35:42</td>\n",
              "      <td>43091</td>\n",
              "      <td>13066</td>\n",
              "      <td>27281</td>\n",
              "      <td>2009,2010,2011,2012,2013,2014,2015,2016,2017,2...</td>\n",
              "      <td>ueRPE0CX75ePGMqOFVj6IQ, 52oH4DrRvzzl8wh5UXyU0A...</td>\n",
              "      <td>3138</td>\n",
              "      <td>...</td>\n",
              "      <td>264</td>\n",
              "      <td>184</td>\n",
              "      <td>157</td>\n",
              "      <td>251</td>\n",
              "      <td>1847</td>\n",
              "      <td>7054</td>\n",
              "      <td>3131</td>\n",
              "      <td>3131</td>\n",
              "      <td>1521</td>\n",
              "      <td>1946</td>\n",
              "    </tr>\n",
              "    <tr>\n",
              "      <th>2</th>\n",
              "      <td>2WnXYQFK0hXEoTxPtV2zvg</td>\n",
              "      <td>Steph</td>\n",
              "      <td>665</td>\n",
              "      <td>2008-07-25 10:41:00</td>\n",
              "      <td>2086</td>\n",
              "      <td>1010</td>\n",
              "      <td>1003</td>\n",
              "      <td>2009,2010,2011,2012,2013</td>\n",
              "      <td>LuO3Bn4f3rlhyHIaNfTlnA, j9B4XdHUhDfTKVecyWQgyA...</td>\n",
              "      <td>52</td>\n",
              "      <td>...</td>\n",
              "      <td>13</td>\n",
              "      <td>10</td>\n",
              "      <td>17</td>\n",
              "      <td>3</td>\n",
              "      <td>66</td>\n",
              "      <td>96</td>\n",
              "      <td>119</td>\n",
              "      <td>119</td>\n",
              "      <td>35</td>\n",
              "      <td>18</td>\n",
              "    </tr>\n",
              "  </tbody>\n",
              "</table>\n",
              "<p>3 rows × 22 columns</p>\n",
              "</div>"
            ]
          },
          "metadata": {},
          "execution_count": 30
        }
      ]
    },
    {
      "cell_type": "code",
      "source": [
        "len(yelp_user_data.index)"
      ],
      "metadata": {
        "colab": {
          "base_uri": "https://localhost:8080/"
        },
        "id": "0-hgU_Yl_yXj",
        "outputId": "6d8b8f94-a829-452f-8d8d-dd0c06a77190"
      },
      "execution_count": null,
      "outputs": [
        {
          "output_type": "execute_result",
          "data": {
            "text/plain": [
              "1987897"
            ]
          },
          "metadata": {},
          "execution_count": 32
        }
      ]
    },
    {
      "cell_type": "code",
      "source": [
        "yelp_user_data.describe()"
      ],
      "metadata": {
        "colab": {
          "base_uri": "https://localhost:8080/",
          "height": 320
        },
        "id": "4uVZTzDH_sg1",
        "outputId": "1a8b8004-746d-428e-ac18-44b55afbc47a"
      },
      "execution_count": null,
      "outputs": [
        {
          "output_type": "execute_result",
          "data": {
            "text/plain": [
              "       review_count        useful         funny          cool          fans  \\\n",
              "count  1.987897e+06  1.987897e+06  1.987897e+06  1.987897e+06  1.987897e+06   \n",
              "mean   2.339441e+01  4.229634e+01  1.697054e+01  2.379291e+01  1.465740e+00   \n",
              "std    8.256699e+01  6.414806e+02  4.078034e+02  5.653513e+02  1.813075e+01   \n",
              "min    0.000000e+00  0.000000e+00  0.000000e+00  0.000000e+00  0.000000e+00   \n",
              "25%    2.000000e+00  0.000000e+00  0.000000e+00  0.000000e+00  0.000000e+00   \n",
              "50%    5.000000e+00  3.000000e+00  0.000000e+00  0.000000e+00  0.000000e+00   \n",
              "75%    1.700000e+01  1.300000e+01  2.000000e+00  3.000000e+00  0.000000e+00   \n",
              "max    1.747300e+04  2.062960e+05  1.858230e+05  1.998780e+05  1.249700e+04   \n",
              "\n",
              "       average_stars  compliment_hot  compliment_more  compliment_profile  \\\n",
              "count   1.987897e+06    1.987897e+06     1.987897e+06        1.987897e+06   \n",
              "mean    3.630494e+00    1.807072e+00     2.922631e-01        1.793176e-01   \n",
              "std     1.183337e+00    7.360184e+01     1.282467e+01        1.515525e+01   \n",
              "min     1.000000e+00    0.000000e+00     0.000000e+00        0.000000e+00   \n",
              "25%     3.000000e+00    0.000000e+00     0.000000e+00        0.000000e+00   \n",
              "50%     3.880000e+00    0.000000e+00     0.000000e+00        0.000000e+00   \n",
              "75%     4.560000e+00    0.000000e+00     0.000000e+00        0.000000e+00   \n",
              "max     5.000000e+00    2.578400e+04     1.350100e+04        1.418000e+04   \n",
              "\n",
              "       compliment_cute  compliment_list  compliment_note  compliment_plain  \\\n",
              "count     1.987897e+06     1.987897e+06     1.987897e+06      1.987897e+06   \n",
              "mean      1.336493e-01     6.390723e-02     1.443135e+00      3.011841e+00   \n",
              "std       1.135682e+01     1.004363e+01     6.016790e+01      1.193898e+02   \n",
              "min       0.000000e+00     0.000000e+00     0.000000e+00      0.000000e+00   \n",
              "25%       0.000000e+00     0.000000e+00     0.000000e+00      0.000000e+00   \n",
              "50%       0.000000e+00     0.000000e+00     0.000000e+00      0.000000e+00   \n",
              "75%       0.000000e+00     0.000000e+00     0.000000e+00      0.000000e+00   \n",
              "max       1.365400e+04     1.266900e+04     5.903100e+04      1.010970e+05   \n",
              "\n",
              "       compliment_cool  compliment_funny  compliment_writer  compliment_photos  \n",
              "count     1.987897e+06      1.987897e+06       1.987897e+06       1.987897e+06  \n",
              "mean      2.829308e+00      2.829308e+00       1.056448e+00       1.226859e+00  \n",
              "std       9.666385e+01      9.666385e+01       3.217973e+01       9.515751e+01  \n",
              "min       0.000000e+00      0.000000e+00       0.000000e+00       0.000000e+00  \n",
              "25%       0.000000e+00      0.000000e+00       0.000000e+00       0.000000e+00  \n",
              "50%       0.000000e+00      0.000000e+00       0.000000e+00       0.000000e+00  \n",
              "75%       0.000000e+00      0.000000e+00       0.000000e+00       0.000000e+00  \n",
              "max       4.996700e+04      4.996700e+04       1.593400e+04       8.263000e+04  "
            ],
            "text/html": [
              "<div>\n",
              "<style scoped>\n",
              "    .dataframe tbody tr th:only-of-type {\n",
              "        vertical-align: middle;\n",
              "    }\n",
              "\n",
              "    .dataframe tbody tr th {\n",
              "        vertical-align: top;\n",
              "    }\n",
              "\n",
              "    .dataframe thead th {\n",
              "        text-align: right;\n",
              "    }\n",
              "</style>\n",
              "<table border=\"1\" class=\"dataframe\">\n",
              "  <thead>\n",
              "    <tr style=\"text-align: right;\">\n",
              "      <th></th>\n",
              "      <th>review_count</th>\n",
              "      <th>useful</th>\n",
              "      <th>funny</th>\n",
              "      <th>cool</th>\n",
              "      <th>fans</th>\n",
              "      <th>average_stars</th>\n",
              "      <th>compliment_hot</th>\n",
              "      <th>compliment_more</th>\n",
              "      <th>compliment_profile</th>\n",
              "      <th>compliment_cute</th>\n",
              "      <th>compliment_list</th>\n",
              "      <th>compliment_note</th>\n",
              "      <th>compliment_plain</th>\n",
              "      <th>compliment_cool</th>\n",
              "      <th>compliment_funny</th>\n",
              "      <th>compliment_writer</th>\n",
              "      <th>compliment_photos</th>\n",
              "    </tr>\n",
              "  </thead>\n",
              "  <tbody>\n",
              "    <tr>\n",
              "      <th>count</th>\n",
              "      <td>1.987897e+06</td>\n",
              "      <td>1.987897e+06</td>\n",
              "      <td>1.987897e+06</td>\n",
              "      <td>1.987897e+06</td>\n",
              "      <td>1.987897e+06</td>\n",
              "      <td>1.987897e+06</td>\n",
              "      <td>1.987897e+06</td>\n",
              "      <td>1.987897e+06</td>\n",
              "      <td>1.987897e+06</td>\n",
              "      <td>1.987897e+06</td>\n",
              "      <td>1.987897e+06</td>\n",
              "      <td>1.987897e+06</td>\n",
              "      <td>1.987897e+06</td>\n",
              "      <td>1.987897e+06</td>\n",
              "      <td>1.987897e+06</td>\n",
              "      <td>1.987897e+06</td>\n",
              "      <td>1.987897e+06</td>\n",
              "    </tr>\n",
              "    <tr>\n",
              "      <th>mean</th>\n",
              "      <td>2.339441e+01</td>\n",
              "      <td>4.229634e+01</td>\n",
              "      <td>1.697054e+01</td>\n",
              "      <td>2.379291e+01</td>\n",
              "      <td>1.465740e+00</td>\n",
              "      <td>3.630494e+00</td>\n",
              "      <td>1.807072e+00</td>\n",
              "      <td>2.922631e-01</td>\n",
              "      <td>1.793176e-01</td>\n",
              "      <td>1.336493e-01</td>\n",
              "      <td>6.390723e-02</td>\n",
              "      <td>1.443135e+00</td>\n",
              "      <td>3.011841e+00</td>\n",
              "      <td>2.829308e+00</td>\n",
              "      <td>2.829308e+00</td>\n",
              "      <td>1.056448e+00</td>\n",
              "      <td>1.226859e+00</td>\n",
              "    </tr>\n",
              "    <tr>\n",
              "      <th>std</th>\n",
              "      <td>8.256699e+01</td>\n",
              "      <td>6.414806e+02</td>\n",
              "      <td>4.078034e+02</td>\n",
              "      <td>5.653513e+02</td>\n",
              "      <td>1.813075e+01</td>\n",
              "      <td>1.183337e+00</td>\n",
              "      <td>7.360184e+01</td>\n",
              "      <td>1.282467e+01</td>\n",
              "      <td>1.515525e+01</td>\n",
              "      <td>1.135682e+01</td>\n",
              "      <td>1.004363e+01</td>\n",
              "      <td>6.016790e+01</td>\n",
              "      <td>1.193898e+02</td>\n",
              "      <td>9.666385e+01</td>\n",
              "      <td>9.666385e+01</td>\n",
              "      <td>3.217973e+01</td>\n",
              "      <td>9.515751e+01</td>\n",
              "    </tr>\n",
              "    <tr>\n",
              "      <th>min</th>\n",
              "      <td>0.000000e+00</td>\n",
              "      <td>0.000000e+00</td>\n",
              "      <td>0.000000e+00</td>\n",
              "      <td>0.000000e+00</td>\n",
              "      <td>0.000000e+00</td>\n",
              "      <td>1.000000e+00</td>\n",
              "      <td>0.000000e+00</td>\n",
              "      <td>0.000000e+00</td>\n",
              "      <td>0.000000e+00</td>\n",
              "      <td>0.000000e+00</td>\n",
              "      <td>0.000000e+00</td>\n",
              "      <td>0.000000e+00</td>\n",
              "      <td>0.000000e+00</td>\n",
              "      <td>0.000000e+00</td>\n",
              "      <td>0.000000e+00</td>\n",
              "      <td>0.000000e+00</td>\n",
              "      <td>0.000000e+00</td>\n",
              "    </tr>\n",
              "    <tr>\n",
              "      <th>25%</th>\n",
              "      <td>2.000000e+00</td>\n",
              "      <td>0.000000e+00</td>\n",
              "      <td>0.000000e+00</td>\n",
              "      <td>0.000000e+00</td>\n",
              "      <td>0.000000e+00</td>\n",
              "      <td>3.000000e+00</td>\n",
              "      <td>0.000000e+00</td>\n",
              "      <td>0.000000e+00</td>\n",
              "      <td>0.000000e+00</td>\n",
              "      <td>0.000000e+00</td>\n",
              "      <td>0.000000e+00</td>\n",
              "      <td>0.000000e+00</td>\n",
              "      <td>0.000000e+00</td>\n",
              "      <td>0.000000e+00</td>\n",
              "      <td>0.000000e+00</td>\n",
              "      <td>0.000000e+00</td>\n",
              "      <td>0.000000e+00</td>\n",
              "    </tr>\n",
              "    <tr>\n",
              "      <th>50%</th>\n",
              "      <td>5.000000e+00</td>\n",
              "      <td>3.000000e+00</td>\n",
              "      <td>0.000000e+00</td>\n",
              "      <td>0.000000e+00</td>\n",
              "      <td>0.000000e+00</td>\n",
              "      <td>3.880000e+00</td>\n",
              "      <td>0.000000e+00</td>\n",
              "      <td>0.000000e+00</td>\n",
              "      <td>0.000000e+00</td>\n",
              "      <td>0.000000e+00</td>\n",
              "      <td>0.000000e+00</td>\n",
              "      <td>0.000000e+00</td>\n",
              "      <td>0.000000e+00</td>\n",
              "      <td>0.000000e+00</td>\n",
              "      <td>0.000000e+00</td>\n",
              "      <td>0.000000e+00</td>\n",
              "      <td>0.000000e+00</td>\n",
              "    </tr>\n",
              "    <tr>\n",
              "      <th>75%</th>\n",
              "      <td>1.700000e+01</td>\n",
              "      <td>1.300000e+01</td>\n",
              "      <td>2.000000e+00</td>\n",
              "      <td>3.000000e+00</td>\n",
              "      <td>0.000000e+00</td>\n",
              "      <td>4.560000e+00</td>\n",
              "      <td>0.000000e+00</td>\n",
              "      <td>0.000000e+00</td>\n",
              "      <td>0.000000e+00</td>\n",
              "      <td>0.000000e+00</td>\n",
              "      <td>0.000000e+00</td>\n",
              "      <td>0.000000e+00</td>\n",
              "      <td>0.000000e+00</td>\n",
              "      <td>0.000000e+00</td>\n",
              "      <td>0.000000e+00</td>\n",
              "      <td>0.000000e+00</td>\n",
              "      <td>0.000000e+00</td>\n",
              "    </tr>\n",
              "    <tr>\n",
              "      <th>max</th>\n",
              "      <td>1.747300e+04</td>\n",
              "      <td>2.062960e+05</td>\n",
              "      <td>1.858230e+05</td>\n",
              "      <td>1.998780e+05</td>\n",
              "      <td>1.249700e+04</td>\n",
              "      <td>5.000000e+00</td>\n",
              "      <td>2.578400e+04</td>\n",
              "      <td>1.350100e+04</td>\n",
              "      <td>1.418000e+04</td>\n",
              "      <td>1.365400e+04</td>\n",
              "      <td>1.266900e+04</td>\n",
              "      <td>5.903100e+04</td>\n",
              "      <td>1.010970e+05</td>\n",
              "      <td>4.996700e+04</td>\n",
              "      <td>4.996700e+04</td>\n",
              "      <td>1.593400e+04</td>\n",
              "      <td>8.263000e+04</td>\n",
              "    </tr>\n",
              "  </tbody>\n",
              "</table>\n",
              "</div>"
            ]
          },
          "metadata": {},
          "execution_count": 31
        }
      ]
    },
    {
      "cell_type": "code",
      "source": [
        "yelp_user_data.columns"
      ],
      "metadata": {
        "id": "QEOcMDVkMz6z",
        "colab": {
          "base_uri": "https://localhost:8080/"
        },
        "outputId": "595bdf83-1ead-4701-d541-ee1bf9e88fd2"
      },
      "execution_count": null,
      "outputs": [
        {
          "output_type": "execute_result",
          "data": {
            "text/plain": [
              "Index(['user_id', 'name', 'review_count', 'yelping_since', 'useful', 'funny',\n",
              "       'cool', 'elite', 'friends', 'fans', 'average_stars', 'compliment_hot',\n",
              "       'compliment_more', 'compliment_profile', 'compliment_cute',\n",
              "       'compliment_list', 'compliment_note', 'compliment_plain',\n",
              "       'compliment_cool', 'compliment_funny', 'compliment_writer',\n",
              "       'compliment_photos'],\n",
              "      dtype='object')"
            ]
          },
          "metadata": {},
          "execution_count": 22
        }
      ]
    },
    {
      "cell_type": "markdown",
      "source": [
        "\n",
        " - Se elimina el Name porque no aporta información útil\n",
        " "
      ],
      "metadata": {
        "id": "S4Dxlx4NO5ap"
      }
    },
    {
      "cell_type": "code",
      "source": [
        "processed_yelp_user_data = yelp_user_data.drop(columns=[\"name\"])\n",
        "processed_yelp_user_data.head(3)"
      ],
      "metadata": {
        "id": "eRz7fT3vUJCy",
        "colab": {
          "base_uri": "https://localhost:8080/",
          "height": 262
        },
        "outputId": "566e5d56-7ce8-4eeb-bede-0c85538c1439"
      },
      "execution_count": null,
      "outputs": [
        {
          "output_type": "execute_result",
          "data": {
            "text/plain": [
              "                  user_id  review_count        yelping_since  useful  funny  \\\n",
              "0  qVc8ODYU5SZjKXVBgXdI7w           585  2007-01-25 16:47:26    7217   1259   \n",
              "1  j14WgRoU_-2ZE1aw1dXrJg          4333  2009-01-25 04:35:42   43091  13066   \n",
              "2  2WnXYQFK0hXEoTxPtV2zvg           665  2008-07-25 10:41:00    2086   1010   \n",
              "\n",
              "    cool                                              elite  \\\n",
              "0   5994                                               2007   \n",
              "1  27281  2009,2010,2011,2012,2013,2014,2015,2016,2017,2...   \n",
              "2   1003                           2009,2010,2011,2012,2013   \n",
              "\n",
              "                                             friends  fans  average_stars  \\\n",
              "0  NSCy54eWehBJyZdG2iE84w, pe42u7DcCH2QmI81NX-8qA...   267           3.91   \n",
              "1  ueRPE0CX75ePGMqOFVj6IQ, 52oH4DrRvzzl8wh5UXyU0A...  3138           3.74   \n",
              "2  LuO3Bn4f3rlhyHIaNfTlnA, j9B4XdHUhDfTKVecyWQgyA...    52           3.32   \n",
              "\n",
              "   ...  compliment_more  compliment_profile  compliment_cute  compliment_list  \\\n",
              "0  ...               65                  55               56               18   \n",
              "1  ...              264                 184              157              251   \n",
              "2  ...               13                  10               17                3   \n",
              "\n",
              "   compliment_note  compliment_plain  compliment_cool  compliment_funny  \\\n",
              "0              232               844              467               467   \n",
              "1             1847              7054             3131              3131   \n",
              "2               66                96              119               119   \n",
              "\n",
              "   compliment_writer  compliment_photos  \n",
              "0                239                180  \n",
              "1               1521               1946  \n",
              "2                 35                 18  \n",
              "\n",
              "[3 rows x 21 columns]"
            ],
            "text/html": [
              "<div>\n",
              "<style scoped>\n",
              "    .dataframe tbody tr th:only-of-type {\n",
              "        vertical-align: middle;\n",
              "    }\n",
              "\n",
              "    .dataframe tbody tr th {\n",
              "        vertical-align: top;\n",
              "    }\n",
              "\n",
              "    .dataframe thead th {\n",
              "        text-align: right;\n",
              "    }\n",
              "</style>\n",
              "<table border=\"1\" class=\"dataframe\">\n",
              "  <thead>\n",
              "    <tr style=\"text-align: right;\">\n",
              "      <th></th>\n",
              "      <th>user_id</th>\n",
              "      <th>review_count</th>\n",
              "      <th>yelping_since</th>\n",
              "      <th>useful</th>\n",
              "      <th>funny</th>\n",
              "      <th>cool</th>\n",
              "      <th>elite</th>\n",
              "      <th>friends</th>\n",
              "      <th>fans</th>\n",
              "      <th>average_stars</th>\n",
              "      <th>...</th>\n",
              "      <th>compliment_more</th>\n",
              "      <th>compliment_profile</th>\n",
              "      <th>compliment_cute</th>\n",
              "      <th>compliment_list</th>\n",
              "      <th>compliment_note</th>\n",
              "      <th>compliment_plain</th>\n",
              "      <th>compliment_cool</th>\n",
              "      <th>compliment_funny</th>\n",
              "      <th>compliment_writer</th>\n",
              "      <th>compliment_photos</th>\n",
              "    </tr>\n",
              "  </thead>\n",
              "  <tbody>\n",
              "    <tr>\n",
              "      <th>0</th>\n",
              "      <td>qVc8ODYU5SZjKXVBgXdI7w</td>\n",
              "      <td>585</td>\n",
              "      <td>2007-01-25 16:47:26</td>\n",
              "      <td>7217</td>\n",
              "      <td>1259</td>\n",
              "      <td>5994</td>\n",
              "      <td>2007</td>\n",
              "      <td>NSCy54eWehBJyZdG2iE84w, pe42u7DcCH2QmI81NX-8qA...</td>\n",
              "      <td>267</td>\n",
              "      <td>3.91</td>\n",
              "      <td>...</td>\n",
              "      <td>65</td>\n",
              "      <td>55</td>\n",
              "      <td>56</td>\n",
              "      <td>18</td>\n",
              "      <td>232</td>\n",
              "      <td>844</td>\n",
              "      <td>467</td>\n",
              "      <td>467</td>\n",
              "      <td>239</td>\n",
              "      <td>180</td>\n",
              "    </tr>\n",
              "    <tr>\n",
              "      <th>1</th>\n",
              "      <td>j14WgRoU_-2ZE1aw1dXrJg</td>\n",
              "      <td>4333</td>\n",
              "      <td>2009-01-25 04:35:42</td>\n",
              "      <td>43091</td>\n",
              "      <td>13066</td>\n",
              "      <td>27281</td>\n",
              "      <td>2009,2010,2011,2012,2013,2014,2015,2016,2017,2...</td>\n",
              "      <td>ueRPE0CX75ePGMqOFVj6IQ, 52oH4DrRvzzl8wh5UXyU0A...</td>\n",
              "      <td>3138</td>\n",
              "      <td>3.74</td>\n",
              "      <td>...</td>\n",
              "      <td>264</td>\n",
              "      <td>184</td>\n",
              "      <td>157</td>\n",
              "      <td>251</td>\n",
              "      <td>1847</td>\n",
              "      <td>7054</td>\n",
              "      <td>3131</td>\n",
              "      <td>3131</td>\n",
              "      <td>1521</td>\n",
              "      <td>1946</td>\n",
              "    </tr>\n",
              "    <tr>\n",
              "      <th>2</th>\n",
              "      <td>2WnXYQFK0hXEoTxPtV2zvg</td>\n",
              "      <td>665</td>\n",
              "      <td>2008-07-25 10:41:00</td>\n",
              "      <td>2086</td>\n",
              "      <td>1010</td>\n",
              "      <td>1003</td>\n",
              "      <td>2009,2010,2011,2012,2013</td>\n",
              "      <td>LuO3Bn4f3rlhyHIaNfTlnA, j9B4XdHUhDfTKVecyWQgyA...</td>\n",
              "      <td>52</td>\n",
              "      <td>3.32</td>\n",
              "      <td>...</td>\n",
              "      <td>13</td>\n",
              "      <td>10</td>\n",
              "      <td>17</td>\n",
              "      <td>3</td>\n",
              "      <td>66</td>\n",
              "      <td>96</td>\n",
              "      <td>119</td>\n",
              "      <td>119</td>\n",
              "      <td>35</td>\n",
              "      <td>18</td>\n",
              "    </tr>\n",
              "  </tbody>\n",
              "</table>\n",
              "<p>3 rows × 21 columns</p>\n",
              "</div>"
            ]
          },
          "metadata": {},
          "execution_count": 23
        }
      ]
    },
    {
      "cell_type": "markdown",
      "source": [
        "\n",
        " - \"yelping_since\" se cambia de la fecha de registro a \"days_yelping\", que corresponde a los días que el usuario lleva registrado en la plataforma (luego, un usuario más antiguo tiene más peso/credibilidad)"
      ],
      "metadata": {
        "id": "zuh7_k0jUIGR"
      }
    },
    {
      "cell_type": "code",
      "source": [
        "today = datetime.datetime.now()\n",
        "calculate=np.vectorize(lambda x: (today - pd.to_datetime(x)).days)\n",
        "processed_yelp_user_data[\"days_yelping\"]= calculate(yelp_user_data[\"yelping_since\"])\n",
        "processed_yelp_user_data.drop(columns=[\"yelping_since\"],inplace=True)\n",
        "processed_yelp_user_data.head(3)"
      ],
      "metadata": {
        "id": "eZ5BvCZbUN85",
        "colab": {
          "base_uri": "https://localhost:8080/",
          "height": 262
        },
        "outputId": "2d1a4fcd-3373-4f47-9485-92da2e91b2be"
      },
      "execution_count": null,
      "outputs": [
        {
          "output_type": "execute_result",
          "data": {
            "text/plain": [
              "                  user_id  review_count  useful  funny   cool  \\\n",
              "0  qVc8ODYU5SZjKXVBgXdI7w           585    7217   1259   5994   \n",
              "1  j14WgRoU_-2ZE1aw1dXrJg          4333   43091  13066  27281   \n",
              "2  2WnXYQFK0hXEoTxPtV2zvg           665    2086   1010   1003   \n",
              "\n",
              "                                               elite  \\\n",
              "0                                               2007   \n",
              "1  2009,2010,2011,2012,2013,2014,2015,2016,2017,2...   \n",
              "2                           2009,2010,2011,2012,2013   \n",
              "\n",
              "                                             friends  fans  average_stars  \\\n",
              "0  NSCy54eWehBJyZdG2iE84w, pe42u7DcCH2QmI81NX-8qA...   267           3.91   \n",
              "1  ueRPE0CX75ePGMqOFVj6IQ, 52oH4DrRvzzl8wh5UXyU0A...  3138           3.74   \n",
              "2  LuO3Bn4f3rlhyHIaNfTlnA, j9B4XdHUhDfTKVecyWQgyA...    52           3.32   \n",
              "\n",
              "   compliment_hot  ...  compliment_profile  compliment_cute  compliment_list  \\\n",
              "0             250  ...                  55               56               18   \n",
              "1            1145  ...                 184              157              251   \n",
              "2              89  ...                  10               17                3   \n",
              "\n",
              "   compliment_note  compliment_plain  compliment_cool  compliment_funny  \\\n",
              "0              232               844              467               467   \n",
              "1             1847              7054             3131              3131   \n",
              "2               66                96              119               119   \n",
              "\n",
              "   compliment_writer  compliment_photos  days_yelping  \n",
              "0                239                180          5948  \n",
              "1               1521               1946          5218  \n",
              "2                 35                 18          5401  \n",
              "\n",
              "[3 rows x 21 columns]"
            ],
            "text/html": [
              "<div>\n",
              "<style scoped>\n",
              "    .dataframe tbody tr th:only-of-type {\n",
              "        vertical-align: middle;\n",
              "    }\n",
              "\n",
              "    .dataframe tbody tr th {\n",
              "        vertical-align: top;\n",
              "    }\n",
              "\n",
              "    .dataframe thead th {\n",
              "        text-align: right;\n",
              "    }\n",
              "</style>\n",
              "<table border=\"1\" class=\"dataframe\">\n",
              "  <thead>\n",
              "    <tr style=\"text-align: right;\">\n",
              "      <th></th>\n",
              "      <th>user_id</th>\n",
              "      <th>review_count</th>\n",
              "      <th>useful</th>\n",
              "      <th>funny</th>\n",
              "      <th>cool</th>\n",
              "      <th>elite</th>\n",
              "      <th>friends</th>\n",
              "      <th>fans</th>\n",
              "      <th>average_stars</th>\n",
              "      <th>compliment_hot</th>\n",
              "      <th>...</th>\n",
              "      <th>compliment_profile</th>\n",
              "      <th>compliment_cute</th>\n",
              "      <th>compliment_list</th>\n",
              "      <th>compliment_note</th>\n",
              "      <th>compliment_plain</th>\n",
              "      <th>compliment_cool</th>\n",
              "      <th>compliment_funny</th>\n",
              "      <th>compliment_writer</th>\n",
              "      <th>compliment_photos</th>\n",
              "      <th>days_yelping</th>\n",
              "    </tr>\n",
              "  </thead>\n",
              "  <tbody>\n",
              "    <tr>\n",
              "      <th>0</th>\n",
              "      <td>qVc8ODYU5SZjKXVBgXdI7w</td>\n",
              "      <td>585</td>\n",
              "      <td>7217</td>\n",
              "      <td>1259</td>\n",
              "      <td>5994</td>\n",
              "      <td>2007</td>\n",
              "      <td>NSCy54eWehBJyZdG2iE84w, pe42u7DcCH2QmI81NX-8qA...</td>\n",
              "      <td>267</td>\n",
              "      <td>3.91</td>\n",
              "      <td>250</td>\n",
              "      <td>...</td>\n",
              "      <td>55</td>\n",
              "      <td>56</td>\n",
              "      <td>18</td>\n",
              "      <td>232</td>\n",
              "      <td>844</td>\n",
              "      <td>467</td>\n",
              "      <td>467</td>\n",
              "      <td>239</td>\n",
              "      <td>180</td>\n",
              "      <td>5948</td>\n",
              "    </tr>\n",
              "    <tr>\n",
              "      <th>1</th>\n",
              "      <td>j14WgRoU_-2ZE1aw1dXrJg</td>\n",
              "      <td>4333</td>\n",
              "      <td>43091</td>\n",
              "      <td>13066</td>\n",
              "      <td>27281</td>\n",
              "      <td>2009,2010,2011,2012,2013,2014,2015,2016,2017,2...</td>\n",
              "      <td>ueRPE0CX75ePGMqOFVj6IQ, 52oH4DrRvzzl8wh5UXyU0A...</td>\n",
              "      <td>3138</td>\n",
              "      <td>3.74</td>\n",
              "      <td>1145</td>\n",
              "      <td>...</td>\n",
              "      <td>184</td>\n",
              "      <td>157</td>\n",
              "      <td>251</td>\n",
              "      <td>1847</td>\n",
              "      <td>7054</td>\n",
              "      <td>3131</td>\n",
              "      <td>3131</td>\n",
              "      <td>1521</td>\n",
              "      <td>1946</td>\n",
              "      <td>5218</td>\n",
              "    </tr>\n",
              "    <tr>\n",
              "      <th>2</th>\n",
              "      <td>2WnXYQFK0hXEoTxPtV2zvg</td>\n",
              "      <td>665</td>\n",
              "      <td>2086</td>\n",
              "      <td>1010</td>\n",
              "      <td>1003</td>\n",
              "      <td>2009,2010,2011,2012,2013</td>\n",
              "      <td>LuO3Bn4f3rlhyHIaNfTlnA, j9B4XdHUhDfTKVecyWQgyA...</td>\n",
              "      <td>52</td>\n",
              "      <td>3.32</td>\n",
              "      <td>89</td>\n",
              "      <td>...</td>\n",
              "      <td>10</td>\n",
              "      <td>17</td>\n",
              "      <td>3</td>\n",
              "      <td>66</td>\n",
              "      <td>96</td>\n",
              "      <td>119</td>\n",
              "      <td>119</td>\n",
              "      <td>35</td>\n",
              "      <td>18</td>\n",
              "      <td>5401</td>\n",
              "    </tr>\n",
              "  </tbody>\n",
              "</table>\n",
              "<p>3 rows × 21 columns</p>\n",
              "</div>"
            ]
          },
          "metadata": {},
          "execution_count": 28
        }
      ]
    },
    {
      "cell_type": "markdown",
      "source": [
        "\n",
        " - se elimina Friends porque no se me ocurre nada útil para hacer con esos ids"
      ],
      "metadata": {
        "id": "sIUkh0TCUNV5"
      }
    },
    {
      "cell_type": "code",
      "source": [
        "processed_yelp_user_data.drop(columns=[\"friends\"],inplace=True)\n",
        "processed_yelp_user_data.head(3)"
      ],
      "metadata": {
        "colab": {
          "base_uri": "https://localhost:8080/",
          "height": 163
        },
        "id": "W056Ru7TUOm4",
        "outputId": "7622473e-fee7-4b70-bdc3-eb047c1a5d93"
      },
      "execution_count": null,
      "outputs": [
        {
          "output_type": "execute_result",
          "data": {
            "text/plain": [
              "                  user_id  review_count  useful  funny   cool  \\\n",
              "0  qVc8ODYU5SZjKXVBgXdI7w           585    7217   1259   5994   \n",
              "1  j14WgRoU_-2ZE1aw1dXrJg          4333   43091  13066  27281   \n",
              "2  2WnXYQFK0hXEoTxPtV2zvg           665    2086   1010   1003   \n",
              "\n",
              "                                               elite  fans  average_stars  \\\n",
              "0                                               2007   267           3.91   \n",
              "1  2009,2010,2011,2012,2013,2014,2015,2016,2017,2...  3138           3.74   \n",
              "2                           2009,2010,2011,2012,2013    52           3.32   \n",
              "\n",
              "   compliment_hot  compliment_more  compliment_profile  compliment_cute  \\\n",
              "0             250               65                  55               56   \n",
              "1            1145              264                 184              157   \n",
              "2              89               13                  10               17   \n",
              "\n",
              "   compliment_list  compliment_note  compliment_plain  compliment_cool  \\\n",
              "0               18              232               844              467   \n",
              "1              251             1847              7054             3131   \n",
              "2                3               66                96              119   \n",
              "\n",
              "   compliment_funny  compliment_writer  compliment_photos  days_yelping  \n",
              "0               467                239                180          5948  \n",
              "1              3131               1521               1946          5218  \n",
              "2               119                 35                 18          5401  "
            ],
            "text/html": [
              "<div>\n",
              "<style scoped>\n",
              "    .dataframe tbody tr th:only-of-type {\n",
              "        vertical-align: middle;\n",
              "    }\n",
              "\n",
              "    .dataframe tbody tr th {\n",
              "        vertical-align: top;\n",
              "    }\n",
              "\n",
              "    .dataframe thead th {\n",
              "        text-align: right;\n",
              "    }\n",
              "</style>\n",
              "<table border=\"1\" class=\"dataframe\">\n",
              "  <thead>\n",
              "    <tr style=\"text-align: right;\">\n",
              "      <th></th>\n",
              "      <th>user_id</th>\n",
              "      <th>review_count</th>\n",
              "      <th>useful</th>\n",
              "      <th>funny</th>\n",
              "      <th>cool</th>\n",
              "      <th>elite</th>\n",
              "      <th>fans</th>\n",
              "      <th>average_stars</th>\n",
              "      <th>compliment_hot</th>\n",
              "      <th>compliment_more</th>\n",
              "      <th>compliment_profile</th>\n",
              "      <th>compliment_cute</th>\n",
              "      <th>compliment_list</th>\n",
              "      <th>compliment_note</th>\n",
              "      <th>compliment_plain</th>\n",
              "      <th>compliment_cool</th>\n",
              "      <th>compliment_funny</th>\n",
              "      <th>compliment_writer</th>\n",
              "      <th>compliment_photos</th>\n",
              "      <th>days_yelping</th>\n",
              "    </tr>\n",
              "  </thead>\n",
              "  <tbody>\n",
              "    <tr>\n",
              "      <th>0</th>\n",
              "      <td>qVc8ODYU5SZjKXVBgXdI7w</td>\n",
              "      <td>585</td>\n",
              "      <td>7217</td>\n",
              "      <td>1259</td>\n",
              "      <td>5994</td>\n",
              "      <td>2007</td>\n",
              "      <td>267</td>\n",
              "      <td>3.91</td>\n",
              "      <td>250</td>\n",
              "      <td>65</td>\n",
              "      <td>55</td>\n",
              "      <td>56</td>\n",
              "      <td>18</td>\n",
              "      <td>232</td>\n",
              "      <td>844</td>\n",
              "      <td>467</td>\n",
              "      <td>467</td>\n",
              "      <td>239</td>\n",
              "      <td>180</td>\n",
              "      <td>5948</td>\n",
              "    </tr>\n",
              "    <tr>\n",
              "      <th>1</th>\n",
              "      <td>j14WgRoU_-2ZE1aw1dXrJg</td>\n",
              "      <td>4333</td>\n",
              "      <td>43091</td>\n",
              "      <td>13066</td>\n",
              "      <td>27281</td>\n",
              "      <td>2009,2010,2011,2012,2013,2014,2015,2016,2017,2...</td>\n",
              "      <td>3138</td>\n",
              "      <td>3.74</td>\n",
              "      <td>1145</td>\n",
              "      <td>264</td>\n",
              "      <td>184</td>\n",
              "      <td>157</td>\n",
              "      <td>251</td>\n",
              "      <td>1847</td>\n",
              "      <td>7054</td>\n",
              "      <td>3131</td>\n",
              "      <td>3131</td>\n",
              "      <td>1521</td>\n",
              "      <td>1946</td>\n",
              "      <td>5218</td>\n",
              "    </tr>\n",
              "    <tr>\n",
              "      <th>2</th>\n",
              "      <td>2WnXYQFK0hXEoTxPtV2zvg</td>\n",
              "      <td>665</td>\n",
              "      <td>2086</td>\n",
              "      <td>1010</td>\n",
              "      <td>1003</td>\n",
              "      <td>2009,2010,2011,2012,2013</td>\n",
              "      <td>52</td>\n",
              "      <td>3.32</td>\n",
              "      <td>89</td>\n",
              "      <td>13</td>\n",
              "      <td>10</td>\n",
              "      <td>17</td>\n",
              "      <td>3</td>\n",
              "      <td>66</td>\n",
              "      <td>96</td>\n",
              "      <td>119</td>\n",
              "      <td>119</td>\n",
              "      <td>35</td>\n",
              "      <td>18</td>\n",
              "      <td>5401</td>\n",
              "    </tr>\n",
              "  </tbody>\n",
              "</table>\n",
              "</div>"
            ]
          },
          "metadata": {},
          "execution_count": 30
        }
      ]
    },
    {
      "cell_type": "markdown",
      "source": [
        "\n",
        " - se combinan useful, funny y cool (sumando) en un único valor \"votes\" para ser consistente con el resto de archivos/datos"
      ],
      "metadata": {
        "id": "UnWeg4aSUMZ5"
      }
    },
    {
      "cell_type": "code",
      "source": [
        "processed_yelp_user_data[\"votes\"] = yelp_user_data[\"useful\"]+yelp_user_data[\"funny\"]+yelp_user_data[\"cool\"]\n",
        "processed_yelp_user_data.drop(columns=[\"useful\",\"funny\",\"cool\"],inplace=True)\n",
        "processed_yelp_user_data.head(3)"
      ],
      "metadata": {
        "colab": {
          "base_uri": "https://localhost:8080/",
          "height": 163
        },
        "id": "v57w5_qIUPf5",
        "outputId": "90a623f3-331a-4c1b-bf56-841f758de10c"
      },
      "execution_count": null,
      "outputs": [
        {
          "output_type": "execute_result",
          "data": {
            "text/plain": [
              "                  user_id  review_count  \\\n",
              "0  qVc8ODYU5SZjKXVBgXdI7w           585   \n",
              "1  j14WgRoU_-2ZE1aw1dXrJg          4333   \n",
              "2  2WnXYQFK0hXEoTxPtV2zvg           665   \n",
              "\n",
              "                                               elite  fans  average_stars  \\\n",
              "0                                               2007   267           3.91   \n",
              "1  2009,2010,2011,2012,2013,2014,2015,2016,2017,2...  3138           3.74   \n",
              "2                           2009,2010,2011,2012,2013    52           3.32   \n",
              "\n",
              "   compliment_hot  compliment_more  compliment_profile  compliment_cute  \\\n",
              "0             250               65                  55               56   \n",
              "1            1145              264                 184              157   \n",
              "2              89               13                  10               17   \n",
              "\n",
              "   compliment_list  compliment_note  compliment_plain  compliment_cool  \\\n",
              "0               18              232               844              467   \n",
              "1              251             1847              7054             3131   \n",
              "2                3               66                96              119   \n",
              "\n",
              "   compliment_funny  compliment_writer  compliment_photos  days_yelping  votes  \n",
              "0               467                239                180          5948  14470  \n",
              "1              3131               1521               1946          5218  83438  \n",
              "2               119                 35                 18          5401   4099  "
            ],
            "text/html": [
              "<div>\n",
              "<style scoped>\n",
              "    .dataframe tbody tr th:only-of-type {\n",
              "        vertical-align: middle;\n",
              "    }\n",
              "\n",
              "    .dataframe tbody tr th {\n",
              "        vertical-align: top;\n",
              "    }\n",
              "\n",
              "    .dataframe thead th {\n",
              "        text-align: right;\n",
              "    }\n",
              "</style>\n",
              "<table border=\"1\" class=\"dataframe\">\n",
              "  <thead>\n",
              "    <tr style=\"text-align: right;\">\n",
              "      <th></th>\n",
              "      <th>user_id</th>\n",
              "      <th>review_count</th>\n",
              "      <th>elite</th>\n",
              "      <th>fans</th>\n",
              "      <th>average_stars</th>\n",
              "      <th>compliment_hot</th>\n",
              "      <th>compliment_more</th>\n",
              "      <th>compliment_profile</th>\n",
              "      <th>compliment_cute</th>\n",
              "      <th>compliment_list</th>\n",
              "      <th>compliment_note</th>\n",
              "      <th>compliment_plain</th>\n",
              "      <th>compliment_cool</th>\n",
              "      <th>compliment_funny</th>\n",
              "      <th>compliment_writer</th>\n",
              "      <th>compliment_photos</th>\n",
              "      <th>days_yelping</th>\n",
              "      <th>votes</th>\n",
              "    </tr>\n",
              "  </thead>\n",
              "  <tbody>\n",
              "    <tr>\n",
              "      <th>0</th>\n",
              "      <td>qVc8ODYU5SZjKXVBgXdI7w</td>\n",
              "      <td>585</td>\n",
              "      <td>2007</td>\n",
              "      <td>267</td>\n",
              "      <td>3.91</td>\n",
              "      <td>250</td>\n",
              "      <td>65</td>\n",
              "      <td>55</td>\n",
              "      <td>56</td>\n",
              "      <td>18</td>\n",
              "      <td>232</td>\n",
              "      <td>844</td>\n",
              "      <td>467</td>\n",
              "      <td>467</td>\n",
              "      <td>239</td>\n",
              "      <td>180</td>\n",
              "      <td>5948</td>\n",
              "      <td>14470</td>\n",
              "    </tr>\n",
              "    <tr>\n",
              "      <th>1</th>\n",
              "      <td>j14WgRoU_-2ZE1aw1dXrJg</td>\n",
              "      <td>4333</td>\n",
              "      <td>2009,2010,2011,2012,2013,2014,2015,2016,2017,2...</td>\n",
              "      <td>3138</td>\n",
              "      <td>3.74</td>\n",
              "      <td>1145</td>\n",
              "      <td>264</td>\n",
              "      <td>184</td>\n",
              "      <td>157</td>\n",
              "      <td>251</td>\n",
              "      <td>1847</td>\n",
              "      <td>7054</td>\n",
              "      <td>3131</td>\n",
              "      <td>3131</td>\n",
              "      <td>1521</td>\n",
              "      <td>1946</td>\n",
              "      <td>5218</td>\n",
              "      <td>83438</td>\n",
              "    </tr>\n",
              "    <tr>\n",
              "      <th>2</th>\n",
              "      <td>2WnXYQFK0hXEoTxPtV2zvg</td>\n",
              "      <td>665</td>\n",
              "      <td>2009,2010,2011,2012,2013</td>\n",
              "      <td>52</td>\n",
              "      <td>3.32</td>\n",
              "      <td>89</td>\n",
              "      <td>13</td>\n",
              "      <td>10</td>\n",
              "      <td>17</td>\n",
              "      <td>3</td>\n",
              "      <td>66</td>\n",
              "      <td>96</td>\n",
              "      <td>119</td>\n",
              "      <td>119</td>\n",
              "      <td>35</td>\n",
              "      <td>18</td>\n",
              "      <td>5401</td>\n",
              "      <td>4099</td>\n",
              "    </tr>\n",
              "  </tbody>\n",
              "</table>\n",
              "</div>"
            ]
          },
          "metadata": {},
          "execution_count": 31
        }
      ]
    },
    {
      "cell_type": "markdown",
      "source": [
        "\n",
        " - elite se divide en \"times_elite\" que indica cuántos años distintos el usuario ha sido elite, y \"latest_elite\" que indica el año más reciente en el que el usuario fue elite. (luego, más años élite y más reciente = usuario más relevante)"
      ],
      "metadata": {
        "id": "Iy63_FsrULF8"
      }
    },
    {
      "cell_type": "code",
      "source": [
        "processed_yelp_user_data[\"times_elite\"] = yelp_user_data[\"elite\"].str.split(\",\").apply(len)\n",
        "processed_yelp_user_data[\"latest_elite\"] = yelp_user_data[\"elite\"].str.split(\",\").apply(max)\n",
        "processed_yelp_user_data.drop(columns=[\"elite\"],inplace=True)\n",
        "processed_yelp_user_data.head(3)"
      ],
      "metadata": {
        "id": "4B4Na3hWUPvk",
        "colab": {
          "base_uri": "https://localhost:8080/",
          "height": 163
        },
        "outputId": "ac1394f9-5d09-4430-e97a-ee4ec6e00b1c"
      },
      "execution_count": null,
      "outputs": [
        {
          "output_type": "execute_result",
          "data": {
            "text/plain": [
              "                  user_id  review_count  fans  average_stars  compliment_hot  \\\n",
              "0  qVc8ODYU5SZjKXVBgXdI7w           585   267           3.91             250   \n",
              "1  j14WgRoU_-2ZE1aw1dXrJg          4333  3138           3.74            1145   \n",
              "2  2WnXYQFK0hXEoTxPtV2zvg           665    52           3.32              89   \n",
              "\n",
              "   compliment_more  compliment_profile  compliment_cute  compliment_list  \\\n",
              "0               65                  55               56               18   \n",
              "1              264                 184              157              251   \n",
              "2               13                  10               17                3   \n",
              "\n",
              "   compliment_note  compliment_plain  compliment_cool  compliment_funny  \\\n",
              "0              232               844              467               467   \n",
              "1             1847              7054             3131              3131   \n",
              "2               66                96              119               119   \n",
              "\n",
              "   compliment_writer  compliment_photos  days_yelping  votes  times_elite  \\\n",
              "0                239                180          5948  14470            1   \n",
              "1               1521               1946          5218  83438           14   \n",
              "2                 35                 18          5401   4099            5   \n",
              "\n",
              "  latest_elite  \n",
              "0         2007  \n",
              "1         2021  \n",
              "2         2013  "
            ],
            "text/html": [
              "<div>\n",
              "<style scoped>\n",
              "    .dataframe tbody tr th:only-of-type {\n",
              "        vertical-align: middle;\n",
              "    }\n",
              "\n",
              "    .dataframe tbody tr th {\n",
              "        vertical-align: top;\n",
              "    }\n",
              "\n",
              "    .dataframe thead th {\n",
              "        text-align: right;\n",
              "    }\n",
              "</style>\n",
              "<table border=\"1\" class=\"dataframe\">\n",
              "  <thead>\n",
              "    <tr style=\"text-align: right;\">\n",
              "      <th></th>\n",
              "      <th>user_id</th>\n",
              "      <th>review_count</th>\n",
              "      <th>fans</th>\n",
              "      <th>average_stars</th>\n",
              "      <th>compliment_hot</th>\n",
              "      <th>compliment_more</th>\n",
              "      <th>compliment_profile</th>\n",
              "      <th>compliment_cute</th>\n",
              "      <th>compliment_list</th>\n",
              "      <th>compliment_note</th>\n",
              "      <th>compliment_plain</th>\n",
              "      <th>compliment_cool</th>\n",
              "      <th>compliment_funny</th>\n",
              "      <th>compliment_writer</th>\n",
              "      <th>compliment_photos</th>\n",
              "      <th>days_yelping</th>\n",
              "      <th>votes</th>\n",
              "      <th>times_elite</th>\n",
              "      <th>latest_elite</th>\n",
              "    </tr>\n",
              "  </thead>\n",
              "  <tbody>\n",
              "    <tr>\n",
              "      <th>0</th>\n",
              "      <td>qVc8ODYU5SZjKXVBgXdI7w</td>\n",
              "      <td>585</td>\n",
              "      <td>267</td>\n",
              "      <td>3.91</td>\n",
              "      <td>250</td>\n",
              "      <td>65</td>\n",
              "      <td>55</td>\n",
              "      <td>56</td>\n",
              "      <td>18</td>\n",
              "      <td>232</td>\n",
              "      <td>844</td>\n",
              "      <td>467</td>\n",
              "      <td>467</td>\n",
              "      <td>239</td>\n",
              "      <td>180</td>\n",
              "      <td>5948</td>\n",
              "      <td>14470</td>\n",
              "      <td>1</td>\n",
              "      <td>2007</td>\n",
              "    </tr>\n",
              "    <tr>\n",
              "      <th>1</th>\n",
              "      <td>j14WgRoU_-2ZE1aw1dXrJg</td>\n",
              "      <td>4333</td>\n",
              "      <td>3138</td>\n",
              "      <td>3.74</td>\n",
              "      <td>1145</td>\n",
              "      <td>264</td>\n",
              "      <td>184</td>\n",
              "      <td>157</td>\n",
              "      <td>251</td>\n",
              "      <td>1847</td>\n",
              "      <td>7054</td>\n",
              "      <td>3131</td>\n",
              "      <td>3131</td>\n",
              "      <td>1521</td>\n",
              "      <td>1946</td>\n",
              "      <td>5218</td>\n",
              "      <td>83438</td>\n",
              "      <td>14</td>\n",
              "      <td>2021</td>\n",
              "    </tr>\n",
              "    <tr>\n",
              "      <th>2</th>\n",
              "      <td>2WnXYQFK0hXEoTxPtV2zvg</td>\n",
              "      <td>665</td>\n",
              "      <td>52</td>\n",
              "      <td>3.32</td>\n",
              "      <td>89</td>\n",
              "      <td>13</td>\n",
              "      <td>10</td>\n",
              "      <td>17</td>\n",
              "      <td>3</td>\n",
              "      <td>66</td>\n",
              "      <td>96</td>\n",
              "      <td>119</td>\n",
              "      <td>119</td>\n",
              "      <td>35</td>\n",
              "      <td>18</td>\n",
              "      <td>5401</td>\n",
              "      <td>4099</td>\n",
              "      <td>5</td>\n",
              "      <td>2013</td>\n",
              "    </tr>\n",
              "  </tbody>\n",
              "</table>\n",
              "</div>"
            ]
          },
          "metadata": {},
          "execution_count": 48
        }
      ]
    },
    {
      "cell_type": "markdown",
      "source": [
        "\n",
        " - Se combinan los compliment_x (sumando) en un único valor \"compliments\" porque parecen muy similares, los datasets anteriores parecen también enforcarse en \"compliments\" sin segregar el tipo"
      ],
      "metadata": {
        "id": "jgKojlSsUKAz"
      }
    },
    {
      "cell_type": "code",
      "source": [
        "compliment_columns=[\"compliment_hot\",\n",
        "                    \"compliment_more\",\n",
        "                    \"compliment_profile\",\n",
        "                    \"compliment_cute\",\n",
        "                    \"compliment_list\",\n",
        "                    \"compliment_note\",\n",
        "                    \"compliment_plain\",\n",
        "                    \"compliment_cool\",\n",
        "                    \"compliment_funny\",\n",
        "                    \"compliment_writer\",\n",
        "                    \"compliment_photos\"]\n",
        "processed_yelp_user_data[\"compliments\"] = yelp_user_data[compliment_columns].sum(axis=1)\n",
        "processed_yelp_user_data.drop(columns=compliment_columns,inplace=True)\n",
        "processed_yelp_user_data.head(3)"
      ],
      "metadata": {
        "id": "qqMakX1TUQCA",
        "colab": {
          "base_uri": "https://localhost:8080/",
          "height": 143
        },
        "outputId": "cab45e7d-b841-401d-b3f3-8ee007d3a353"
      },
      "execution_count": null,
      "outputs": [
        {
          "output_type": "execute_result",
          "data": {
            "text/plain": [
              "                  user_id  review_count  fans  average_stars  days_yelping  \\\n",
              "0  qVc8ODYU5SZjKXVBgXdI7w           585   267           3.91          5948   \n",
              "1  j14WgRoU_-2ZE1aw1dXrJg          4333  3138           3.74          5218   \n",
              "2  2WnXYQFK0hXEoTxPtV2zvg           665    52           3.32          5401   \n",
              "\n",
              "   votes  times_elite latest_elite  compliments  \n",
              "0  14470            1         2007         2873  \n",
              "1  83438           14         2021        20631  \n",
              "2   4099            5         2013          585  "
            ],
            "text/html": [
              "<div>\n",
              "<style scoped>\n",
              "    .dataframe tbody tr th:only-of-type {\n",
              "        vertical-align: middle;\n",
              "    }\n",
              "\n",
              "    .dataframe tbody tr th {\n",
              "        vertical-align: top;\n",
              "    }\n",
              "\n",
              "    .dataframe thead th {\n",
              "        text-align: right;\n",
              "    }\n",
              "</style>\n",
              "<table border=\"1\" class=\"dataframe\">\n",
              "  <thead>\n",
              "    <tr style=\"text-align: right;\">\n",
              "      <th></th>\n",
              "      <th>user_id</th>\n",
              "      <th>review_count</th>\n",
              "      <th>fans</th>\n",
              "      <th>average_stars</th>\n",
              "      <th>days_yelping</th>\n",
              "      <th>votes</th>\n",
              "      <th>times_elite</th>\n",
              "      <th>latest_elite</th>\n",
              "      <th>compliments</th>\n",
              "    </tr>\n",
              "  </thead>\n",
              "  <tbody>\n",
              "    <tr>\n",
              "      <th>0</th>\n",
              "      <td>qVc8ODYU5SZjKXVBgXdI7w</td>\n",
              "      <td>585</td>\n",
              "      <td>267</td>\n",
              "      <td>3.91</td>\n",
              "      <td>5948</td>\n",
              "      <td>14470</td>\n",
              "      <td>1</td>\n",
              "      <td>2007</td>\n",
              "      <td>2873</td>\n",
              "    </tr>\n",
              "    <tr>\n",
              "      <th>1</th>\n",
              "      <td>j14WgRoU_-2ZE1aw1dXrJg</td>\n",
              "      <td>4333</td>\n",
              "      <td>3138</td>\n",
              "      <td>3.74</td>\n",
              "      <td>5218</td>\n",
              "      <td>83438</td>\n",
              "      <td>14</td>\n",
              "      <td>2021</td>\n",
              "      <td>20631</td>\n",
              "    </tr>\n",
              "    <tr>\n",
              "      <th>2</th>\n",
              "      <td>2WnXYQFK0hXEoTxPtV2zvg</td>\n",
              "      <td>665</td>\n",
              "      <td>52</td>\n",
              "      <td>3.32</td>\n",
              "      <td>5401</td>\n",
              "      <td>4099</td>\n",
              "      <td>5</td>\n",
              "      <td>2013</td>\n",
              "      <td>585</td>\n",
              "    </tr>\n",
              "  </tbody>\n",
              "</table>\n",
              "</div>"
            ]
          },
          "metadata": {},
          "execution_count": 49
        }
      ]
    },
    {
      "cell_type": "code",
      "source": [
        "joblib.dump(yelp_user_data,Path(yelp_processed_data,\"yelp_academic_dataset_user.joblib\"))\n",
        "yelp_user_data.to_json(yelp_processed_data/\"yelp_academic_dataset_user_processed.json\",orient=\"records\",date_format=\"iso\")"
      ],
      "metadata": {
        "id": "TSeLL9XNUQzN"
      },
      "execution_count": null,
      "outputs": []
    },
    {
      "cell_type": "markdown",
      "source": [
        "### Review"
      ],
      "metadata": {
        "id": "SNOlP-UZl6YA"
      }
    },
    {
      "cell_type": "markdown",
      "source": [
        "Estos sí son \"los datos de entrenamiento\", en el sentido de que aquí está el objetivo (stars), de modo que se hace un split train/test "
      ],
      "metadata": {
        "id": "F88jaPJF7uzd"
      }
    },
    {
      "cell_type": "code",
      "source": [
        "%%time\n",
        "yelp_review_data = reload_dframe(yelp_review)\n",
        "cols = list(yelp_review_data.columns)\n",
        "cols.remove(\"stars\")\n"
      ],
      "metadata": {
        "id": "UJxLGG7YiE1E",
        "colab": {
          "base_uri": "https://localhost:8080/"
        },
        "outputId": "f51c5db8-1d07-43dc-8d81-fbb93f303c58"
      },
      "execution_count": null,
      "outputs": [
        {
          "output_type": "stream",
          "name": "stdout",
          "text": [
            "CPU times: total: 5.36 s\n",
            "Wall time: 26.9 s\n"
          ]
        }
      ]
    },
    {
      "cell_type": "code",
      "source": [
        "x_train, x_test, y_train, y_test = train_test_split(yelp_review_data[cols], yelp_review_data[\"stars\"], test_size=0.2, random_state=4201)\n"
      ],
      "metadata": {
        "id": "hxj4RQngB4Lq"
      },
      "execution_count": null,
      "outputs": []
    },
    {
      "cell_type": "code",
      "source": [
        "len(x_train.index)"
      ],
      "metadata": {
        "colab": {
          "base_uri": "https://localhost:8080/"
        },
        "id": "dBfRpM14DZDD",
        "outputId": "1ba20a44-fb08-4599-e466-ae18387bd69e"
      },
      "execution_count": null,
      "outputs": [
        {
          "output_type": "execute_result",
          "data": {
            "text/plain": [
              "5592224"
            ]
          },
          "metadata": {},
          "execution_count": 35
        }
      ]
    },
    {
      "cell_type": "code",
      "source": [
        "len(x_test.index)"
      ],
      "metadata": {
        "colab": {
          "base_uri": "https://localhost:8080/"
        },
        "id": "C8CITRw-Dhwr",
        "outputId": "b49aed17-465d-400a-ae0b-2e7112eca6f6"
      },
      "execution_count": null,
      "outputs": [
        {
          "output_type": "execute_result",
          "data": {
            "text/plain": [
              "1398056"
            ]
          },
          "metadata": {},
          "execution_count": 36
        }
      ]
    },
    {
      "cell_type": "code",
      "source": [
        "x_train.head(3)"
      ],
      "metadata": {
        "colab": {
          "base_uri": "https://localhost:8080/",
          "height": 459
        },
        "id": "u8plAVaGx2tP",
        "outputId": "483b1342-d794-4940-8d28-bc00b45c541a"
      },
      "execution_count": null,
      "outputs": [
        {
          "output_type": "execute_result",
          "data": {
            "text/plain": [
              "                      review_id                 user_id  \\\n",
              "604436   4aunfqzB6ePUrrUE-6wiMw  3pgH-8ivpeLT9ODFWyF9dg   \n",
              "1760546  0KiAZiXW47m8GWBzjRZgNg  DinbFoJU9UPNNqy0_KcHvA   \n",
              "3327980  GSYpA_edgA80jKadRw8FvA  mvK1pv-x0Z5rP4Hz9cWBWw   \n",
              "\n",
              "                    business_id  useful  funny  cool  \\\n",
              "604436   uzeB4Y0eOwjt7Yjsx6tc5A      12      0     0   \n",
              "1760546  qK85LZ9wOJBETnmE1jsxEg       0      0     0   \n",
              "3327980  qclZoDz3sjT7v5xOSj5P2Q      24     14    21   \n",
              "\n",
              "                                                      text                date  \n",
              "604436   Make sure you get a FIRM QUOTE ahead of time i... 2014-07-21 22:20:42  \n",
              "1760546  I have been seeing Edmy for about 6 months now... 2017-12-28 18:23:27  \n",
              "3327980  **DON'T ORDER A FANCY COCKTAIL AND YOU'LL BE F... 2014-07-30 16:09:25  "
            ],
            "text/html": [
              "<div>\n",
              "<style scoped>\n",
              "    .dataframe tbody tr th:only-of-type {\n",
              "        vertical-align: middle;\n",
              "    }\n",
              "\n",
              "    .dataframe tbody tr th {\n",
              "        vertical-align: top;\n",
              "    }\n",
              "\n",
              "    .dataframe thead th {\n",
              "        text-align: right;\n",
              "    }\n",
              "</style>\n",
              "<table border=\"1\" class=\"dataframe\">\n",
              "  <thead>\n",
              "    <tr style=\"text-align: right;\">\n",
              "      <th></th>\n",
              "      <th>review_id</th>\n",
              "      <th>user_id</th>\n",
              "      <th>business_id</th>\n",
              "      <th>useful</th>\n",
              "      <th>funny</th>\n",
              "      <th>cool</th>\n",
              "      <th>text</th>\n",
              "      <th>date</th>\n",
              "    </tr>\n",
              "  </thead>\n",
              "  <tbody>\n",
              "    <tr>\n",
              "      <th>604436</th>\n",
              "      <td>4aunfqzB6ePUrrUE-6wiMw</td>\n",
              "      <td>3pgH-8ivpeLT9ODFWyF9dg</td>\n",
              "      <td>uzeB4Y0eOwjt7Yjsx6tc5A</td>\n",
              "      <td>12</td>\n",
              "      <td>0</td>\n",
              "      <td>0</td>\n",
              "      <td>Make sure you get a FIRM QUOTE ahead of time i...</td>\n",
              "      <td>2014-07-21 22:20:42</td>\n",
              "    </tr>\n",
              "    <tr>\n",
              "      <th>1760546</th>\n",
              "      <td>0KiAZiXW47m8GWBzjRZgNg</td>\n",
              "      <td>DinbFoJU9UPNNqy0_KcHvA</td>\n",
              "      <td>qK85LZ9wOJBETnmE1jsxEg</td>\n",
              "      <td>0</td>\n",
              "      <td>0</td>\n",
              "      <td>0</td>\n",
              "      <td>I have been seeing Edmy for about 6 months now...</td>\n",
              "      <td>2017-12-28 18:23:27</td>\n",
              "    </tr>\n",
              "    <tr>\n",
              "      <th>3327980</th>\n",
              "      <td>GSYpA_edgA80jKadRw8FvA</td>\n",
              "      <td>mvK1pv-x0Z5rP4Hz9cWBWw</td>\n",
              "      <td>qclZoDz3sjT7v5xOSj5P2Q</td>\n",
              "      <td>24</td>\n",
              "      <td>14</td>\n",
              "      <td>21</td>\n",
              "      <td>**DON'T ORDER A FANCY COCKTAIL AND YOU'LL BE F...</td>\n",
              "      <td>2014-07-30 16:09:25</td>\n",
              "    </tr>\n",
              "  </tbody>\n",
              "</table>\n",
              "</div>"
            ]
          },
          "metadata": {},
          "execution_count": 37
        }
      ]
    },
    {
      "cell_type": "code",
      "source": [
        "x_train[\"business_id\"].nunique()"
      ],
      "metadata": {
        "colab": {
          "base_uri": "https://localhost:8080/"
        },
        "id": "bxOgX8OeDxut",
        "outputId": "1b8bcfa3-2b4c-4d00-bacc-a8f16ad3ca86"
      },
      "execution_count": null,
      "outputs": [
        {
          "output_type": "execute_result",
          "data": {
            "text/plain": [
              "150344"
            ]
          },
          "metadata": {},
          "execution_count": 38
        }
      ]
    },
    {
      "cell_type": "code",
      "source": [
        "x_train[\"user_id\"].nunique()"
      ],
      "metadata": {
        "colab": {
          "base_uri": "https://localhost:8080/"
        },
        "id": "pxbjfq62D3MU",
        "outputId": "3d34eaa3-580b-4778-934a-f6466c6ef308"
      },
      "execution_count": null,
      "outputs": [
        {
          "output_type": "execute_result",
          "data": {
            "text/plain": [
              "1746388"
            ]
          },
          "metadata": {},
          "execution_count": 39
        }
      ]
    },
    {
      "cell_type": "markdown",
      "source": [
        "#### Preprocesamiento no textual"
      ],
      "metadata": {
        "id": "D9cXZ5tCn1cc"
      }
    },
    {
      "cell_type": "markdown",
      "source": [
        "Aquí sí vale la pena eliminar el review_id"
      ],
      "metadata": {
        "id": "iITvY366-Ml7"
      }
    },
    {
      "cell_type": "code",
      "source": [
        "def step1(dframe):\n",
        "  df_copy = dframe.drop(columns=[\"review_id\"])\n",
        "  return df_copy\n",
        "x_train= step1(x_train)\n",
        "x_train.head(3)"
      ],
      "metadata": {
        "colab": {
          "base_uri": "https://localhost:8080/",
          "height": 213
        },
        "id": "-oYd-G_V-MK2",
        "outputId": "56228587-89cb-4a40-8373-1b20f644d275"
      },
      "execution_count": null,
      "outputs": [
        {
          "output_type": "execute_result",
          "data": {
            "text/plain": [
              "                        user_id             business_id  useful  funny  cool  \\\n",
              "604436   3pgH-8ivpeLT9ODFWyF9dg  uzeB4Y0eOwjt7Yjsx6tc5A      12      0     0   \n",
              "1760546  DinbFoJU9UPNNqy0_KcHvA  qK85LZ9wOJBETnmE1jsxEg       0      0     0   \n",
              "3327980  mvK1pv-x0Z5rP4Hz9cWBWw  qclZoDz3sjT7v5xOSj5P2Q      24     14    21   \n",
              "\n",
              "                                                      text                date  \n",
              "604436   Make sure you get a FIRM QUOTE ahead of time i... 2014-07-21 22:20:42  \n",
              "1760546  I have been seeing Edmy for about 6 months now... 2017-12-28 18:23:27  \n",
              "3327980  **DON'T ORDER A FANCY COCKTAIL AND YOU'LL BE F... 2014-07-30 16:09:25  "
            ],
            "text/html": [
              "<div>\n",
              "<style scoped>\n",
              "    .dataframe tbody tr th:only-of-type {\n",
              "        vertical-align: middle;\n",
              "    }\n",
              "\n",
              "    .dataframe tbody tr th {\n",
              "        vertical-align: top;\n",
              "    }\n",
              "\n",
              "    .dataframe thead th {\n",
              "        text-align: right;\n",
              "    }\n",
              "</style>\n",
              "<table border=\"1\" class=\"dataframe\">\n",
              "  <thead>\n",
              "    <tr style=\"text-align: right;\">\n",
              "      <th></th>\n",
              "      <th>user_id</th>\n",
              "      <th>business_id</th>\n",
              "      <th>useful</th>\n",
              "      <th>funny</th>\n",
              "      <th>cool</th>\n",
              "      <th>text</th>\n",
              "      <th>date</th>\n",
              "    </tr>\n",
              "  </thead>\n",
              "  <tbody>\n",
              "    <tr>\n",
              "      <th>604436</th>\n",
              "      <td>3pgH-8ivpeLT9ODFWyF9dg</td>\n",
              "      <td>uzeB4Y0eOwjt7Yjsx6tc5A</td>\n",
              "      <td>12</td>\n",
              "      <td>0</td>\n",
              "      <td>0</td>\n",
              "      <td>Make sure you get a FIRM QUOTE ahead of time i...</td>\n",
              "      <td>2014-07-21 22:20:42</td>\n",
              "    </tr>\n",
              "    <tr>\n",
              "      <th>1760546</th>\n",
              "      <td>DinbFoJU9UPNNqy0_KcHvA</td>\n",
              "      <td>qK85LZ9wOJBETnmE1jsxEg</td>\n",
              "      <td>0</td>\n",
              "      <td>0</td>\n",
              "      <td>0</td>\n",
              "      <td>I have been seeing Edmy for about 6 months now...</td>\n",
              "      <td>2017-12-28 18:23:27</td>\n",
              "    </tr>\n",
              "    <tr>\n",
              "      <th>3327980</th>\n",
              "      <td>mvK1pv-x0Z5rP4Hz9cWBWw</td>\n",
              "      <td>qclZoDz3sjT7v5xOSj5P2Q</td>\n",
              "      <td>24</td>\n",
              "      <td>14</td>\n",
              "      <td>21</td>\n",
              "      <td>**DON'T ORDER A FANCY COCKTAIL AND YOU'LL BE F...</td>\n",
              "      <td>2014-07-30 16:09:25</td>\n",
              "    </tr>\n",
              "  </tbody>\n",
              "</table>\n",
              "</div>"
            ]
          },
          "metadata": {},
          "execution_count": 9
        }
      ]
    },
    {
      "cell_type": "markdown",
      "source": [
        " - Se combinan sumando \"useful\", \"funny\" y \"cool\" para mantener la consistencia con \"compliments\" y \"votes\"\n",
        " "
      ],
      "metadata": {
        "id": "6DMNqvOhdt_m"
      }
    },
    {
      "cell_type": "code",
      "source": [
        "%%time\n",
        "def step2(dframe):\n",
        "  df_copy = dframe.copy()\n",
        "  df_copy[\"votes\"] = df_copy[[\"useful\",\"funny\",\"cool\"]].sum(axis=1)\n",
        "  df_copy.drop(columns=[\"useful\",\"funny\",\"cool\"],inplace=True)\n",
        "  return df_copy\n",
        "\n",
        "x_train= step2(x_train)\n",
        "x_train.head(3)"
      ],
      "metadata": {
        "colab": {
          "base_uri": "https://localhost:8080/",
          "height": 230
        },
        "id": "jjrdLpyGxpbA",
        "outputId": "f8b75ce8-df65-4bb9-c11f-1b882fca1305"
      },
      "execution_count": null,
      "outputs": [
        {
          "output_type": "stream",
          "name": "stdout",
          "text": [
            "CPU times: total: 719 ms\n",
            "Wall time: 972 ms\n"
          ]
        },
        {
          "output_type": "execute_result",
          "data": {
            "text/plain": [
              "                        user_id             business_id  \\\n",
              "604436   3pgH-8ivpeLT9ODFWyF9dg  uzeB4Y0eOwjt7Yjsx6tc5A   \n",
              "1760546  DinbFoJU9UPNNqy0_KcHvA  qK85LZ9wOJBETnmE1jsxEg   \n",
              "3327980  mvK1pv-x0Z5rP4Hz9cWBWw  qclZoDz3sjT7v5xOSj5P2Q   \n",
              "\n",
              "                                                      text  \\\n",
              "604436   Make sure you get a FIRM QUOTE ahead of time i...   \n",
              "1760546  I have been seeing Edmy for about 6 months now...   \n",
              "3327980  **DON'T ORDER A FANCY COCKTAIL AND YOU'LL BE F...   \n",
              "\n",
              "                       date  votes  \n",
              "604436  2014-07-21 22:20:42     12  \n",
              "1760546 2017-12-28 18:23:27      0  \n",
              "3327980 2014-07-30 16:09:25     59  "
            ],
            "text/html": [
              "<div>\n",
              "<style scoped>\n",
              "    .dataframe tbody tr th:only-of-type {\n",
              "        vertical-align: middle;\n",
              "    }\n",
              "\n",
              "    .dataframe tbody tr th {\n",
              "        vertical-align: top;\n",
              "    }\n",
              "\n",
              "    .dataframe thead th {\n",
              "        text-align: right;\n",
              "    }\n",
              "</style>\n",
              "<table border=\"1\" class=\"dataframe\">\n",
              "  <thead>\n",
              "    <tr style=\"text-align: right;\">\n",
              "      <th></th>\n",
              "      <th>user_id</th>\n",
              "      <th>business_id</th>\n",
              "      <th>text</th>\n",
              "      <th>date</th>\n",
              "      <th>votes</th>\n",
              "    </tr>\n",
              "  </thead>\n",
              "  <tbody>\n",
              "    <tr>\n",
              "      <th>604436</th>\n",
              "      <td>3pgH-8ivpeLT9ODFWyF9dg</td>\n",
              "      <td>uzeB4Y0eOwjt7Yjsx6tc5A</td>\n",
              "      <td>Make sure you get a FIRM QUOTE ahead of time i...</td>\n",
              "      <td>2014-07-21 22:20:42</td>\n",
              "      <td>12</td>\n",
              "    </tr>\n",
              "    <tr>\n",
              "      <th>1760546</th>\n",
              "      <td>DinbFoJU9UPNNqy0_KcHvA</td>\n",
              "      <td>qK85LZ9wOJBETnmE1jsxEg</td>\n",
              "      <td>I have been seeing Edmy for about 6 months now...</td>\n",
              "      <td>2017-12-28 18:23:27</td>\n",
              "      <td>0</td>\n",
              "    </tr>\n",
              "    <tr>\n",
              "      <th>3327980</th>\n",
              "      <td>mvK1pv-x0Z5rP4Hz9cWBWw</td>\n",
              "      <td>qclZoDz3sjT7v5xOSj5P2Q</td>\n",
              "      <td>**DON'T ORDER A FANCY COCKTAIL AND YOU'LL BE F...</td>\n",
              "      <td>2014-07-30 16:09:25</td>\n",
              "      <td>59</td>\n",
              "    </tr>\n",
              "  </tbody>\n",
              "</table>\n",
              "</div>"
            ]
          },
          "metadata": {},
          "execution_count": 10
        }
      ]
    },
    {
      "cell_type": "markdown",
      "source": [
        "\n",
        " - Se cambia \"date\" por \"days_since_review\" para darle mayor valor a las reviews más recientes"
      ],
      "metadata": {
        "id": "U1GDvLyZCuZU"
      }
    },
    {
      "cell_type": "code",
      "source": [
        "%%time\n",
        "today = datetime.datetime.now()\n",
        "calculate=np.vectorize(lambda x: (today - pd.to_datetime(x)).days)\n",
        "\n",
        "def step3(dframe):\n",
        "  df_copy = dframe.copy()#operation\n",
        "  df_copy[\"days_since_review\"] = calculate(df_copy[\"date\"])\n",
        "  df_copy.drop(columns=[\"date\"],inplace=True)\n",
        "  return df_copy\n",
        "\n",
        "x_train= step3(x_train)\n",
        "x_train.head(3)"
      ],
      "metadata": {
        "colab": {
          "base_uri": "https://localhost:8080/",
          "height": 230
        },
        "id": "Q8ILcRcVpNdN",
        "outputId": "6a998a26-2a03-48b6-ab26-8d02f78d1cbe"
      },
      "execution_count": null,
      "outputs": [
        {
          "output_type": "stream",
          "name": "stdout",
          "text": [
            "CPU times: total: 26.3 s\n",
            "Wall time: 30.1 s\n"
          ]
        },
        {
          "output_type": "execute_result",
          "data": {
            "text/plain": [
              "                        user_id             business_id  \\\n",
              "604436   3pgH-8ivpeLT9ODFWyF9dg  uzeB4Y0eOwjt7Yjsx6tc5A   \n",
              "1760546  DinbFoJU9UPNNqy0_KcHvA  qK85LZ9wOJBETnmE1jsxEg   \n",
              "3327980  mvK1pv-x0Z5rP4Hz9cWBWw  qclZoDz3sjT7v5xOSj5P2Q   \n",
              "\n",
              "                                                      text  votes  \\\n",
              "604436   Make sure you get a FIRM QUOTE ahead of time i...     12   \n",
              "1760546  I have been seeing Edmy for about 6 months now...      0   \n",
              "3327980  **DON'T ORDER A FANCY COCKTAIL AND YOU'LL BE F...     59   \n",
              "\n",
              "         days_since_review  \n",
              "604436                3214  \n",
              "1760546               1959  \n",
              "3327980               3206  "
            ],
            "text/html": [
              "<div>\n",
              "<style scoped>\n",
              "    .dataframe tbody tr th:only-of-type {\n",
              "        vertical-align: middle;\n",
              "    }\n",
              "\n",
              "    .dataframe tbody tr th {\n",
              "        vertical-align: top;\n",
              "    }\n",
              "\n",
              "    .dataframe thead th {\n",
              "        text-align: right;\n",
              "    }\n",
              "</style>\n",
              "<table border=\"1\" class=\"dataframe\">\n",
              "  <thead>\n",
              "    <tr style=\"text-align: right;\">\n",
              "      <th></th>\n",
              "      <th>user_id</th>\n",
              "      <th>business_id</th>\n",
              "      <th>text</th>\n",
              "      <th>votes</th>\n",
              "      <th>days_since_review</th>\n",
              "    </tr>\n",
              "  </thead>\n",
              "  <tbody>\n",
              "    <tr>\n",
              "      <th>604436</th>\n",
              "      <td>3pgH-8ivpeLT9ODFWyF9dg</td>\n",
              "      <td>uzeB4Y0eOwjt7Yjsx6tc5A</td>\n",
              "      <td>Make sure you get a FIRM QUOTE ahead of time i...</td>\n",
              "      <td>12</td>\n",
              "      <td>3214</td>\n",
              "    </tr>\n",
              "    <tr>\n",
              "      <th>1760546</th>\n",
              "      <td>DinbFoJU9UPNNqy0_KcHvA</td>\n",
              "      <td>qK85LZ9wOJBETnmE1jsxEg</td>\n",
              "      <td>I have been seeing Edmy for about 6 months now...</td>\n",
              "      <td>0</td>\n",
              "      <td>1959</td>\n",
              "    </tr>\n",
              "    <tr>\n",
              "      <th>3327980</th>\n",
              "      <td>mvK1pv-x0Z5rP4Hz9cWBWw</td>\n",
              "      <td>qclZoDz3sjT7v5xOSj5P2Q</td>\n",
              "      <td>**DON'T ORDER A FANCY COCKTAIL AND YOU'LL BE F...</td>\n",
              "      <td>59</td>\n",
              "      <td>3206</td>\n",
              "    </tr>\n",
              "  </tbody>\n",
              "</table>\n",
              "</div>"
            ]
          },
          "metadata": {},
          "execution_count": 11
        }
      ]
    },
    {
      "cell_type": "code",
      "source": [
        "joblib.dump(x_train, Path(yelp_processed_data,\"yelp_train.joblib\"))"
      ],
      "metadata": {
        "colab": {
          "base_uri": "https://localhost:8080/"
        },
        "id": "PE8194C7tDpm",
        "outputId": "0dc3dd5b-bfc2-4753-b22d-f84751ac1a66"
      },
      "execution_count": null,
      "outputs": [
        {
          "output_type": "execute_result",
          "data": {
            "text/plain": [
              "['processed_data\\\\yelp_train.joblib']"
            ]
          },
          "metadata": {},
          "execution_count": 12
        }
      ]
    },
    {
      "cell_type": "code",
      "source": [
        "%%time\n",
        "trans_x_test=step3(step2(step1(x_test)))"
      ],
      "metadata": {
        "colab": {
          "base_uri": "https://localhost:8080/"
        },
        "id": "EhwPmx97NLaC",
        "outputId": "bd3872d0-8480-4db2-e960-32eb35c3405c"
      },
      "execution_count": null,
      "outputs": [
        {
          "output_type": "stream",
          "name": "stdout",
          "text": [
            "CPU times: total: 4.8 s\n",
            "Wall time: 8.4 s\n"
          ]
        }
      ]
    },
    {
      "cell_type": "code",
      "source": [
        "x_train=joblib.load(Path(yelp_processed_data,\"yelp_train.joblib\"))"
      ],
      "metadata": {
        "id": "Rr6O9vPK-I83"
      },
      "execution_count": null,
      "outputs": []
    },
    {
      "cell_type": "markdown",
      "source": [
        "#### Preprocesamiento de texto"
      ],
      "metadata": {
        "id": "jO8U5Eozn5zJ"
      }
    },
    {
      "cell_type": "code",
      "source": [
        "x_train.head(3)"
      ],
      "metadata": {
        "colab": {
          "base_uri": "https://localhost:8080/",
          "height": 196
        },
        "id": "9ety9uI4tyvV",
        "outputId": "8252bc81-30a0-4bb8-d426-db1aca57a569"
      },
      "execution_count": null,
      "outputs": [
        {
          "output_type": "execute_result",
          "data": {
            "text/plain": [
              "                        user_id             business_id  \\\n",
              "604436   3pgH-8ivpeLT9ODFWyF9dg  uzeB4Y0eOwjt7Yjsx6tc5A   \n",
              "1760546  DinbFoJU9UPNNqy0_KcHvA  qK85LZ9wOJBETnmE1jsxEg   \n",
              "3327980  mvK1pv-x0Z5rP4Hz9cWBWw  qclZoDz3sjT7v5xOSj5P2Q   \n",
              "\n",
              "                                                      text  votes  \\\n",
              "604436   Make sure you get a FIRM QUOTE ahead of time i...     12   \n",
              "1760546  I have been seeing Edmy for about 6 months now...      0   \n",
              "3327980  **DON'T ORDER A FANCY COCKTAIL AND YOU'LL BE F...     59   \n",
              "\n",
              "         days_since_review  \n",
              "604436                3214  \n",
              "1760546               1959  \n",
              "3327980               3206  "
            ],
            "text/html": [
              "<div>\n",
              "<style scoped>\n",
              "    .dataframe tbody tr th:only-of-type {\n",
              "        vertical-align: middle;\n",
              "    }\n",
              "\n",
              "    .dataframe tbody tr th {\n",
              "        vertical-align: top;\n",
              "    }\n",
              "\n",
              "    .dataframe thead th {\n",
              "        text-align: right;\n",
              "    }\n",
              "</style>\n",
              "<table border=\"1\" class=\"dataframe\">\n",
              "  <thead>\n",
              "    <tr style=\"text-align: right;\">\n",
              "      <th></th>\n",
              "      <th>user_id</th>\n",
              "      <th>business_id</th>\n",
              "      <th>text</th>\n",
              "      <th>votes</th>\n",
              "      <th>days_since_review</th>\n",
              "    </tr>\n",
              "  </thead>\n",
              "  <tbody>\n",
              "    <tr>\n",
              "      <th>604436</th>\n",
              "      <td>3pgH-8ivpeLT9ODFWyF9dg</td>\n",
              "      <td>uzeB4Y0eOwjt7Yjsx6tc5A</td>\n",
              "      <td>Make sure you get a FIRM QUOTE ahead of time i...</td>\n",
              "      <td>12</td>\n",
              "      <td>3214</td>\n",
              "    </tr>\n",
              "    <tr>\n",
              "      <th>1760546</th>\n",
              "      <td>DinbFoJU9UPNNqy0_KcHvA</td>\n",
              "      <td>qK85LZ9wOJBETnmE1jsxEg</td>\n",
              "      <td>I have been seeing Edmy for about 6 months now...</td>\n",
              "      <td>0</td>\n",
              "      <td>1959</td>\n",
              "    </tr>\n",
              "    <tr>\n",
              "      <th>3327980</th>\n",
              "      <td>mvK1pv-x0Z5rP4Hz9cWBWw</td>\n",
              "      <td>qclZoDz3sjT7v5xOSj5P2Q</td>\n",
              "      <td>**DON'T ORDER A FANCY COCKTAIL AND YOU'LL BE F...</td>\n",
              "      <td>59</td>\n",
              "      <td>3206</td>\n",
              "    </tr>\n",
              "  </tbody>\n",
              "</table>\n",
              "</div>"
            ]
          },
          "metadata": {},
          "execution_count": 15
        }
      ]
    },
    {
      "cell_type": "code",
      "source": [
        "def text_preprocessing_stemming(text,lang=\"english\",stop_words=stopwords.words(\"english\"),\n",
        "                                translation=str.maketrans('','',string.punctuation),\n",
        "                                stemmer=EnglishStemmer(),lemmatizer=WordNetLemmatizer(),\n",
        "                                inflecteng=inflect.engine()):\n",
        "  # esto solo es un resumen de la funcion preprocessing(words)\n",
        "  # 1. normalizar, 2. lowercase, 3. remover puntuación, 4. tokenizar, 5. remover stopwords, 6. Lematizar, 7. Stemming\n",
        "  # se tokeniza al final porque es equivalente y más rápido\n",
        "  return list(\n",
        "      map(stemmer.stem,\n",
        "          map(lemmatizer.lemmatize,\n",
        "              #map(lambda word: inflecteng.number_to_words(word) if word.isdigit() else word, # crashea\n",
        "              filter(lambda x: \n",
        "                    x not in stop_words,\n",
        "                    word_tokenize(ud.normalize(\"NFKD\", text).encode(\"ascii\", \"ignore\").decode(\"utf-8\").lower().translate(translation),language=lang)\n",
        "                    )\n",
        "               #   )\n",
        "              )\n",
        "          )\n",
        "      )\n",
        "\n",
        "def dframe_preprocessing_stemming(dframe,lang=\"english\"):\n",
        "  # esto asume que no se ha preprocesado nada\n",
        "  dcopy=dframe.copy()\n",
        "  stop_words = stopwords.words(lang)\n",
        "  translation=str.maketrans('','',string.punctuation)\n",
        "  stemmer=EnglishStemmer() if lang==\"english\" else SnowballStemmer(lang)\n",
        "  lemmatizer=WordNetLemmatizer()\n",
        "  inflecteng=inflect.engine()\n",
        "  dcopy[\"text\"]=dcopy[\"text\"].apply(text_preprocessing_stemming,stop_words=stop_words,translation=translation,stemmer=stemmer,lemmatizer=lemmatizer,inflecteng=inflecteng)\n",
        "  return dcopy"
      ],
      "metadata": {
        "id": "RV38GHlRn8xP"
      },
      "execution_count": null,
      "outputs": []
    },
    {
      "cell_type": "code",
      "source": [
        "dummy_func = lambda x: x\n",
        "tfidf = TfidfVectorizer(lowercase=False,preprocessor=dummy_func,tokenizer=dummy_func)"
      ],
      "metadata": {
        "id": "JboD9muOucBY"
      },
      "execution_count": null,
      "outputs": []
    },
    {
      "cell_type": "code",
      "source": [
        "6990280//512"
      ],
      "metadata": {
        "colab": {
          "base_uri": "https://localhost:8080/"
        },
        "id": "7Z40QQZLm4ZZ",
        "outputId": "5298e5f4-4d7f-4e38-85c9-11407c94aeb5"
      },
      "execution_count": null,
      "outputs": [
        {
          "output_type": "execute_result",
          "data": {
            "text/plain": [
              "13652"
            ]
          },
          "metadata": {},
          "execution_count": 19
        }
      ]
    },
    {
      "cell_type": "code",
      "source": [
        "%%time\n",
        "tstart_total = perf_counter_ns()\n",
        "nrows = len(yelp_review_data.index) # todas\n",
        "n_jobs=512\n",
        "chunk_size = nrows // n_jobs  # el chunk size\n",
        "chunks = [yelp_review_data[i:i+chunk_size] for i in range(0, nrows, chunk_size)]\n",
        "processed_chunks=[]\n",
        "print(f\"{nrows=}, {len(chunks)=}\")\n",
        "for indx,piece in enumerate(chunks):\n",
        "  tstart_ch = perf_counter_ns()\n",
        "  processed_chunks.append(dframe_preprocessing_stemming(piece,\"english\"))\n",
        "  totaltime_ch= perf_counter_ns()-tstart_ch\n",
        "  tot_ch_s = totaltime_ch/1e9\n",
        "  print(f\"chunks done: {indx} of {len(chunks)} | current speed: {chunk_size/(tot_ch_s):.3f} rows/s\")\n",
        "yelp_review_data_text_processed = pd.concat(processed_chunks) \n",
        "totaltime_total= perf_counter_ns()-tstart_total\n",
        "tot_ms = totaltime_total/1e6\n",
        "print(f\"total time taken for {nrows} rows: {tot_ms:.3f} ms | {nrows/tot_ms:.3f} rows/ms -> {nrows/(tot_ms/1e3):.3f} rows/s\")\n",
        "\n",
        "yelp_review_data_text_processed.head(3)"
      ],
      "metadata": {
        "id": "hlCqlqYr5cxj"
      },
      "execution_count": null,
      "outputs": []
    },
    {
      "cell_type": "code",
      "source": [
        "cols = list(yelp_review_data_text_processed.columns)\n",
        "cols.remove(\"text\")\n",
        "cols"
      ],
      "metadata": {
        "colab": {
          "base_uri": "https://localhost:8080/"
        },
        "id": "Z4knyw8yuy-c",
        "outputId": "c2ebffa2-24af-4e8f-cbb4-f08198a18dd0"
      },
      "execution_count": null,
      "outputs": [
        {
          "output_type": "execute_result",
          "data": {
            "text/plain": [
              "['review_id', 'user_id', 'business_id', 'stars', 'votes', 'days_since_review']"
            ]
          },
          "metadata": {},
          "execution_count": 112
        }
      ]
    },
    {
      "cell_type": "code",
      "source": [
        "text_rows = pd.DataFrame.sparse.from_spmatrix(tfidf.fit_transform(yelp_review_data_text_processed[\"text\"]),columns=tfidf.get_feature_names_out())\n",
        "tfidfmatrix = pd.concat([yelp_review_data_text_processed[cols],text_rows],axis=1)\n",
        "tfidfmatrix.head(3)"
      ],
      "metadata": {
        "id": "xxcewBcJ7DQG",
        "colab": {
          "base_uri": "https://localhost:8080/",
          "height": 262
        },
        "outputId": "daf02232-f816-40ba-a4f3-59a6e3f9ee20"
      },
      "execution_count": null,
      "outputs": [
        {
          "output_type": "stream",
          "name": "stderr",
          "text": [
            "C:\\Python310\\lib\\site-packages\\sklearn\\feature_extraction\\text.py:528: UserWarning: The parameter 'token_pattern' will not be used since 'tokenizer' is not None'\n",
            "  warnings.warn(\n"
          ]
        },
        {
          "output_type": "execute_result",
          "data": {
            "text/plain": [
              "                review_id                 user_id             business_id  \\\n",
              "0  KU_O5udG6zpxOg-VcAEodg  mh_-eMZ6K5RLWhZyISBhwA  XQfwVwDr-v0ZS3_CbbE5Xw   \n",
              "1  BiTunyQ73aT9WBnpR9DZGw  OyoGAe7OKpv6SyGZT5g77Q  7ATYjTIgM3jUlt4UM3IypQ   \n",
              "2  saUsX_uimxRlCVr67Z4Jig  8g_iMtfSiwikVnbP2etR0A  YjUWPpI6HXG530lwP-fb2A   \n",
              "\n",
              "   stars  votes  days_since_review    0  000   01  050  ...  zax  zaxbi  \\\n",
              "0      3      0               1767  0.0  0.0  0.0  0.0  ...  0.0    0.0   \n",
              "1      5      2               4144  0.0  0.0  0.0  0.0  ...  0.0    0.0   \n",
              "2      3      0               3380  0.0  0.0  0.0  0.0  ...  0.0    0.0   \n",
              "\n",
              "   zeller  zeppol  zero  zest  ziggi  zone  zucchini  zurich  \n",
              "0     0.0     0.0   0.0   0.0    0.0   0.0       0.0     0.0  \n",
              "1     0.0     0.0   0.0   0.0    0.0   0.0       0.0     0.0  \n",
              "2     0.0     0.0   0.0   0.0    0.0   0.0       0.0     0.0  \n",
              "\n",
              "[3 rows x 6466 columns]"
            ],
            "text/html": [
              "<div>\n",
              "<style scoped>\n",
              "    .dataframe tbody tr th:only-of-type {\n",
              "        vertical-align: middle;\n",
              "    }\n",
              "\n",
              "    .dataframe tbody tr th {\n",
              "        vertical-align: top;\n",
              "    }\n",
              "\n",
              "    .dataframe thead th {\n",
              "        text-align: right;\n",
              "    }\n",
              "</style>\n",
              "<table border=\"1\" class=\"dataframe\">\n",
              "  <thead>\n",
              "    <tr style=\"text-align: right;\">\n",
              "      <th></th>\n",
              "      <th>review_id</th>\n",
              "      <th>user_id</th>\n",
              "      <th>business_id</th>\n",
              "      <th>stars</th>\n",
              "      <th>votes</th>\n",
              "      <th>days_since_review</th>\n",
              "      <th>0</th>\n",
              "      <th>000</th>\n",
              "      <th>01</th>\n",
              "      <th>050</th>\n",
              "      <th>...</th>\n",
              "      <th>zax</th>\n",
              "      <th>zaxbi</th>\n",
              "      <th>zeller</th>\n",
              "      <th>zeppol</th>\n",
              "      <th>zero</th>\n",
              "      <th>zest</th>\n",
              "      <th>ziggi</th>\n",
              "      <th>zone</th>\n",
              "      <th>zucchini</th>\n",
              "      <th>zurich</th>\n",
              "    </tr>\n",
              "  </thead>\n",
              "  <tbody>\n",
              "    <tr>\n",
              "      <th>0</th>\n",
              "      <td>KU_O5udG6zpxOg-VcAEodg</td>\n",
              "      <td>mh_-eMZ6K5RLWhZyISBhwA</td>\n",
              "      <td>XQfwVwDr-v0ZS3_CbbE5Xw</td>\n",
              "      <td>3</td>\n",
              "      <td>0</td>\n",
              "      <td>1767</td>\n",
              "      <td>0.0</td>\n",
              "      <td>0.0</td>\n",
              "      <td>0.0</td>\n",
              "      <td>0.0</td>\n",
              "      <td>...</td>\n",
              "      <td>0.0</td>\n",
              "      <td>0.0</td>\n",
              "      <td>0.0</td>\n",
              "      <td>0.0</td>\n",
              "      <td>0.0</td>\n",
              "      <td>0.0</td>\n",
              "      <td>0.0</td>\n",
              "      <td>0.0</td>\n",
              "      <td>0.0</td>\n",
              "      <td>0.0</td>\n",
              "    </tr>\n",
              "    <tr>\n",
              "      <th>1</th>\n",
              "      <td>BiTunyQ73aT9WBnpR9DZGw</td>\n",
              "      <td>OyoGAe7OKpv6SyGZT5g77Q</td>\n",
              "      <td>7ATYjTIgM3jUlt4UM3IypQ</td>\n",
              "      <td>5</td>\n",
              "      <td>2</td>\n",
              "      <td>4144</td>\n",
              "      <td>0.0</td>\n",
              "      <td>0.0</td>\n",
              "      <td>0.0</td>\n",
              "      <td>0.0</td>\n",
              "      <td>...</td>\n",
              "      <td>0.0</td>\n",
              "      <td>0.0</td>\n",
              "      <td>0.0</td>\n",
              "      <td>0.0</td>\n",
              "      <td>0.0</td>\n",
              "      <td>0.0</td>\n",
              "      <td>0.0</td>\n",
              "      <td>0.0</td>\n",
              "      <td>0.0</td>\n",
              "      <td>0.0</td>\n",
              "    </tr>\n",
              "    <tr>\n",
              "      <th>2</th>\n",
              "      <td>saUsX_uimxRlCVr67Z4Jig</td>\n",
              "      <td>8g_iMtfSiwikVnbP2etR0A</td>\n",
              "      <td>YjUWPpI6HXG530lwP-fb2A</td>\n",
              "      <td>3</td>\n",
              "      <td>0</td>\n",
              "      <td>3380</td>\n",
              "      <td>0.0</td>\n",
              "      <td>0.0</td>\n",
              "      <td>0.0</td>\n",
              "      <td>0.0</td>\n",
              "      <td>...</td>\n",
              "      <td>0.0</td>\n",
              "      <td>0.0</td>\n",
              "      <td>0.0</td>\n",
              "      <td>0.0</td>\n",
              "      <td>0.0</td>\n",
              "      <td>0.0</td>\n",
              "      <td>0.0</td>\n",
              "      <td>0.0</td>\n",
              "      <td>0.0</td>\n",
              "      <td>0.0</td>\n",
              "    </tr>\n",
              "  </tbody>\n",
              "</table>\n",
              "<p>3 rows × 6466 columns</p>\n",
              "</div>"
            ]
          },
          "metadata": {},
          "execution_count": 113
        }
      ]
    },
    {
      "cell_type": "code",
      "source": [
        "tfidfmatrix.shape"
      ],
      "metadata": {
        "id": "F181h5wF74qu"
      },
      "execution_count": null,
      "outputs": []
    },
    {
      "cell_type": "code",
      "source": [
        "joblib.dump(tfidfmatrix, Path(yelp_processed_data,\"yelp_academic_dataset_review_tf_idf_matrix.joblib\"))"
      ],
      "metadata": {
        "id": "VzB64_ZNBNXT"
      },
      "execution_count": null,
      "outputs": []
    },
    {
      "cell_type": "code",
      "source": [
        "#mrr\n",
        "\n",
        "def mean_reciprocal_rank(y_test, predicted):\n",
        "    score = []\n",
        "    for product in y_test:\n",
        "        mrr = 1 / (list(predicted).index(product) + 1) if product in predicted else 0\n",
        "        score.append(mrr)\n",
        "    return np.mean(score)"
      ],
      "metadata": {
        "id": "9HEOccBkArG0"
      },
      "execution_count": null,
      "outputs": []
    },
    {
      "cell_type": "code",
      "source": [],
      "metadata": {
        "id": "uPJbafToJkgG"
      },
      "execution_count": null,
      "outputs": []
    },
    {
      "cell_type": "code",
      "source": [
        "# Se establece el rango en el cual se aceptaran los ratings\n",
        "reader = Reader( rating_scale = ( 1, 5 ) )"
      ],
      "metadata": {
        "id": "uqIziRzKt7d_"
      },
      "execution_count": null,
      "outputs": []
    },
    {
      "cell_type": "markdown",
      "source": [
        "## 2. Transformación de los dataset al formato de Surprise"
      ],
      "metadata": {
        "id": "EjpqtEiFuJsQ"
      }
    },
    {
      "cell_type": "code",
      "source": [
        "# Assuming df is your DataFrame and it has columns 'user_id', 'business_id' and 'stars'\n",
        "df_train, df_temp = train_test_split(yelp_review_data, test_size=0.2, random_state=42)\n",
        "df_val, df_test = train_test_split(df_temp, test_size=0.5, random_state=42)"
      ],
      "metadata": {
        "id": "eeZfERjqt9--"
      },
      "execution_count": null,
      "outputs": []
    },
    {
      "cell_type": "code",
      "source": [
        "df_train.head(5)"
      ],
      "metadata": {
        "colab": {
          "base_uri": "https://localhost:8080/",
          "height": 206
        },
        "id": "B-BlxL2AqgJz",
        "outputId": "4d80613e-c1ea-4304-992b-5f33311be69f"
      },
      "execution_count": null,
      "outputs": [
        {
          "output_type": "execute_result",
          "data": {
            "text/plain": [
              "                      review_id                 user_id  \\\n",
              "4763105  5xbDIl2IahpTufrr4M7M9A  V_46L2RMM2GrSorJMpOCkw   \n",
              "3276572  r1bQOym6LOTHWZB3zd6Y0w  JGeVD5-0bKKnXnZxaTZUZQ   \n",
              "3769481  U23V0kEAYQ9QeuBpNqc0QA  VRKuCyuCYZGzCpMankWH1Q   \n",
              "1362927  Kk_TReiaS3CgIk_YoeZ5KQ  ohQzhkPJtKUmdAhHP6xZdw   \n",
              "6976103  He83DqAVvvRgTM4JddlleQ  HVQKFDi-vZbawtmLMq3ZOw   \n",
              "\n",
              "                    business_id  stars  useful  funny  cool  \\\n",
              "4763105  OJEiB_a2I_gxC-ZeayI94A      3       0      0     0   \n",
              "3276572  bRTWD05drzNfzVP0IadX7A      1       0      0     0   \n",
              "3769481  232qg1k9QV0pNt90jyTatA      4       0      0     0   \n",
              "1362927  Y5RUhntIPDfe2eKriQFIZg      5       0      0     0   \n",
              "6976103  0RuvlgTnKFbX3IK0ZOOocA      5       1      0     0   \n",
              "\n",
              "                                                      text                date  \n",
              "4763105  Visited the Another Broken Egg Cafe yesterday.... 2019-03-20 14:59:49  \n",
              "3276572  I typically don't write reviews, but this plac... 2015-05-22 23:06:23  \n",
              "3769481  One of my goals for my New Orleans trip was to... 2017-11-17 10:23:07  \n",
              "1362927  Went here for the first time last night for dr... 2016-11-21 16:00:13  \n",
              "6976103  Green eggs cafe was amazing! My boyfriend and ... 2020-07-20 18:46:14  "
            ],
            "text/html": [
              "\n",
              "  <div id=\"df-d6f11e22-d791-442c-98a9-e3d587c35b51\">\n",
              "    <div class=\"colab-df-container\">\n",
              "      <div>\n",
              "<style scoped>\n",
              "    .dataframe tbody tr th:only-of-type {\n",
              "        vertical-align: middle;\n",
              "    }\n",
              "\n",
              "    .dataframe tbody tr th {\n",
              "        vertical-align: top;\n",
              "    }\n",
              "\n",
              "    .dataframe thead th {\n",
              "        text-align: right;\n",
              "    }\n",
              "</style>\n",
              "<table border=\"1\" class=\"dataframe\">\n",
              "  <thead>\n",
              "    <tr style=\"text-align: right;\">\n",
              "      <th></th>\n",
              "      <th>review_id</th>\n",
              "      <th>user_id</th>\n",
              "      <th>business_id</th>\n",
              "      <th>stars</th>\n",
              "      <th>useful</th>\n",
              "      <th>funny</th>\n",
              "      <th>cool</th>\n",
              "      <th>text</th>\n",
              "      <th>date</th>\n",
              "    </tr>\n",
              "  </thead>\n",
              "  <tbody>\n",
              "    <tr>\n",
              "      <th>4763105</th>\n",
              "      <td>5xbDIl2IahpTufrr4M7M9A</td>\n",
              "      <td>V_46L2RMM2GrSorJMpOCkw</td>\n",
              "      <td>OJEiB_a2I_gxC-ZeayI94A</td>\n",
              "      <td>3</td>\n",
              "      <td>0</td>\n",
              "      <td>0</td>\n",
              "      <td>0</td>\n",
              "      <td>Visited the Another Broken Egg Cafe yesterday....</td>\n",
              "      <td>2019-03-20 14:59:49</td>\n",
              "    </tr>\n",
              "    <tr>\n",
              "      <th>3276572</th>\n",
              "      <td>r1bQOym6LOTHWZB3zd6Y0w</td>\n",
              "      <td>JGeVD5-0bKKnXnZxaTZUZQ</td>\n",
              "      <td>bRTWD05drzNfzVP0IadX7A</td>\n",
              "      <td>1</td>\n",
              "      <td>0</td>\n",
              "      <td>0</td>\n",
              "      <td>0</td>\n",
              "      <td>I typically don't write reviews, but this plac...</td>\n",
              "      <td>2015-05-22 23:06:23</td>\n",
              "    </tr>\n",
              "    <tr>\n",
              "      <th>3769481</th>\n",
              "      <td>U23V0kEAYQ9QeuBpNqc0QA</td>\n",
              "      <td>VRKuCyuCYZGzCpMankWH1Q</td>\n",
              "      <td>232qg1k9QV0pNt90jyTatA</td>\n",
              "      <td>4</td>\n",
              "      <td>0</td>\n",
              "      <td>0</td>\n",
              "      <td>0</td>\n",
              "      <td>One of my goals for my New Orleans trip was to...</td>\n",
              "      <td>2017-11-17 10:23:07</td>\n",
              "    </tr>\n",
              "    <tr>\n",
              "      <th>1362927</th>\n",
              "      <td>Kk_TReiaS3CgIk_YoeZ5KQ</td>\n",
              "      <td>ohQzhkPJtKUmdAhHP6xZdw</td>\n",
              "      <td>Y5RUhntIPDfe2eKriQFIZg</td>\n",
              "      <td>5</td>\n",
              "      <td>0</td>\n",
              "      <td>0</td>\n",
              "      <td>0</td>\n",
              "      <td>Went here for the first time last night for dr...</td>\n",
              "      <td>2016-11-21 16:00:13</td>\n",
              "    </tr>\n",
              "    <tr>\n",
              "      <th>6976103</th>\n",
              "      <td>He83DqAVvvRgTM4JddlleQ</td>\n",
              "      <td>HVQKFDi-vZbawtmLMq3ZOw</td>\n",
              "      <td>0RuvlgTnKFbX3IK0ZOOocA</td>\n",
              "      <td>5</td>\n",
              "      <td>1</td>\n",
              "      <td>0</td>\n",
              "      <td>0</td>\n",
              "      <td>Green eggs cafe was amazing! My boyfriend and ...</td>\n",
              "      <td>2020-07-20 18:46:14</td>\n",
              "    </tr>\n",
              "  </tbody>\n",
              "</table>\n",
              "</div>\n",
              "      <button class=\"colab-df-convert\" onclick=\"convertToInteractive('df-d6f11e22-d791-442c-98a9-e3d587c35b51')\"\n",
              "              title=\"Convert this dataframe to an interactive table.\"\n",
              "              style=\"display:none;\">\n",
              "        \n",
              "  <svg xmlns=\"http://www.w3.org/2000/svg\" height=\"24px\"viewBox=\"0 0 24 24\"\n",
              "       width=\"24px\">\n",
              "    <path d=\"M0 0h24v24H0V0z\" fill=\"none\"/>\n",
              "    <path d=\"M18.56 5.44l.94 2.06.94-2.06 2.06-.94-2.06-.94-.94-2.06-.94 2.06-2.06.94zm-11 1L8.5 8.5l.94-2.06 2.06-.94-2.06-.94L8.5 2.5l-.94 2.06-2.06.94zm10 10l.94 2.06.94-2.06 2.06-.94-2.06-.94-.94-2.06-.94 2.06-2.06.94z\"/><path d=\"M17.41 7.96l-1.37-1.37c-.4-.4-.92-.59-1.43-.59-.52 0-1.04.2-1.43.59L10.3 9.45l-7.72 7.72c-.78.78-.78 2.05 0 2.83L4 21.41c.39.39.9.59 1.41.59.51 0 1.02-.2 1.41-.59l7.78-7.78 2.81-2.81c.8-.78.8-2.07 0-2.86zM5.41 20L4 18.59l7.72-7.72 1.47 1.35L5.41 20z\"/>\n",
              "  </svg>\n",
              "      </button>\n",
              "      \n",
              "  <style>\n",
              "    .colab-df-container {\n",
              "      display:flex;\n",
              "      flex-wrap:wrap;\n",
              "      gap: 12px;\n",
              "    }\n",
              "\n",
              "    .colab-df-convert {\n",
              "      background-color: #E8F0FE;\n",
              "      border: none;\n",
              "      border-radius: 50%;\n",
              "      cursor: pointer;\n",
              "      display: none;\n",
              "      fill: #1967D2;\n",
              "      height: 32px;\n",
              "      padding: 0 0 0 0;\n",
              "      width: 32px;\n",
              "    }\n",
              "\n",
              "    .colab-df-convert:hover {\n",
              "      background-color: #E2EBFA;\n",
              "      box-shadow: 0px 1px 2px rgba(60, 64, 67, 0.3), 0px 1px 3px 1px rgba(60, 64, 67, 0.15);\n",
              "      fill: #174EA6;\n",
              "    }\n",
              "\n",
              "    [theme=dark] .colab-df-convert {\n",
              "      background-color: #3B4455;\n",
              "      fill: #D2E3FC;\n",
              "    }\n",
              "\n",
              "    [theme=dark] .colab-df-convert:hover {\n",
              "      background-color: #434B5C;\n",
              "      box-shadow: 0px 1px 3px 1px rgba(0, 0, 0, 0.15);\n",
              "      filter: drop-shadow(0px 1px 2px rgba(0, 0, 0, 0.3));\n",
              "      fill: #FFFFFF;\n",
              "    }\n",
              "  </style>\n",
              "\n",
              "      <script>\n",
              "        const buttonEl =\n",
              "          document.querySelector('#df-d6f11e22-d791-442c-98a9-e3d587c35b51 button.colab-df-convert');\n",
              "        buttonEl.style.display =\n",
              "          google.colab.kernel.accessAllowed ? 'block' : 'none';\n",
              "\n",
              "        async function convertToInteractive(key) {\n",
              "          const element = document.querySelector('#df-d6f11e22-d791-442c-98a9-e3d587c35b51');\n",
              "          const dataTable =\n",
              "            await google.colab.kernel.invokeFunction('convertToInteractive',\n",
              "                                                     [key], {});\n",
              "          if (!dataTable) return;\n",
              "\n",
              "          const docLinkHtml = 'Like what you see? Visit the ' +\n",
              "            '<a target=\"_blank\" href=https://colab.research.google.com/notebooks/data_table.ipynb>data table notebook</a>'\n",
              "            + ' to learn more about interactive tables.';\n",
              "          element.innerHTML = '';\n",
              "          dataTable['output_type'] = 'display_data';\n",
              "          await google.colab.output.renderOutput(dataTable, element);\n",
              "          const docLink = document.createElement('div');\n",
              "          docLink.innerHTML = docLinkHtml;\n",
              "          element.appendChild(docLink);\n",
              "        }\n",
              "      </script>\n",
              "    </div>\n",
              "  </div>\n",
              "  "
            ]
          },
          "metadata": {},
          "execution_count": 59
        }
      ]
    },
    {
      "cell_type": "code",
      "source": [
        "# The columns must correspond to user id, item id and ratings (in that order).\n",
        "data_train = Dataset.load_from_df(df_train[['user_id', 'business_id', 'stars']], reader)\n",
        "data_val = Dataset.load_from_df(df_val[['user_id', 'business_id', 'stars']], reader)\n",
        "data_test = Dataset.load_from_df(df_test[['user_id', 'business_id', 'stars']], reader)"
      ],
      "metadata": {
        "id": "9Dzz-SXBuxL9"
      },
      "execution_count": null,
      "outputs": []
    },
    {
      "cell_type": "code",
      "source": [
        "# Surprise requiere que explicitamente los datasets sean transformados a datasets de entrenamiento y prueba en cada caso \n",
        "# Si bien no se entrenará sobre los datasets de validación y prueba, surprise requiere que sean tranformados a entrenamiento para posteriormente ser transformados a prueba\n",
        "train_data = data_train.build_full_trainset()\n",
        "validation_data = data_val.build_full_trainset()\n",
        "test_data = data_test.build_full_trainset()"
      ],
      "metadata": {
        "id": "CtL3ps2FvARn"
      },
      "execution_count": null,
      "outputs": []
    },
    {
      "cell_type": "code",
      "source": [
        "# Finalmente, se convierten los 3 datasets a prueba ya que se medirá el error obtenido en los 3\n",
        "train_data_2 = train_data.build_testset()\n",
        "validation_data = validation_data.build_testset()\n",
        "test_data = test_data.build_testset()"
      ],
      "metadata": {
        "id": "eTHxNyRavA4W"
      },
      "execution_count": null,
      "outputs": []
    },
    {
      "cell_type": "markdown",
      "source": [
        "## 3. Entrenamiento de un modelo SVD con bias"
      ],
      "metadata": {
        "id": "CnGz0IXuvP51"
      }
    },
    {
      "cell_type": "code",
      "source": [
        "mean = train_data.global_mean\n",
        "print( mean )"
      ],
      "metadata": {
        "colab": {
          "base_uri": "https://localhost:8080/"
        },
        "id": "TFtRk0VrvPFl",
        "outputId": "1d9a75db-24ea-4a16-b24c-b86bfa668d65"
      },
      "execution_count": null,
      "outputs": [
        {
          "output_type": "stream",
          "name": "stdout",
          "text": [
            "3.7485801713236095\n"
          ]
        }
      ]
    },
    {
      "cell_type": "code",
      "source": [
        "gs_params = {\n",
        "    # cambiar las k dimensiones\n",
        "    \"n_factors\":list(range(35,45)),\n",
        "    \"reg_all\":[0,0.01,1],\n",
        "    \"biased\":[True],\n",
        "    \"lr_all\":[0.01,0.1,0.5]\n",
        "    }\n",
        "\n",
        "svd = SVD( n_epochs = 200,init_mean = 0, init_std_dev = 0.01 )\n",
        "\n",
        "gs_large = GridSearchCV(SVD, gs_params, measures=[\"rmse\",\"mae\"], cv=3,n_jobs=-1,return_train_measures=True,joblib_verbose=2)"
      ],
      "metadata": {
        "id": "IN3UgayXvGXb"
      },
      "execution_count": null,
      "outputs": []
    },
    {
      "cell_type": "code",
      "source": [
        "%%time\n",
        "gs_large.fit(data_train)"
      ],
      "metadata": {
        "colab": {
          "base_uri": "https://localhost:8080/"
        },
        "id": "7Ox6FuEzwF7B",
        "outputId": "b87cc61a-6e57-4b69-af02-e6ef32a32fb3"
      },
      "execution_count": null,
      "outputs": [
        {
          "output_type": "stream",
          "name": "stderr",
          "text": [
            "[Parallel(n_jobs=-1)]: Using backend LokyBackend with 8 concurrent workers.\n",
            "[Parallel(n_jobs=-1)]: Done  25 tasks      | elapsed: 14.2min\n",
            "[Parallel(n_jobs=-1)]: Done 146 tasks      | elapsed: 67.4min\n"
          ]
        },
        {
          "output_type": "stream",
          "name": "stdout",
          "text": [
            "CPU times: user 1h 35min 35s, sys: 6min 6s, total: 1h 41min 42s\n",
            "Wall time: 2h 8min 35s\n"
          ]
        },
        {
          "output_type": "stream",
          "name": "stderr",
          "text": [
            "[Parallel(n_jobs=-1)]: Done 270 out of 270 | elapsed: 126.1min finished\n"
          ]
        }
      ]
    },
    {
      "cell_type": "code",
      "source": [
        "gs_large.best_params"
      ],
      "metadata": {
        "colab": {
          "base_uri": "https://localhost:8080/"
        },
        "id": "mM-QSrMaxXFH",
        "outputId": "294ed5af-bdf6-4229-e928-8ab190f04fb7"
      },
      "execution_count": null,
      "outputs": [
        {
          "output_type": "execute_result",
          "data": {
            "text/plain": [
              "{'rmse': {'n_factors': 36, 'reg_all': 0.01, 'biased': True, 'lr_all': 0.01},\n",
              " 'mae': {'n_factors': 35, 'reg_all': 0.01, 'biased': True, 'lr_all': 0.01}}"
            ]
          },
          "metadata": {},
          "execution_count": 31
        }
      ]
    },
    {
      "cell_type": "code",
      "source": [
        "gs_large.best_estimator"
      ],
      "metadata": {
        "colab": {
          "base_uri": "https://localhost:8080/"
        },
        "id": "5cf6W7_mxYwb",
        "outputId": "bdd92dd6-5601-4948-f750-e398c55ccb82"
      },
      "execution_count": null,
      "outputs": [
        {
          "output_type": "execute_result",
          "data": {
            "text/plain": [
              "{'rmse': <surprise.prediction_algorithms.matrix_factorization.SVD at 0x7f333c6b1c90>,\n",
              " 'mae': <surprise.prediction_algorithms.matrix_factorization.SVD at 0x7f333c6b0ca0>}"
            ]
          },
          "metadata": {},
          "execution_count": 32
        }
      ]
    },
    {
      "cell_type": "code",
      "source": [
        "best_model = gs_large.best_estimator['rmse']\n",
        "best_model"
      ],
      "metadata": {
        "colab": {
          "base_uri": "https://localhost:8080/"
        },
        "id": "8-sP3jJKh9if",
        "outputId": "b18094e3-2b93-4d82-81fd-da8fd3cbf371"
      },
      "execution_count": null,
      "outputs": [
        {
          "output_type": "execute_result",
          "data": {
            "text/plain": [
              "<surprise.prediction_algorithms.matrix_factorization.SVD at 0x7f333c6b1c90>"
            ]
          },
          "metadata": {},
          "execution_count": 41
        }
      ]
    },
    {
      "cell_type": "code",
      "source": [
        "# Save the trained model\n",
        "pickle.dump(best_model, open('/content/drive/MyDrive/Colab Notebooks/Data/model.pkl', 'wb'))"
      ],
      "metadata": {
        "id": "VvDAQkWXyCBa"
      },
      "execution_count": null,
      "outputs": []
    },
    {
      "cell_type": "code",
      "source": [
        "trainset = data_train.build_full_trainset()\n",
        "best_model.fit(trainset)"
      ],
      "metadata": {
        "colab": {
          "base_uri": "https://localhost:8080/"
        },
        "id": "ezppGlHOj9gG",
        "outputId": "edce70bf-31ef-49b1-e45a-955818f06e48"
      },
      "execution_count": null,
      "outputs": [
        {
          "output_type": "execute_result",
          "data": {
            "text/plain": [
              "<surprise.prediction_algorithms.matrix_factorization.SVD at 0x7f333c6b1c90>"
            ]
          },
          "metadata": {},
          "execution_count": 47
        }
      ]
    },
    {
      "cell_type": "code",
      "source": [
        "# Get predictions for validation and test sets\n",
        "predictions_validation = best_model.test(validation_data)\n",
        "predictions_test = best_model.test(test_data)\n",
        "\n",
        "# Then compute RMSE for both\n",
        "rmse_validation = accuracy.rmse(predictions_validation)\n",
        "rmse_test = accuracy.rmse(predictions_test)\n",
        "\n",
        "print(f'Validation RMSE: {rmse_validation}')\n",
        "print(f'Test RMSE: {rmse_test}')"
      ],
      "metadata": {
        "colab": {
          "base_uri": "https://localhost:8080/"
        },
        "id": "ghHWC8Bbjosd",
        "outputId": "536c7316-d8d7-4bf5-a682-f38dace74e98"
      },
      "execution_count": null,
      "outputs": [
        {
          "output_type": "stream",
          "name": "stdout",
          "text": [
            "RMSE: 1.3081\n",
            "RMSE: 1.3082\n",
            "Validation RMSE: 1.3081218201996487\n",
            "Test RMSE: 1.308223600016433\n"
          ]
        }
      ]
    },
    {
      "cell_type": "code",
      "source": [
        "def get_all_predictions(user_id):\n",
        "    # Get a list of all item ids\n",
        "    iids = yelp_review_data['business_id'].unique()\n",
        "\n",
        "    # Get a list of ids that the user has rated\n",
        "    iids_user_rated = yelp_review_data.loc[yelp_review_data['user_id'] == user_id, 'business_id']\n",
        "\n",
        "    # Remove the ids that the user has rated from the list of all item ids\n",
        "    iids_to_pred = np.setdiff1d(iids, iids_user_rated)\n",
        "\n",
        "    # Predict the rating for all items that the user hasn't rated yet\n",
        "    predictions = [best_model.predict(user_id, iid) for iid in iids_to_pred]\n",
        "\n",
        "    # return predictions in form of dataframe\n",
        "    return pd.DataFrame(predictions)"
      ],
      "metadata": {
        "id": "1JHBvTk3iNZO"
      },
      "execution_count": null,
      "outputs": []
    },
    {
      "cell_type": "code",
      "source": [
        "# Get all predictions for specific user\n",
        "user_id = 'qVc8ODYU5SZjKXVBgXdI7w'  # replace with the user id you're interested in\n",
        "all_predictions = get_all_predictions(user_id)\n",
        "\n",
        "# Order the predictions from highest to lowest rated\n",
        "ranked_predictions = all_predictions.sort_values(by='est', ascending=False)\n",
        "\n",
        "# Print out the recommended items for the user\n",
        "print(ranked_predictions)"
      ],
      "metadata": {
        "colab": {
          "base_uri": "https://localhost:8080/"
        },
        "id": "XtS24p-sishS",
        "outputId": "baec7505-4647-4f91-b7cf-e6eb9ece1967"
      },
      "execution_count": null,
      "outputs": [
        {
          "output_type": "stream",
          "name": "stdout",
          "text": [
            "                           uid                     iid  r_ui       est  \\\n",
            "52560   qVc8ODYU5SZjKXVBgXdI7w  LNv9jNMMU7-i-NxcLM5A3A  None  5.000000   \n",
            "78476   qVc8ODYU5SZjKXVBgXdI7w  WTJrTbMgLHFwU8HPRFA7_Q  None  5.000000   \n",
            "78462   qVc8ODYU5SZjKXVBgXdI7w  WStVCYmGWYtn1AZ_SvEDtQ  None  5.000000   \n",
            "123671  qVc8ODYU5SZjKXVBgXdI7w  oklaxORZG7V0beWhEN_N8w  None  5.000000   \n",
            "97073   qVc8ODYU5SZjKXVBgXdI7w  dRqRBDrQZsNKo72JlEcejw  None  5.000000   \n",
            "...                        ...                     ...   ...       ...   \n",
            "90388   qVc8ODYU5SZjKXVBgXdI7w  a_OkPbk51U7gCyArNEna0g  None  1.062890   \n",
            "53637   qVc8ODYU5SZjKXVBgXdI7w  LreM6Gs1JUh3bY1hVhy7VA  None  1.028825   \n",
            "109760  qVc8ODYU5SZjKXVBgXdI7w  io4YNLvABJrFraEwtQBWqA  None  1.015807   \n",
            "106928  qVc8ODYU5SZjKXVBgXdI7w  hb4Viui0dPDUpFqN1PbRKA  None  1.000000   \n",
            "104392  qVc8ODYU5SZjKXVBgXdI7w  gY4kIh8f9uCk-XI0FPH1fg  None  1.000000   \n",
            "\n",
            "                          details  \n",
            "52560   {'was_impossible': False}  \n",
            "78476   {'was_impossible': False}  \n",
            "78462   {'was_impossible': False}  \n",
            "123671  {'was_impossible': False}  \n",
            "97073   {'was_impossible': False}  \n",
            "...                           ...  \n",
            "90388   {'was_impossible': False}  \n",
            "53637   {'was_impossible': False}  \n",
            "109760  {'was_impossible': False}  \n",
            "106928  {'was_impossible': False}  \n",
            "104392  {'was_impossible': False}  \n",
            "\n",
            "[150330 rows x 5 columns]\n"
          ]
        }
      ]
    },
    {
      "cell_type": "code",
      "source": [
        "import numpy as np\n",
        "from sklearn.neighbors import NearestNeighbors\n",
        "\n",
        "def get_top_n_similar(n, item_id, item_factors):\n",
        "    # Fit nearest neighbors\n",
        "    knn = NearestNeighbors(n_neighbors=n+1)  # +1 because the item is most similar to itself\n",
        "    knn.fit(item_factors)\n",
        "    \n",
        "    # Get neighbors indices\n",
        "    distances, indices = knn.kneighbors(item_factors[item_id].reshape(1, -1))\n",
        "    \n",
        "    # Exclude the item itself\n",
        "    return indices[0][1:]\n",
        "\n",
        "def get_top_n_similar_users(n, user_id, user_factors):\n",
        "    # Fit nearest neighbors\n",
        "    knn = NearestNeighbors(n_neighbors=n+1)  # +1 because the user is most similar to himself/herself\n",
        "    knn.fit(user_factors)\n",
        "    \n",
        "    # Get neighbors indices\n",
        "    distances, indices = knn.kneighbors(user_factors[user_id].reshape(1, -1))\n",
        "    \n",
        "    # Exclude the user itself\n",
        "    return indices[0][1:]"
      ],
      "metadata": {
        "id": "dmxNl3QApG5n"
      },
      "execution_count": null,
      "outputs": []
    },
    {
      "cell_type": "code",
      "source": [
        "# Assume best_model is your trained SVD model\n",
        "item_factors = best_model.qi\n",
        "user_factors = best_model.pu\n",
        "\n",
        "user_id = train_data.to_inner_uid('mh_-eMZ6K5RLWhZyISBhwA')\n",
        "\n",
        "item_id = train_data.to_inner_iid('OJEiB_a2I_gxC-ZeayI94A')\n",
        "\n",
        "# Get top 5 similar items for item with ID 10\n",
        "similar_items = get_top_n_similar(5, 10, item_factors)\n",
        "# Transform inner item IDs to raw item IDs\n",
        "similar_items_raw = [train_data.to_raw_iid(i) for i in similar_items]\n",
        "print(f\"Top 5 similar items for item {train_data.to_raw_iid(item_id)}: {similar_items_raw}\")\n",
        "\n",
        "# Get top 5 similar users for user with ID 20\n",
        "similar_users = get_top_n_similar_users(5, user_id, user_factors)\n",
        "# Transform inner user IDs to raw user IDs\n",
        "similar_users_raw = [train_data.to_raw_uid(i) for i in similar_users]\n",
        "print(f\"Top 5 similar users for user {train_data.to_raw_uid(user_id)}: {similar_users_raw}\")"
      ],
      "metadata": {
        "colab": {
          "base_uri": "https://localhost:8080/"
        },
        "id": "vB_Vh7mRpRLc",
        "outputId": "f001127a-ee66-4d22-80e3-61b608791107"
      },
      "execution_count": null,
      "outputs": [
        {
          "output_type": "stream",
          "name": "stdout",
          "text": [
            "Top 5 similar items for item OJEiB_a2I_gxC-ZeayI94A: ['q4sI8dkd3QaGQ4qY-GQa2A', 'xDgIMuNfUrm72YZlBesUgg', 'r17TZ4H2vyptAV3nuydGsw', 'Ga2GyMUjrN7V0vhJVA-wBA', '0KEt5T4AlzHhGJXrgrJ1Ww']\n",
            "Top 5 similar users for user mh_-eMZ6K5RLWhZyISBhwA: ['MCiWSAJcBHrXVFVslZqoTw', 'i4BA2SfIgj4CL7fJSefwqA', 'YXiERKhX7h5p2dBU24dcxg', '10ks1QgTTU9dfm8e2yt2vw', 'UwdN2diFAczEbSQXE7l4EQ']\n"
          ]
        }
      ]
    },
    {
      "cell_type": "code",
      "source": [
        "def mean_reciprocal_rank(y_test, predicted):\n",
        "    score = []\n",
        "    for product in y_test:\n",
        "        mrr = 1 / (list(predicted).index(product) + 1) if product in predicted else 0\n",
        "        score.append(mrr)\n",
        "    return np.mean(score)"
      ],
      "metadata": {
        "id": "I1XQYN650FxD"
      },
      "execution_count": null,
      "outputs": []
    },
    {
      "cell_type": "code",
      "source": [
        "# Get predictions for validation and test sets\n",
        "predictions_validation = best_model.test(validation_data)\n",
        "predictions_test = best_model.test(test_data)\n",
        "\n",
        "# Convert the predictions to lists of predicted business IDs\n",
        "predicted_validation = [pred.iid for pred in predictions_validation]\n",
        "predicted_test = [pred.iid for pred in predictions_test]\n",
        "\n",
        "# Extract the actual business IDs from the validation and test sets\n",
        "y_validation = [row[1] for row in validation_data]\n",
        "y_test = [row[1] for row in test_data]\n",
        "\n",
        "# Calculate the MRR for both\n",
        "mrr_validation = mean_reciprocal_rank(y_validation, predicted_validation)\n",
        "mrr_test = mean_reciprocal_rank(y_test, predicted_test)\n",
        "\n",
        "print(f'Validation MRR: {mrr_validation}')\n",
        "print(f'Test MRR: {mrr_test}')"
      ],
      "metadata": {
        "id": "QuMjNXFv0JJr"
      },
      "execution_count": null,
      "outputs": []
    }
  ]
}