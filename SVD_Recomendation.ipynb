{
  "nbformat": 4,
  "nbformat_minor": 0,
  "metadata": {
    "colab": {
      "provenance": [],
      "machine_shape": "hm"
    },
    "kernelspec": {
      "name": "python3",
      "display_name": "Python 3"
    },
    "language_info": {
      "name": "python"
    },
    "gpuClass": "standard"
  },
  "cells": [
    {
      "cell_type": "code",
      "execution_count": null,
      "metadata": {
        "colab": {
          "base_uri": "https://localhost:8080/"
        },
        "id": "cY2m_bz7pBdX",
        "outputId": "27c725ec-45f9-42ef-f6c1-d029044ac68c"
      },
      "outputs": [
        {
          "output_type": "stream",
          "name": "stdout",
          "text": [
            "\u001b[2K     \u001b[90m━━━━━━━━━━━━━━━━━━━━━━━━━━━━━━━━━━━━━━\u001b[0m \u001b[32m345.9/345.9 kB\u001b[0m \u001b[31m20.0 MB/s\u001b[0m eta \u001b[36m0:00:00\u001b[0m\n",
            "\u001b[2K     \u001b[90m━━━━━━━━━━━━━━━━━━━━━━━━━━━━━━━━━━━━━━━━\u001b[0m \u001b[32m33.7/33.7 MB\u001b[0m \u001b[31m41.5 MB/s\u001b[0m eta \u001b[36m0:00:00\u001b[0m\n",
            "\u001b[2K     \u001b[90m━━━━━━━━━━━━━━━━━━━━━━━━━━━━━━━━━━━━━━━━\u001b[0m \u001b[32m11.8/11.8 MB\u001b[0m \u001b[31m80.4 MB/s\u001b[0m eta \u001b[36m0:00:00\u001b[0m\n",
            "\u001b[2K     \u001b[90m━━━━━━━━━━━━━━━━━━━━━━━━━━━━━━━━━━━━━━\u001b[0m \u001b[32m102.7/102.7 kB\u001b[0m \u001b[31m11.7 MB/s\u001b[0m eta \u001b[36m0:00:00\u001b[0m\n",
            "\u001b[?25h  Preparing metadata (setup.py) ... \u001b[?25l\u001b[?25hdone\n",
            "\u001b[2K     \u001b[90m━━━━━━━━━━━━━━━━━━━━━━━━━━━━━━━━━━━━━━\u001b[0m \u001b[32m679.5/679.5 kB\u001b[0m \u001b[31m48.0 MB/s\u001b[0m eta \u001b[36m0:00:00\u001b[0m\n",
            "\u001b[2K     \u001b[90m━━━━━━━━━━━━━━━━━━━━━━━━━━━━━━━━━━━━━━━━\u001b[0m \u001b[32m78.5/78.5 kB\u001b[0m \u001b[31m8.2 MB/s\u001b[0m eta \u001b[36m0:00:00\u001b[0m\n",
            "\u001b[2K     \u001b[90m━━━━━━━━━━━━━━━━━━━━━━━━━━━━━━━━━━━━━━\u001b[0m \u001b[32m296.5/296.5 kB\u001b[0m \u001b[31m26.6 MB/s\u001b[0m eta \u001b[36m0:00:00\u001b[0m\n",
            "\u001b[2K     \u001b[90m━━━━━━━━━━━━━━━━━━━━━━━━━━━━━━━━━━━━━━━━\u001b[0m \u001b[32m4.7/4.7 MB\u001b[0m \u001b[31m77.6 MB/s\u001b[0m eta \u001b[36m0:00:00\u001b[0m\n",
            "\u001b[?25h  Building wheel for htmlmin (setup.py) ... \u001b[?25l\u001b[?25hdone\n"
          ]
        }
      ],
      "source": [
        "!pip install surprise sns joblib tensorflow scikit-learn pymongo ydata-profiling --quiet"
      ]
    },
    {
      "cell_type": "code",
      "source": [
        "import pandas as pd\n",
        "import numpy as np\n",
        "from pathlib import Path\n",
        "import seaborn as sns\n",
        "import matplotlib.pyplot as plt\n",
        "import datetime\n",
        "from surprise import SVD\n",
        "from surprise import Reader\n",
        "from surprise import Dataset\n",
        "from surprise import accuracy\n",
        "from surprise.model_selection.search import GridSearchCV\n",
        "from pathlib import Path\n",
        "from IPython.display import display,Markdown\n",
        "import joblib\n",
        "from tqdm import tqdm\n",
        "import pickle\n",
        "# from google.colab import output, \n",
        "# output.enable_custom_widget_manager()\n",
        "from ydata_profiling import ProfileReport\n",
        "from sklearn.preprocessing import MultiLabelBinarizer,OneHotEncoder\n",
        "from sklearn.model_selection import train_test_split\n",
        "\n",
        "\n",
        "from os import environ\n",
        "import pymongo\n",
        "import json\n",
        "from subprocess import Popen"
      ],
      "metadata": {
        "id": "QZ6lfkJuqaF1"
      },
      "execution_count": null,
      "outputs": []
    },
    {
      "cell_type": "markdown",
      "source": [
        "## 1. Exploración de los datasets"
      ],
      "metadata": {
        "id": "v7XJhXVYuEJX"
      }
    },
    {
      "cell_type": "code",
      "source": [
        "yelp_path = Path(\"/content/drive/MyDrive/Colab Notebooks/Data/data/\")\n",
        "\n",
        "yelp_processed_data = Path(\"./processed_data/\")\n",
        "\n",
        "# ordenados por tamaño\n",
        "yelp_business = Path(yelp_path,\"yelp_academic_dataset_business.json\")\n",
        "yelp_tip = Path(yelp_path , \"yelp_academic_dataset_tip.json\")\n",
        "yelp_checkin = Path(yelp_path , \"yelp_academic_dataset_checkin.json\")\n",
        "yelp_user = Path(yelp_path , \"yelp_academic_dataset_user.json\")\n",
        "yelp_review = Path(yelp_path , \"yelp_academic_dataset_review.json\")"
      ],
      "metadata": {
        "id": "4-TJWMEQqc0e"
      },
      "execution_count": null,
      "outputs": []
    },
    {
      "cell_type": "code",
      "source": [
        "%%time\n",
        "yelp_business_data = pd.read_json(yelp_business, lines=True) # 116 MB"
      ],
      "metadata": {
        "colab": {
          "base_uri": "https://localhost:8080/"
        },
        "id": "0mDCSFnAqmPI",
        "outputId": "f21be0cf-1be8-4452-bc38-11c4aa1fa361"
      },
      "execution_count": null,
      "outputs": [
        {
          "output_type": "stream",
          "name": "stdout",
          "text": [
            "CPU times: user 3.76 s, sys: 1.56 s, total: 5.31 s\n",
            "Wall time: 6.72 s\n"
          ]
        }
      ]
    },
    {
      "cell_type": "code",
      "source": [
        "yelp_business_data.head(3)"
      ],
      "metadata": {
        "colab": {
          "base_uri": "https://localhost:8080/",
          "height": 344
        },
        "id": "kNpWGuJoqpKA",
        "outputId": "28ce7290-5007-4168-9711-f21c4e70dca2"
      },
      "execution_count": null,
      "outputs": [
        {
          "output_type": "execute_result",
          "data": {
            "text/plain": [
              "              business_id                      name  \\\n",
              "0  Pns2l4eNsfO8kk83dixA6A  Abby Rappoport, LAC, CMQ   \n",
              "1  mpf3x-BjTdTEA3yCZrAYPw             The UPS Store   \n",
              "2  tUFrWirKiKi_TAnsVWINQQ                    Target   \n",
              "\n",
              "                           address           city state postal_code  \\\n",
              "0           1616 Chapala St, Ste 2  Santa Barbara    CA       93101   \n",
              "1  87 Grasso Plaza Shopping Center         Affton    MO       63123   \n",
              "2             5255 E Broadway Blvd         Tucson    AZ       85711   \n",
              "\n",
              "    latitude   longitude  stars  review_count  is_open  \\\n",
              "0  34.426679 -119.711197    5.0             7        0   \n",
              "1  38.551126  -90.335695    3.0            15        1   \n",
              "2  32.223236 -110.880452    3.5            22        0   \n",
              "\n",
              "                                          attributes  \\\n",
              "0                      {'ByAppointmentOnly': 'True'}   \n",
              "1             {'BusinessAcceptsCreditCards': 'True'}   \n",
              "2  {'BikeParking': 'True', 'BusinessAcceptsCredit...   \n",
              "\n",
              "                                          categories  \\\n",
              "0  Doctors, Traditional Chinese Medicine, Naturop...   \n",
              "1  Shipping Centers, Local Services, Notaries, Ma...   \n",
              "2  Department Stores, Shopping, Fashion, Home & G...   \n",
              "\n",
              "                                               hours  \n",
              "0                                               None  \n",
              "1  {'Monday': '0:0-0:0', 'Tuesday': '8:0-18:30', ...  \n",
              "2  {'Monday': '8:0-22:0', 'Tuesday': '8:0-22:0', ...  "
            ],
            "text/html": [
              "\n",
              "  <div id=\"df-00a647ff-c0d6-41e3-836a-918005ab017c\">\n",
              "    <div class=\"colab-df-container\">\n",
              "      <div>\n",
              "<style scoped>\n",
              "    .dataframe tbody tr th:only-of-type {\n",
              "        vertical-align: middle;\n",
              "    }\n",
              "\n",
              "    .dataframe tbody tr th {\n",
              "        vertical-align: top;\n",
              "    }\n",
              "\n",
              "    .dataframe thead th {\n",
              "        text-align: right;\n",
              "    }\n",
              "</style>\n",
              "<table border=\"1\" class=\"dataframe\">\n",
              "  <thead>\n",
              "    <tr style=\"text-align: right;\">\n",
              "      <th></th>\n",
              "      <th>business_id</th>\n",
              "      <th>name</th>\n",
              "      <th>address</th>\n",
              "      <th>city</th>\n",
              "      <th>state</th>\n",
              "      <th>postal_code</th>\n",
              "      <th>latitude</th>\n",
              "      <th>longitude</th>\n",
              "      <th>stars</th>\n",
              "      <th>review_count</th>\n",
              "      <th>is_open</th>\n",
              "      <th>attributes</th>\n",
              "      <th>categories</th>\n",
              "      <th>hours</th>\n",
              "    </tr>\n",
              "  </thead>\n",
              "  <tbody>\n",
              "    <tr>\n",
              "      <th>0</th>\n",
              "      <td>Pns2l4eNsfO8kk83dixA6A</td>\n",
              "      <td>Abby Rappoport, LAC, CMQ</td>\n",
              "      <td>1616 Chapala St, Ste 2</td>\n",
              "      <td>Santa Barbara</td>\n",
              "      <td>CA</td>\n",
              "      <td>93101</td>\n",
              "      <td>34.426679</td>\n",
              "      <td>-119.711197</td>\n",
              "      <td>5.0</td>\n",
              "      <td>7</td>\n",
              "      <td>0</td>\n",
              "      <td>{'ByAppointmentOnly': 'True'}</td>\n",
              "      <td>Doctors, Traditional Chinese Medicine, Naturop...</td>\n",
              "      <td>None</td>\n",
              "    </tr>\n",
              "    <tr>\n",
              "      <th>1</th>\n",
              "      <td>mpf3x-BjTdTEA3yCZrAYPw</td>\n",
              "      <td>The UPS Store</td>\n",
              "      <td>87 Grasso Plaza Shopping Center</td>\n",
              "      <td>Affton</td>\n",
              "      <td>MO</td>\n",
              "      <td>63123</td>\n",
              "      <td>38.551126</td>\n",
              "      <td>-90.335695</td>\n",
              "      <td>3.0</td>\n",
              "      <td>15</td>\n",
              "      <td>1</td>\n",
              "      <td>{'BusinessAcceptsCreditCards': 'True'}</td>\n",
              "      <td>Shipping Centers, Local Services, Notaries, Ma...</td>\n",
              "      <td>{'Monday': '0:0-0:0', 'Tuesday': '8:0-18:30', ...</td>\n",
              "    </tr>\n",
              "    <tr>\n",
              "      <th>2</th>\n",
              "      <td>tUFrWirKiKi_TAnsVWINQQ</td>\n",
              "      <td>Target</td>\n",
              "      <td>5255 E Broadway Blvd</td>\n",
              "      <td>Tucson</td>\n",
              "      <td>AZ</td>\n",
              "      <td>85711</td>\n",
              "      <td>32.223236</td>\n",
              "      <td>-110.880452</td>\n",
              "      <td>3.5</td>\n",
              "      <td>22</td>\n",
              "      <td>0</td>\n",
              "      <td>{'BikeParking': 'True', 'BusinessAcceptsCredit...</td>\n",
              "      <td>Department Stores, Shopping, Fashion, Home &amp; G...</td>\n",
              "      <td>{'Monday': '8:0-22:0', 'Tuesday': '8:0-22:0', ...</td>\n",
              "    </tr>\n",
              "  </tbody>\n",
              "</table>\n",
              "</div>\n",
              "      <button class=\"colab-df-convert\" onclick=\"convertToInteractive('df-00a647ff-c0d6-41e3-836a-918005ab017c')\"\n",
              "              title=\"Convert this dataframe to an interactive table.\"\n",
              "              style=\"display:none;\">\n",
              "        \n",
              "  <svg xmlns=\"http://www.w3.org/2000/svg\" height=\"24px\"viewBox=\"0 0 24 24\"\n",
              "       width=\"24px\">\n",
              "    <path d=\"M0 0h24v24H0V0z\" fill=\"none\"/>\n",
              "    <path d=\"M18.56 5.44l.94 2.06.94-2.06 2.06-.94-2.06-.94-.94-2.06-.94 2.06-2.06.94zm-11 1L8.5 8.5l.94-2.06 2.06-.94-2.06-.94L8.5 2.5l-.94 2.06-2.06.94zm10 10l.94 2.06.94-2.06 2.06-.94-2.06-.94-.94-2.06-.94 2.06-2.06.94z\"/><path d=\"M17.41 7.96l-1.37-1.37c-.4-.4-.92-.59-1.43-.59-.52 0-1.04.2-1.43.59L10.3 9.45l-7.72 7.72c-.78.78-.78 2.05 0 2.83L4 21.41c.39.39.9.59 1.41.59.51 0 1.02-.2 1.41-.59l7.78-7.78 2.81-2.81c.8-.78.8-2.07 0-2.86zM5.41 20L4 18.59l7.72-7.72 1.47 1.35L5.41 20z\"/>\n",
              "  </svg>\n",
              "      </button>\n",
              "      \n",
              "  <style>\n",
              "    .colab-df-container {\n",
              "      display:flex;\n",
              "      flex-wrap:wrap;\n",
              "      gap: 12px;\n",
              "    }\n",
              "\n",
              "    .colab-df-convert {\n",
              "      background-color: #E8F0FE;\n",
              "      border: none;\n",
              "      border-radius: 50%;\n",
              "      cursor: pointer;\n",
              "      display: none;\n",
              "      fill: #1967D2;\n",
              "      height: 32px;\n",
              "      padding: 0 0 0 0;\n",
              "      width: 32px;\n",
              "    }\n",
              "\n",
              "    .colab-df-convert:hover {\n",
              "      background-color: #E2EBFA;\n",
              "      box-shadow: 0px 1px 2px rgba(60, 64, 67, 0.3), 0px 1px 3px 1px rgba(60, 64, 67, 0.15);\n",
              "      fill: #174EA6;\n",
              "    }\n",
              "\n",
              "    [theme=dark] .colab-df-convert {\n",
              "      background-color: #3B4455;\n",
              "      fill: #D2E3FC;\n",
              "    }\n",
              "\n",
              "    [theme=dark] .colab-df-convert:hover {\n",
              "      background-color: #434B5C;\n",
              "      box-shadow: 0px 1px 3px 1px rgba(0, 0, 0, 0.15);\n",
              "      filter: drop-shadow(0px 1px 2px rgba(0, 0, 0, 0.3));\n",
              "      fill: #FFFFFF;\n",
              "    }\n",
              "  </style>\n",
              "\n",
              "      <script>\n",
              "        const buttonEl =\n",
              "          document.querySelector('#df-00a647ff-c0d6-41e3-836a-918005ab017c button.colab-df-convert');\n",
              "        buttonEl.style.display =\n",
              "          google.colab.kernel.accessAllowed ? 'block' : 'none';\n",
              "\n",
              "        async function convertToInteractive(key) {\n",
              "          const element = document.querySelector('#df-00a647ff-c0d6-41e3-836a-918005ab017c');\n",
              "          const dataTable =\n",
              "            await google.colab.kernel.invokeFunction('convertToInteractive',\n",
              "                                                     [key], {});\n",
              "          if (!dataTable) return;\n",
              "\n",
              "          const docLinkHtml = 'Like what you see? Visit the ' +\n",
              "            '<a target=\"_blank\" href=https://colab.research.google.com/notebooks/data_table.ipynb>data table notebook</a>'\n",
              "            + ' to learn more about interactive tables.';\n",
              "          element.innerHTML = '';\n",
              "          dataTable['output_type'] = 'display_data';\n",
              "          await google.colab.output.renderOutput(dataTable, element);\n",
              "          const docLink = document.createElement('div');\n",
              "          docLink.innerHTML = docLinkHtml;\n",
              "          element.appendChild(docLink);\n",
              "        }\n",
              "      </script>\n",
              "    </div>\n",
              "  </div>\n",
              "  "
            ]
          },
          "metadata": {},
          "execution_count": 9
        }
      ]
    },
    {
      "cell_type": "code",
      "source": [
        "%%time\n",
        "yelp_review_data = pd.read_json(yelp_review, lines=True) # 5 GB"
      ],
      "metadata": {
        "colab": {
          "base_uri": "https://localhost:8080/"
        },
        "id": "Df0OJNxgqqM2",
        "outputId": "896d5313-f218-4927-9c4e-44e00cc78641"
      },
      "execution_count": null,
      "outputs": [
        {
          "output_type": "stream",
          "name": "stdout",
          "text": [
            "CPU times: user 1min 48s, sys: 1min 44s, total: 3min 33s\n",
            "Wall time: 4min 10s\n"
          ]
        }
      ]
    },
    {
      "cell_type": "code",
      "source": [
        "yelp_review_data.head(3)"
      ],
      "metadata": {
        "colab": {
          "base_uri": "https://localhost:8080/",
          "height": 143
        },
        "id": "z6YBgxtxqrlG",
        "outputId": "3e66a4a3-6ae0-4c0e-a957-e2235a75e225"
      },
      "execution_count": null,
      "outputs": [
        {
          "output_type": "execute_result",
          "data": {
            "text/plain": [
              "                review_id                 user_id             business_id  \\\n",
              "0  KU_O5udG6zpxOg-VcAEodg  mh_-eMZ6K5RLWhZyISBhwA  XQfwVwDr-v0ZS3_CbbE5Xw   \n",
              "1  BiTunyQ73aT9WBnpR9DZGw  OyoGAe7OKpv6SyGZT5g77Q  7ATYjTIgM3jUlt4UM3IypQ   \n",
              "2  saUsX_uimxRlCVr67Z4Jig  8g_iMtfSiwikVnbP2etR0A  YjUWPpI6HXG530lwP-fb2A   \n",
              "\n",
              "   stars  useful  funny  cool  \\\n",
              "0      3       0      0     0   \n",
              "1      5       1      0     1   \n",
              "2      3       0      0     0   \n",
              "\n",
              "                                                text                date  \n",
              "0  If you decide to eat here, just be aware it is... 2018-07-07 22:09:11  \n",
              "1  I've taken a lot of spin classes over the year... 2012-01-03 15:28:18  \n",
              "2  Family diner. Had the buffet. Eclectic assortm... 2014-02-05 20:30:30  "
            ],
            "text/html": [
              "\n",
              "  <div id=\"df-2e90c0d8-2ab9-4ab7-879d-acb5fd2df4a1\">\n",
              "    <div class=\"colab-df-container\">\n",
              "      <div>\n",
              "<style scoped>\n",
              "    .dataframe tbody tr th:only-of-type {\n",
              "        vertical-align: middle;\n",
              "    }\n",
              "\n",
              "    .dataframe tbody tr th {\n",
              "        vertical-align: top;\n",
              "    }\n",
              "\n",
              "    .dataframe thead th {\n",
              "        text-align: right;\n",
              "    }\n",
              "</style>\n",
              "<table border=\"1\" class=\"dataframe\">\n",
              "  <thead>\n",
              "    <tr style=\"text-align: right;\">\n",
              "      <th></th>\n",
              "      <th>review_id</th>\n",
              "      <th>user_id</th>\n",
              "      <th>business_id</th>\n",
              "      <th>stars</th>\n",
              "      <th>useful</th>\n",
              "      <th>funny</th>\n",
              "      <th>cool</th>\n",
              "      <th>text</th>\n",
              "      <th>date</th>\n",
              "    </tr>\n",
              "  </thead>\n",
              "  <tbody>\n",
              "    <tr>\n",
              "      <th>0</th>\n",
              "      <td>KU_O5udG6zpxOg-VcAEodg</td>\n",
              "      <td>mh_-eMZ6K5RLWhZyISBhwA</td>\n",
              "      <td>XQfwVwDr-v0ZS3_CbbE5Xw</td>\n",
              "      <td>3</td>\n",
              "      <td>0</td>\n",
              "      <td>0</td>\n",
              "      <td>0</td>\n",
              "      <td>If you decide to eat here, just be aware it is...</td>\n",
              "      <td>2018-07-07 22:09:11</td>\n",
              "    </tr>\n",
              "    <tr>\n",
              "      <th>1</th>\n",
              "      <td>BiTunyQ73aT9WBnpR9DZGw</td>\n",
              "      <td>OyoGAe7OKpv6SyGZT5g77Q</td>\n",
              "      <td>7ATYjTIgM3jUlt4UM3IypQ</td>\n",
              "      <td>5</td>\n",
              "      <td>1</td>\n",
              "      <td>0</td>\n",
              "      <td>1</td>\n",
              "      <td>I've taken a lot of spin classes over the year...</td>\n",
              "      <td>2012-01-03 15:28:18</td>\n",
              "    </tr>\n",
              "    <tr>\n",
              "      <th>2</th>\n",
              "      <td>saUsX_uimxRlCVr67Z4Jig</td>\n",
              "      <td>8g_iMtfSiwikVnbP2etR0A</td>\n",
              "      <td>YjUWPpI6HXG530lwP-fb2A</td>\n",
              "      <td>3</td>\n",
              "      <td>0</td>\n",
              "      <td>0</td>\n",
              "      <td>0</td>\n",
              "      <td>Family diner. Had the buffet. Eclectic assortm...</td>\n",
              "      <td>2014-02-05 20:30:30</td>\n",
              "    </tr>\n",
              "  </tbody>\n",
              "</table>\n",
              "</div>\n",
              "      <button class=\"colab-df-convert\" onclick=\"convertToInteractive('df-2e90c0d8-2ab9-4ab7-879d-acb5fd2df4a1')\"\n",
              "              title=\"Convert this dataframe to an interactive table.\"\n",
              "              style=\"display:none;\">\n",
              "        \n",
              "  <svg xmlns=\"http://www.w3.org/2000/svg\" height=\"24px\"viewBox=\"0 0 24 24\"\n",
              "       width=\"24px\">\n",
              "    <path d=\"M0 0h24v24H0V0z\" fill=\"none\"/>\n",
              "    <path d=\"M18.56 5.44l.94 2.06.94-2.06 2.06-.94-2.06-.94-.94-2.06-.94 2.06-2.06.94zm-11 1L8.5 8.5l.94-2.06 2.06-.94-2.06-.94L8.5 2.5l-.94 2.06-2.06.94zm10 10l.94 2.06.94-2.06 2.06-.94-2.06-.94-.94-2.06-.94 2.06-2.06.94z\"/><path d=\"M17.41 7.96l-1.37-1.37c-.4-.4-.92-.59-1.43-.59-.52 0-1.04.2-1.43.59L10.3 9.45l-7.72 7.72c-.78.78-.78 2.05 0 2.83L4 21.41c.39.39.9.59 1.41.59.51 0 1.02-.2 1.41-.59l7.78-7.78 2.81-2.81c.8-.78.8-2.07 0-2.86zM5.41 20L4 18.59l7.72-7.72 1.47 1.35L5.41 20z\"/>\n",
              "  </svg>\n",
              "      </button>\n",
              "      \n",
              "  <style>\n",
              "    .colab-df-container {\n",
              "      display:flex;\n",
              "      flex-wrap:wrap;\n",
              "      gap: 12px;\n",
              "    }\n",
              "\n",
              "    .colab-df-convert {\n",
              "      background-color: #E8F0FE;\n",
              "      border: none;\n",
              "      border-radius: 50%;\n",
              "      cursor: pointer;\n",
              "      display: none;\n",
              "      fill: #1967D2;\n",
              "      height: 32px;\n",
              "      padding: 0 0 0 0;\n",
              "      width: 32px;\n",
              "    }\n",
              "\n",
              "    .colab-df-convert:hover {\n",
              "      background-color: #E2EBFA;\n",
              "      box-shadow: 0px 1px 2px rgba(60, 64, 67, 0.3), 0px 1px 3px 1px rgba(60, 64, 67, 0.15);\n",
              "      fill: #174EA6;\n",
              "    }\n",
              "\n",
              "    [theme=dark] .colab-df-convert {\n",
              "      background-color: #3B4455;\n",
              "      fill: #D2E3FC;\n",
              "    }\n",
              "\n",
              "    [theme=dark] .colab-df-convert:hover {\n",
              "      background-color: #434B5C;\n",
              "      box-shadow: 0px 1px 3px 1px rgba(0, 0, 0, 0.15);\n",
              "      filter: drop-shadow(0px 1px 2px rgba(0, 0, 0, 0.3));\n",
              "      fill: #FFFFFF;\n",
              "    }\n",
              "  </style>\n",
              "\n",
              "      <script>\n",
              "        const buttonEl =\n",
              "          document.querySelector('#df-2e90c0d8-2ab9-4ab7-879d-acb5fd2df4a1 button.colab-df-convert');\n",
              "        buttonEl.style.display =\n",
              "          google.colab.kernel.accessAllowed ? 'block' : 'none';\n",
              "\n",
              "        async function convertToInteractive(key) {\n",
              "          const element = document.querySelector('#df-2e90c0d8-2ab9-4ab7-879d-acb5fd2df4a1');\n",
              "          const dataTable =\n",
              "            await google.colab.kernel.invokeFunction('convertToInteractive',\n",
              "                                                     [key], {});\n",
              "          if (!dataTable) return;\n",
              "\n",
              "          const docLinkHtml = 'Like what you see? Visit the ' +\n",
              "            '<a target=\"_blank\" href=https://colab.research.google.com/notebooks/data_table.ipynb>data table notebook</a>'\n",
              "            + ' to learn more about interactive tables.';\n",
              "          element.innerHTML = '';\n",
              "          dataTable['output_type'] = 'display_data';\n",
              "          await google.colab.output.renderOutput(dataTable, element);\n",
              "          const docLink = document.createElement('div');\n",
              "          docLink.innerHTML = docLinkHtml;\n",
              "          element.appendChild(docLink);\n",
              "        }\n",
              "      </script>\n",
              "    </div>\n",
              "  </div>\n",
              "  "
            ]
          },
          "metadata": {},
          "execution_count": 11
        }
      ]
    },
    {
      "cell_type": "code",
      "source": [
        "yelp_review_data['user_id'].describe()"
      ],
      "metadata": {
        "colab": {
          "base_uri": "https://localhost:8080/"
        },
        "id": "adB4BDSJsouG",
        "outputId": "5847c89d-64f6-422f-eb76-efe32e813ee4"
      },
      "execution_count": null,
      "outputs": [
        {
          "output_type": "execute_result",
          "data": {
            "text/plain": [
              "count                    6990280\n",
              "unique                   1987929\n",
              "top       _BcWyKQL16ndpBdggh2kNA\n",
              "freq                        3048\n",
              "Name: user_id, dtype: object"
            ]
          },
          "metadata": {},
          "execution_count": 12
        }
      ]
    },
    {
      "cell_type": "code",
      "source": [
        "yelp_review_data['business_id'].describe()"
      ],
      "metadata": {
        "colab": {
          "base_uri": "https://localhost:8080/"
        },
        "id": "FrfIUapss9Wk",
        "outputId": "af2bd5ca-7ffd-440e-ba77-e8fca91b9364"
      },
      "execution_count": null,
      "outputs": [
        {
          "output_type": "execute_result",
          "data": {
            "text/plain": [
              "count                    6990280\n",
              "unique                    150346\n",
              "top       _ab50qdWOk0DdB6XOrBitw\n",
              "freq                        7673\n",
              "Name: business_id, dtype: object"
            ]
          },
          "metadata": {},
          "execution_count": 13
        }
      ]
    },
    {
      "cell_type": "code",
      "source": [
        "yelp_review_data['stars'].describe()"
      ],
      "metadata": {
        "colab": {
          "base_uri": "https://localhost:8080/"
        },
        "id": "dnMZ7s8jtBeR",
        "outputId": "174eda27-079d-48ae-9ec4-71c1c4274d01"
      },
      "execution_count": null,
      "outputs": [
        {
          "output_type": "execute_result",
          "data": {
            "text/plain": [
              "count    6.990280e+06\n",
              "mean     3.748584e+00\n",
              "std      1.478705e+00\n",
              "min      1.000000e+00\n",
              "25%      3.000000e+00\n",
              "50%      4.000000e+00\n",
              "75%      5.000000e+00\n",
              "max      5.000000e+00\n",
              "Name: stars, dtype: float64"
            ]
          },
          "metadata": {},
          "execution_count": 14
        }
      ]
    },
    {
      "cell_type": "code",
      "source": [
        "yelp_review_data['user_id'].value_counts().plot.hist()"
      ],
      "metadata": {
        "colab": {
          "base_uri": "https://localhost:8080/",
          "height": 462
        },
        "id": "ezg9yK3rtG78",
        "outputId": "3a5e863b-b2d1-4f7d-ad7a-93a7b476eb28"
      },
      "execution_count": null,
      "outputs": [
        {
          "output_type": "execute_result",
          "data": {
            "text/plain": [
              "<Axes: ylabel='Frequency'>"
            ]
          },
          "metadata": {},
          "execution_count": 15
        },
        {
          "output_type": "display_data",
          "data": {
            "text/plain": [
              "<Figure size 640x480 with 1 Axes>"
            ],
            "image/png": "[encoded data removed]"
          },
          "metadata": {}
        }
      ]
    },
    {
      "cell_type": "code",
      "source": [
        "yelp_review_data['business_id'].value_counts().plot.hist()"
      ],
      "metadata": {
        "colab": {
          "base_uri": "https://localhost:8080/",
          "height": 447
        },
        "id": "Q6HAXBvbtJOo",
        "outputId": "ddccd5b1-a1ea-44e9-ec9f-82ae75456bbf"
      },
      "execution_count": null,
      "outputs": [
        {
          "output_type": "execute_result",
          "data": {
            "text/plain": [
              "<Axes: ylabel='Frequency'>"
            ]
          },
          "metadata": {},
          "execution_count": 16
        },
        {
          "output_type": "display_data",
          "data": {
            "text/plain": [
              "<Figure size 640x480 with 1 Axes>"
            ],
            "image/png": "[encoded data removed]"
          },
          "metadata": {}
        }
      ]
    },
    {
      "cell_type": "code",
      "source": [
        "yelp_review_data['stars'].value_counts().plot.hist()"
      ],
      "metadata": {
        "colab": {
          "base_uri": "https://localhost:8080/",
          "height": 465
        },
        "id": "7Haw-uFftjMH",
        "outputId": "9790e88f-8669-4254-c9fb-967632721b83"
      },
      "execution_count": null,
      "outputs": [
        {
          "output_type": "execute_result",
          "data": {
            "text/plain": [
              "<Axes: ylabel='Frequency'>"
            ]
          },
          "metadata": {},
          "execution_count": 17
        },
        {
          "output_type": "display_data",
          "data": {
            "text/plain": [
              "<Figure size 640x480 with 1 Axes>"
            ],
            "image/png": "[encoded data removed]"
          },
          "metadata": {}
        }
      ]
    },
    {
      "cell_type": "code",
      "source": [
        "# Se establece el rango en el cual se aceptaran los ratings\n",
        "reader = Reader( rating_scale = ( 1, 5 ) )"
      ],
      "metadata": {
        "id": "uqIziRzKt7d_"
      },
      "execution_count": null,
      "outputs": []
    },
    {
      "cell_type": "markdown",
      "source": [
        "## 2. Transformación de los dataset al formato de Surprise"
      ],
      "metadata": {
        "id": "EjpqtEiFuJsQ"
      }
    },
    {
      "cell_type": "code",
      "source": [
        "# Assuming df is your DataFrame and it has columns 'user_id', 'business_id' and 'stars'\n",
        "df_train, df_temp = train_test_split(yelp_review_data, test_size=0.2, random_state=42)\n",
        "df_val, df_test = train_test_split(df_temp, test_size=0.5, random_state=42)"
      ],
      "metadata": {
        "id": "eeZfERjqt9--"
      },
      "execution_count": null,
      "outputs": []
    },
    {
      "cell_type": "code",
      "source": [
        "df_train.head(5)"
      ],
      "metadata": {
        "colab": {
          "base_uri": "https://localhost:8080/",
          "height": 206
        },
        "id": "B-BlxL2AqgJz",
        "outputId": "4d80613e-c1ea-4304-992b-5f33311be69f"
      },
      "execution_count": null,
      "outputs": [
        {
          "output_type": "execute_result",
          "data": {
            "text/plain": [
              "                      review_id                 user_id  \\\n",
              "4763105  5xbDIl2IahpTufrr4M7M9A  V_46L2RMM2GrSorJMpOCkw   \n",
              "3276572  r1bQOym6LOTHWZB3zd6Y0w  JGeVD5-0bKKnXnZxaTZUZQ   \n",
              "3769481  U23V0kEAYQ9QeuBpNqc0QA  VRKuCyuCYZGzCpMankWH1Q   \n",
              "1362927  Kk_TReiaS3CgIk_YoeZ5KQ  ohQzhkPJtKUmdAhHP6xZdw   \n",
              "6976103  He83DqAVvvRgTM4JddlleQ  HVQKFDi-vZbawtmLMq3ZOw   \n",
              "\n",
              "                    business_id  stars  useful  funny  cool  \\\n",
              "4763105  OJEiB_a2I_gxC-ZeayI94A      3       0      0     0   \n",
              "3276572  bRTWD05drzNfzVP0IadX7A      1       0      0     0   \n",
              "3769481  232qg1k9QV0pNt90jyTatA      4       0      0     0   \n",
              "1362927  Y5RUhntIPDfe2eKriQFIZg      5       0      0     0   \n",
              "6976103  0RuvlgTnKFbX3IK0ZOOocA      5       1      0     0   \n",
              "\n",
              "                                                      text                date  \n",
              "4763105  Visited the Another Broken Egg Cafe yesterday.... 2019-03-20 14:59:49  \n",
              "3276572  I typically don't write reviews, but this plac... 2015-05-22 23:06:23  \n",
              "3769481  One of my goals for my New Orleans trip was to... 2017-11-17 10:23:07  \n",
              "1362927  Went here for the first time last night for dr... 2016-11-21 16:00:13  \n",
              "6976103  Green eggs cafe was amazing! My boyfriend and ... 2020-07-20 18:46:14  "
            ],
            "text/html": [
              "\n",
              "  <div id=\"df-d6f11e22-d791-442c-98a9-e3d587c35b51\">\n",
              "    <div class=\"colab-df-container\">\n",
              "      <div>\n",
              "<style scoped>\n",
              "    .dataframe tbody tr th:only-of-type {\n",
              "        vertical-align: middle;\n",
              "    }\n",
              "\n",
              "    .dataframe tbody tr th {\n",
              "        vertical-align: top;\n",
              "    }\n",
              "\n",
              "    .dataframe thead th {\n",
              "        text-align: right;\n",
              "    }\n",
              "</style>\n",
              "<table border=\"1\" class=\"dataframe\">\n",
              "  <thead>\n",
              "    <tr style=\"text-align: right;\">\n",
              "      <th></th>\n",
              "      <th>review_id</th>\n",
              "      <th>user_id</th>\n",
              "      <th>business_id</th>\n",
              "      <th>stars</th>\n",
              "      <th>useful</th>\n",
              "      <th>funny</th>\n",
              "      <th>cool</th>\n",
              "      <th>text</th>\n",
              "      <th>date</th>\n",
              "    </tr>\n",
              "  </thead>\n",
              "  <tbody>\n",
              "    <tr>\n",
              "      <th>4763105</th>\n",
              "      <td>5xbDIl2IahpTufrr4M7M9A</td>\n",
              "      <td>V_46L2RMM2GrSorJMpOCkw</td>\n",
              "      <td>OJEiB_a2I_gxC-ZeayI94A</td>\n",
              "      <td>3</td>\n",
              "      <td>0</td>\n",
              "      <td>0</td>\n",
              "      <td>0</td>\n",
              "      <td>Visited the Another Broken Egg Cafe yesterday....</td>\n",
              "      <td>2019-03-20 14:59:49</td>\n",
              "    </tr>\n",
              "    <tr>\n",
              "      <th>3276572</th>\n",
              "      <td>r1bQOym6LOTHWZB3zd6Y0w</td>\n",
              "      <td>JGeVD5-0bKKnXnZxaTZUZQ</td>\n",
              "      <td>bRTWD05drzNfzVP0IadX7A</td>\n",
              "      <td>1</td>\n",
              "      <td>0</td>\n",
              "      <td>0</td>\n",
              "      <td>0</td>\n",
              "      <td>I typically don't write reviews, but this plac...</td>\n",
              "      <td>2015-05-22 23:06:23</td>\n",
              "    </tr>\n",
              "    <tr>\n",
              "      <th>3769481</th>\n",
              "      <td>U23V0kEAYQ9QeuBpNqc0QA</td>\n",
              "      <td>VRKuCyuCYZGzCpMankWH1Q</td>\n",
              "      <td>232qg1k9QV0pNt90jyTatA</td>\n",
              "      <td>4</td>\n",
              "      <td>0</td>\n",
              "      <td>0</td>\n",
              "      <td>0</td>\n",
              "      <td>One of my goals for my New Orleans trip was to...</td>\n",
              "      <td>2017-11-17 10:23:07</td>\n",
              "    </tr>\n",
              "    <tr>\n",
              "      <th>1362927</th>\n",
              "      <td>Kk_TReiaS3CgIk_YoeZ5KQ</td>\n",
              "      <td>ohQzhkPJtKUmdAhHP6xZdw</td>\n",
              "      <td>Y5RUhntIPDfe2eKriQFIZg</td>\n",
              "      <td>5</td>\n",
              "      <td>0</td>\n",
              "      <td>0</td>\n",
              "      <td>0</td>\n",
              "      <td>Went here for the first time last night for dr...</td>\n",
              "      <td>2016-11-21 16:00:13</td>\n",
              "    </tr>\n",
              "    <tr>\n",
              "      <th>6976103</th>\n",
              "      <td>He83DqAVvvRgTM4JddlleQ</td>\n",
              "      <td>HVQKFDi-vZbawtmLMq3ZOw</td>\n",
              "      <td>0RuvlgTnKFbX3IK0ZOOocA</td>\n",
              "      <td>5</td>\n",
              "      <td>1</td>\n",
              "      <td>0</td>\n",
              "      <td>0</td>\n",
              "      <td>Green eggs cafe was amazing! My boyfriend and ...</td>\n",
              "      <td>2020-07-20 18:46:14</td>\n",
              "    </tr>\n",
              "  </tbody>\n",
              "</table>\n",
              "</div>\n",
              "      <button class=\"colab-df-convert\" onclick=\"convertToInteractive('df-d6f11e22-d791-442c-98a9-e3d587c35b51')\"\n",
              "              title=\"Convert this dataframe to an interactive table.\"\n",
              "              style=\"display:none;\">\n",
              "        \n",
              "  <svg xmlns=\"http://www.w3.org/2000/svg\" height=\"24px\"viewBox=\"0 0 24 24\"\n",
              "       width=\"24px\">\n",
              "    <path d=\"M0 0h24v24H0V0z\" fill=\"none\"/>\n",
              "    <path d=\"M18.56 5.44l.94 2.06.94-2.06 2.06-.94-2.06-.94-.94-2.06-.94 2.06-2.06.94zm-11 1L8.5 8.5l.94-2.06 2.06-.94-2.06-.94L8.5 2.5l-.94 2.06-2.06.94zm10 10l.94 2.06.94-2.06 2.06-.94-2.06-.94-.94-2.06-.94 2.06-2.06.94z\"/><path d=\"M17.41 7.96l-1.37-1.37c-.4-.4-.92-.59-1.43-.59-.52 0-1.04.2-1.43.59L10.3 9.45l-7.72 7.72c-.78.78-.78 2.05 0 2.83L4 21.41c.39.39.9.59 1.41.59.51 0 1.02-.2 1.41-.59l7.78-7.78 2.81-2.81c.8-.78.8-2.07 0-2.86zM5.41 20L4 18.59l7.72-7.72 1.47 1.35L5.41 20z\"/>\n",
              "  </svg>\n",
              "      </button>\n",
              "      \n",
              "  <style>\n",
              "    .colab-df-container {\n",
              "      display:flex;\n",
              "      flex-wrap:wrap;\n",
              "      gap: 12px;\n",
              "    }\n",
              "\n",
              "    .colab-df-convert {\n",
              "      background-color: #E8F0FE;\n",
              "      border: none;\n",
              "      border-radius: 50%;\n",
              "      cursor: pointer;\n",
              "      display: none;\n",
              "      fill: #1967D2;\n",
              "      height: 32px;\n",
              "      padding: 0 0 0 0;\n",
              "      width: 32px;\n",
              "    }\n",
              "\n",
              "    .colab-df-convert:hover {\n",
              "      background-color: #E2EBFA;\n",
              "      box-shadow: 0px 1px 2px rgba(60, 64, 67, 0.3), 0px 1px 3px 1px rgba(60, 64, 67, 0.15);\n",
              "      fill: #174EA6;\n",
              "    }\n",
              "\n",
              "    [theme=dark] .colab-df-convert {\n",
              "      background-color: #3B4455;\n",
              "      fill: #D2E3FC;\n",
              "    }\n",
              "\n",
              "    [theme=dark] .colab-df-convert:hover {\n",
              "      background-color: #434B5C;\n",
              "      box-shadow: 0px 1px 3px 1px rgba(0, 0, 0, 0.15);\n",
              "      filter: drop-shadow(0px 1px 2px rgba(0, 0, 0, 0.3));\n",
              "      fill: #FFFFFF;\n",
              "    }\n",
              "  </style>\n",
              "\n",
              "      <script>\n",
              "        const buttonEl =\n",
              "          document.querySelector('#df-d6f11e22-d791-442c-98a9-e3d587c35b51 button.colab-df-convert');\n",
              "        buttonEl.style.display =\n",
              "          google.colab.kernel.accessAllowed ? 'block' : 'none';\n",
              "\n",
              "        async function convertToInteractive(key) {\n",
              "          const element = document.querySelector('#df-d6f11e22-d791-442c-98a9-e3d587c35b51');\n",
              "          const dataTable =\n",
              "            await google.colab.kernel.invokeFunction('convertToInteractive',\n",
              "                                                     [key], {});\n",
              "          if (!dataTable) return;\n",
              "\n",
              "          const docLinkHtml = 'Like what you see? Visit the ' +\n",
              "            '<a target=\"_blank\" href=https://colab.research.google.com/notebooks/data_table.ipynb>data table notebook</a>'\n",
              "            + ' to learn more about interactive tables.';\n",
              "          element.innerHTML = '';\n",
              "          dataTable['output_type'] = 'display_data';\n",
              "          await google.colab.output.renderOutput(dataTable, element);\n",
              "          const docLink = document.createElement('div');\n",
              "          docLink.innerHTML = docLinkHtml;\n",
              "          element.appendChild(docLink);\n",
              "        }\n",
              "      </script>\n",
              "    </div>\n",
              "  </div>\n",
              "  "
            ]
          },
          "metadata": {},
          "execution_count": 59
        }
      ]
    },
    {
      "cell_type": "code",
      "source": [
        "# The columns must correspond to user id, item id and ratings (in that order).\n",
        "data_train = Dataset.load_from_df(df_train[['user_id', 'business_id', 'stars']], reader)\n",
        "data_val = Dataset.load_from_df(df_val[['user_id', 'business_id', 'stars']], reader)\n",
        "data_test = Dataset.load_from_df(df_test[['user_id', 'business_id', 'stars']], reader)"
      ],
      "metadata": {
        "id": "9Dzz-SXBuxL9"
      },
      "execution_count": null,
      "outputs": []
    },
    {
      "cell_type": "code",
      "source": [
        "# Surprise requiere que explicitamente los datasets sean transformados a datasets de entrenamiento y prueba en cada caso \n",
        "# Si bien no se entrenará sobre los datasets de validación y prueba, surprise requiere que sean tranformados a entrenamiento para posteriormente ser transformados a prueba\n",
        "train_data = data_train.build_full_trainset()\n",
        "validation_data = data_val.build_full_trainset()\n",
        "test_data = data_test.build_full_trainset()"
      ],
      "metadata": {
        "id": "CtL3ps2FvARn"
      },
      "execution_count": null,
      "outputs": []
    },
    {
      "cell_type": "code",
      "source": [
        "# Finalmente, se convierten los 3 datasets a prueba ya que se medirá el error obtenido en los 3\n",
        "train_data_2 = train_data.build_testset()\n",
        "validation_data = validation_data.build_testset()\n",
        "test_data = test_data.build_testset()"
      ],
      "metadata": {
        "id": "eTHxNyRavA4W"
      },
      "execution_count": null,
      "outputs": []
    },
    {
      "cell_type": "markdown",
      "source": [
        "## 3. Entrenamiento de un modelo SVD con bias"
      ],
      "metadata": {
        "id": "CnGz0IXuvP51"
      }
    },
    {
      "cell_type": "code",
      "source": [
        "mean = train_data.global_mean\n",
        "print( mean )"
      ],
      "metadata": {
        "colab": {
          "base_uri": "https://localhost:8080/"
        },
        "id": "TFtRk0VrvPFl",
        "outputId": "1d9a75db-24ea-4a16-b24c-b86bfa668d65"
      },
      "execution_count": null,
      "outputs": [
        {
          "output_type": "stream",
          "name": "stdout",
          "text": [
            "3.7485801713236095\n"
          ]
        }
      ]
    },
    {
      "cell_type": "code",
      "source": [
        "gs_params = {\n",
        "    # cambiar las k dimensiones\n",
        "    \"n_factors\":list(range(35,45)),\n",
        "    \"reg_all\":[0,0.01,1],\n",
        "    \"biased\":[True],\n",
        "    \"lr_all\":[0.01,0.1,0.5]\n",
        "    }\n",
        "\n",
        "svd = SVD( n_epochs = 200,init_mean = 0, init_std_dev = 0.01 )\n",
        "\n",
        "gs_large = GridSearchCV(SVD, gs_params, measures=[\"rmse\",\"mae\"], cv=3,n_jobs=-1,return_train_measures=True,joblib_verbose=2)"
      ],
      "metadata": {
        "id": "IN3UgayXvGXb"
      },
      "execution_count": null,
      "outputs": []
    },
    {
      "cell_type": "code",
      "source": [
        "%%time\n",
        "gs_large.fit(data_train)"
      ],
      "metadata": {
        "colab": {
          "base_uri": "https://localhost:8080/"
        },
        "id": "7Ox6FuEzwF7B",
        "outputId": "b87cc61a-6e57-4b69-af02-e6ef32a32fb3"
      },
      "execution_count": null,
      "outputs": [
        {
          "output_type": "stream",
          "name": "stderr",
          "text": [
            "[Parallel(n_jobs=-1)]: Using backend LokyBackend with 8 concurrent workers.\n",
            "[Parallel(n_jobs=-1)]: Done  25 tasks      | elapsed: 14.2min\n",
            "[Parallel(n_jobs=-1)]: Done 146 tasks      | elapsed: 67.4min\n"
          ]
        },
        {
          "output_type": "stream",
          "name": "stdout",
          "text": [
            "CPU times: user 1h 35min 35s, sys: 6min 6s, total: 1h 41min 42s\n",
            "Wall time: 2h 8min 35s\n"
          ]
        },
        {
          "output_type": "stream",
          "name": "stderr",
          "text": [
            "[Parallel(n_jobs=-1)]: Done 270 out of 270 | elapsed: 126.1min finished\n"
          ]
        }
      ]
    },
    {
      "cell_type": "code",
      "source": [
        "gs_large.best_params"
      ],
      "metadata": {
        "colab": {
          "base_uri": "https://localhost:8080/"
        },
        "id": "mM-QSrMaxXFH",
        "outputId": "294ed5af-bdf6-4229-e928-8ab190f04fb7"
      },
      "execution_count": null,
      "outputs": [
        {
          "output_type": "execute_result",
          "data": {
            "text/plain": [
              "{'rmse': {'n_factors': 36, 'reg_all': 0.01, 'biased': True, 'lr_all': 0.01},\n",
              " 'mae': {'n_factors': 35, 'reg_all': 0.01, 'biased': True, 'lr_all': 0.01}}"
            ]
          },
          "metadata": {},
          "execution_count": 31
        }
      ]
    },
    {
      "cell_type": "code",
      "source": [
        "gs_large.best_estimator"
      ],
      "metadata": {
        "colab": {
          "base_uri": "https://localhost:8080/"
        },
        "id": "5cf6W7_mxYwb",
        "outputId": "bdd92dd6-5601-4948-f750-e398c55ccb82"
      },
      "execution_count": null,
      "outputs": [
        {
          "output_type": "execute_result",
          "data": {
            "text/plain": [
              "{'rmse': <surprise.prediction_algorithms.matrix_factorization.SVD at 0x7f333c6b1c90>,\n",
              " 'mae': <surprise.prediction_algorithms.matrix_factorization.SVD at 0x7f333c6b0ca0>}"
            ]
          },
          "metadata": {},
          "execution_count": 32
        }
      ]
    },
    {
      "cell_type": "code",
      "source": [
        "best_model = gs_large.best_estimator['rmse']\n",
        "best_model"
      ],
      "metadata": {
        "colab": {
          "base_uri": "https://localhost:8080/"
        },
        "id": "8-sP3jJKh9if",
        "outputId": "b18094e3-2b93-4d82-81fd-da8fd3cbf371"
      },
      "execution_count": null,
      "outputs": [
        {
          "output_type": "execute_result",
          "data": {
            "text/plain": [
              "<surprise.prediction_algorithms.matrix_factorization.SVD at 0x7f333c6b1c90>"
            ]
          },
          "metadata": {},
          "execution_count": 41
        }
      ]
    },
    {
      "cell_type": "code",
      "source": [
        "# Save the trained model\n",
        "pickle.dump(best_model, open('/content/drive/MyDrive/Colab Notebooks/Data/model.pkl', 'wb'))"
      ],
      "metadata": {
        "id": "VvDAQkWXyCBa"
      },
      "execution_count": null,
      "outputs": []
    },
    {
      "cell_type": "code",
      "source": [
        "trainset = data_train.build_full_trainset()\n",
        "best_model.fit(trainset)"
      ],
      "metadata": {
        "colab": {
          "base_uri": "https://localhost:8080/"
        },
        "id": "ezppGlHOj9gG",
        "outputId": "edce70bf-31ef-49b1-e45a-955818f06e48"
      },
      "execution_count": null,
      "outputs": [
        {
          "output_type": "execute_result",
          "data": {
            "text/plain": [
              "<surprise.prediction_algorithms.matrix_factorization.SVD at 0x7f333c6b1c90>"
            ]
          },
          "metadata": {},
          "execution_count": 47
        }
      ]
    },
    {
      "cell_type": "code",
      "source": [
        "# Get predictions for validation and test sets\n",
        "predictions_validation = best_model.test(validation_data)\n",
        "predictions_test = best_model.test(test_data)\n",
        "\n",
        "# Then compute RMSE for both\n",
        "rmse_validation = accuracy.rmse(predictions_validation)\n",
        "rmse_test = accuracy.rmse(predictions_test)\n",
        "\n",
        "print(f'Validation RMSE: {rmse_validation}')\n",
        "print(f'Test RMSE: {rmse_test}')"
      ],
      "metadata": {
        "colab": {
          "base_uri": "https://localhost:8080/"
        },
        "id": "ghHWC8Bbjosd",
        "outputId": "536c7316-d8d7-4bf5-a682-f38dace74e98"
      },
      "execution_count": null,
      "outputs": [
        {
          "output_type": "stream",
          "name": "stdout",
          "text": [
            "RMSE: 1.3081\n",
            "RMSE: 1.3082\n",
            "Validation RMSE: 1.3081218201996487\n",
            "Test RMSE: 1.308223600016433\n"
          ]
        }
      ]
    },
    {
      "cell_type": "code",
      "source": [
        "def get_all_predictions(user_id):\n",
        "    # Get a list of all item ids\n",
        "    iids = yelp_review_data['business_id'].unique()\n",
        "\n",
        "    # Get a list of ids that the user has rated\n",
        "    iids_user_rated = yelp_review_data.loc[yelp_review_data['user_id'] == user_id, 'business_id']\n",
        "\n",
        "    # Remove the ids that the user has rated from the list of all item ids\n",
        "    iids_to_pred = np.setdiff1d(iids, iids_user_rated)\n",
        "\n",
        "    # Predict the rating for all items that the user hasn't rated yet\n",
        "    predictions = [best_model.predict(user_id, iid) for iid in iids_to_pred]\n",
        "\n",
        "    # return predictions in form of dataframe\n",
        "    return pd.DataFrame(predictions)"
      ],
      "metadata": {
        "id": "1JHBvTk3iNZO"
      },
      "execution_count": null,
      "outputs": []
    },
    {
      "cell_type": "code",
      "source": [
        "# Get all predictions for specific user\n",
        "user_id = 'qVc8ODYU5SZjKXVBgXdI7w'  # replace with the user id you're interested in\n",
        "all_predictions = get_all_predictions(user_id)\n",
        "\n",
        "# Order the predictions from highest to lowest rated\n",
        "ranked_predictions = all_predictions.sort_values(by='est', ascending=False)\n",
        "\n",
        "# Print out the recommended items for the user\n",
        "print(ranked_predictions)"
      ],
      "metadata": {
        "colab": {
          "base_uri": "https://localhost:8080/"
        },
        "id": "XtS24p-sishS",
        "outputId": "baec7505-4647-4f91-b7cf-e6eb9ece1967"
      },
      "execution_count": null,
      "outputs": [
        {
          "output_type": "stream",
          "name": "stdout",
          "text": [
            "                           uid                     iid  r_ui       est  \\\n",
            "52560   qVc8ODYU5SZjKXVBgXdI7w  LNv9jNMMU7-i-NxcLM5A3A  None  5.000000   \n",
            "78476   qVc8ODYU5SZjKXVBgXdI7w  WTJrTbMgLHFwU8HPRFA7_Q  None  5.000000   \n",
            "78462   qVc8ODYU5SZjKXVBgXdI7w  WStVCYmGWYtn1AZ_SvEDtQ  None  5.000000   \n",
            "123671  qVc8ODYU5SZjKXVBgXdI7w  oklaxORZG7V0beWhEN_N8w  None  5.000000   \n",
            "97073   qVc8ODYU5SZjKXVBgXdI7w  dRqRBDrQZsNKo72JlEcejw  None  5.000000   \n",
            "...                        ...                     ...   ...       ...   \n",
            "90388   qVc8ODYU5SZjKXVBgXdI7w  a_OkPbk51U7gCyArNEna0g  None  1.062890   \n",
            "53637   qVc8ODYU5SZjKXVBgXdI7w  LreM6Gs1JUh3bY1hVhy7VA  None  1.028825   \n",
            "109760  qVc8ODYU5SZjKXVBgXdI7w  io4YNLvABJrFraEwtQBWqA  None  1.015807   \n",
            "106928  qVc8ODYU5SZjKXVBgXdI7w  hb4Viui0dPDUpFqN1PbRKA  None  1.000000   \n",
            "104392  qVc8ODYU5SZjKXVBgXdI7w  gY4kIh8f9uCk-XI0FPH1fg  None  1.000000   \n",
            "\n",
            "                          details  \n",
            "52560   {'was_impossible': False}  \n",
            "78476   {'was_impossible': False}  \n",
            "78462   {'was_impossible': False}  \n",
            "123671  {'was_impossible': False}  \n",
            "97073   {'was_impossible': False}  \n",
            "...                           ...  \n",
            "90388   {'was_impossible': False}  \n",
            "53637   {'was_impossible': False}  \n",
            "109760  {'was_impossible': False}  \n",
            "106928  {'was_impossible': False}  \n",
            "104392  {'was_impossible': False}  \n",
            "\n",
            "[150330 rows x 5 columns]\n"
          ]
        }
      ]
    },
    {
      "cell_type": "code",
      "source": [
        "import numpy as np\n",
        "from sklearn.neighbors import NearestNeighbors\n",
        "\n",
        "def get_top_n_similar(n, item_id, item_factors):\n",
        "    # Fit nearest neighbors\n",
        "    knn = NearestNeighbors(n_neighbors=n+1)  # +1 because the item is most similar to itself\n",
        "    knn.fit(item_factors)\n",
        "    \n",
        "    # Get neighbors indices\n",
        "    distances, indices = knn.kneighbors(item_factors[item_id].reshape(1, -1))\n",
        "    \n",
        "    # Exclude the item itself\n",
        "    return indices[0][1:]\n",
        "\n",
        "def get_top_n_similar_users(n, user_id, user_factors):\n",
        "    # Fit nearest neighbors\n",
        "    knn = NearestNeighbors(n_neighbors=n+1)  # +1 because the user is most similar to himself/herself\n",
        "    knn.fit(user_factors)\n",
        "    \n",
        "    # Get neighbors indices\n",
        "    distances, indices = knn.kneighbors(user_factors[user_id].reshape(1, -1))\n",
        "    \n",
        "    # Exclude the user itself\n",
        "    return indices[0][1:]"
      ],
      "metadata": {
        "id": "dmxNl3QApG5n"
      },
      "execution_count": null,
      "outputs": []
    },
    {
      "cell_type": "code",
      "source": [
        "# Assume best_model is your trained SVD model\n",
        "item_factors = best_model.qi\n",
        "user_factors = best_model.pu\n",
        "\n",
        "user_id = train_data.to_inner_uid('mh_-eMZ6K5RLWhZyISBhwA')\n",
        "\n",
        "item_id = train_data.to_inner_iid('OJEiB_a2I_gxC-ZeayI94A')\n",
        "\n",
        "# Get top 5 similar items for item with ID 10\n",
        "similar_items = get_top_n_similar(5, 10, item_factors)\n",
        "# Transform inner item IDs to raw item IDs\n",
        "similar_items_raw = [train_data.to_raw_iid(i) for i in similar_items]\n",
        "print(f\"Top 5 similar items for item {train_data.to_raw_iid(item_id)}: {similar_items_raw}\")\n",
        "\n",
        "# Get top 5 similar users for user with ID 20\n",
        "similar_users = get_top_n_similar_users(5, user_id, user_factors)\n",
        "# Transform inner user IDs to raw user IDs\n",
        "similar_users_raw = [train_data.to_raw_uid(i) for i in similar_users]\n",
        "print(f\"Top 5 similar users for user {train_data.to_raw_uid(user_id)}: {similar_users_raw}\")"
      ],
      "metadata": {
        "colab": {
          "base_uri": "https://localhost:8080/"
        },
        "id": "vB_Vh7mRpRLc",
        "outputId": "f001127a-ee66-4d22-80e3-61b608791107"
      },
      "execution_count": null,
      "outputs": [
        {
          "output_type": "stream",
          "name": "stdout",
          "text": [
            "Top 5 similar items for item OJEiB_a2I_gxC-ZeayI94A: ['q4sI8dkd3QaGQ4qY-GQa2A', 'xDgIMuNfUrm72YZlBesUgg', 'r17TZ4H2vyptAV3nuydGsw', 'Ga2GyMUjrN7V0vhJVA-wBA', '0KEt5T4AlzHhGJXrgrJ1Ww']\n",
            "Top 5 similar users for user mh_-eMZ6K5RLWhZyISBhwA: ['MCiWSAJcBHrXVFVslZqoTw', 'i4BA2SfIgj4CL7fJSefwqA', 'YXiERKhX7h5p2dBU24dcxg', '10ks1QgTTU9dfm8e2yt2vw', 'UwdN2diFAczEbSQXE7l4EQ']\n"
          ]
        }
      ]
    },
    {
      "cell_type": "code",
      "source": [
        "def mean_reciprocal_rank(y_test, predicted):\n",
        "    score = []\n",
        "    for product in y_test:\n",
        "        mrr = 1 / (list(predicted).index(product) + 1) if product in predicted else 0\n",
        "        score.append(mrr)\n",
        "    return np.mean(score)"
      ],
      "metadata": {
        "id": "I1XQYN650FxD"
      },
      "execution_count": 63,
      "outputs": []
    },
    {
      "cell_type": "code",
      "source": [
        "# Get predictions for validation and test sets\n",
        "predictions_validation = best_model.test(validation_data)\n",
        "predictions_test = best_model.test(test_data)\n",
        "\n",
        "# Convert the predictions to lists of predicted business IDs\n",
        "predicted_validation = [pred.iid for pred in predictions_validation]\n",
        "predicted_test = [pred.iid for pred in predictions_test]\n",
        "\n",
        "# Extract the actual business IDs from the validation and test sets\n",
        "y_validation = [row[1] for row in validation_data]\n",
        "y_test = [row[1] for row in test_data]\n",
        "\n",
        "# Calculate the MRR for both\n",
        "mrr_validation = mean_reciprocal_rank(y_validation, predicted_validation)\n",
        "mrr_test = mean_reciprocal_rank(y_test, predicted_test)\n",
        "\n",
        "print(f'Validation MRR: {mrr_validation}')\n",
        "print(f'Test MRR: {mrr_test}')"
      ],
      "metadata": {
        "id": "QuMjNXFv0JJr"
      },
      "execution_count": null,
      "outputs": []
    }
  ]
}