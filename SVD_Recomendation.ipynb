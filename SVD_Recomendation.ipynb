{
 "cells": [
  {
   "cell_type": "code",
   "execution_count": 1,
   "metadata": {
    "collapsed": true
   },
   "outputs": [],
   "source": [
    "import pandas as pd\n",
    "import numpy as np\n",
    "from pathlib import Path\n",
    "import seaborn as sns\n",
    "import matplotlib.pyplot as plt\n",
    "import datetime\n",
    "from surprise import SVD\n",
    "from surprise import Reader\n",
    "from surprise import Dataset\n",
    "from surprise import accuracy\n",
    "from surprise.model_selection.search import GridSearchCV\n",
    "from pathlib import Path\n",
    "from IPython.display import display,Markdown\n",
    "import joblib\n",
    "from tqdm import tqdm\n",
    "# from google.colab import output,\n",
    "# output.enable_custom_widget_manager()\n",
    "from ydata_profiling import ProfileReport\n",
    "from sklearn.preprocessing import MultiLabelBinarizer,OneHotEncoder\n",
    "\n",
    "from os import environ\n",
    "import pymongo\n",
    "import json\n",
    "from subprocess import Popen"
   ]
  },
  {
   "cell_type": "code",
   "execution_count": 2,
   "outputs": [],
   "source": [
    "yelp_path = Path(\"./data/\")\n",
    "\n",
    "yelp_processed_data = Path(\"./processed_data/\")\n",
    "\n",
    "# ordenados por tamaño\n",
    "yelp_business = Path(yelp_path,\"yelp_academic_dataset_business.json\")\n",
    "yelp_tip = Path(yelp_path , \"yelp_academic_dataset_tip.json\")\n",
    "yelp_checkin = Path(yelp_path , \"yelp_academic_dataset_checkin.json\")\n",
    "yelp_user = Path(yelp_path , \"yelp_academic_dataset_user.json\")\n",
    "yelp_review = Path(yelp_path , \"yelp_academic_dataset_review.json\")"
   ],
   "metadata": {
    "collapsed": false,
    "pycharm": {
     "name": "#%%\n"
    }
   }
  },
  {
   "cell_type": "code",
   "execution_count": 3,
   "outputs": [
    {
     "name": "stdout",
     "output_type": "stream",
     "text": [
      "CPU times: total: 1.38 s\n",
      "Wall time: 6.46 s\n"
     ]
    }
   ],
   "source": [
    "%%time\n",
    "yelp_business_data = pd.read_json(yelp_business, lines=True) # 116 MB"
   ],
   "metadata": {
    "collapsed": false,
    "pycharm": {
     "name": "#%%\n"
    }
   }
  },
  {
   "cell_type": "code",
   "execution_count": 4,
   "outputs": [
    {
     "data": {
      "text/plain": "              business_id                      name  \\\n0  Pns2l4eNsfO8kk83dixA6A  Abby Rappoport, LAC, CMQ   \n1  mpf3x-BjTdTEA3yCZrAYPw             The UPS Store   \n2  tUFrWirKiKi_TAnsVWINQQ                    Target   \n\n                           address           city state postal_code  \\\n0           1616 Chapala St, Ste 2  Santa Barbara    CA       93101   \n1  87 Grasso Plaza Shopping Center         Affton    MO       63123   \n2             5255 E Broadway Blvd         Tucson    AZ       85711   \n\n    latitude   longitude  stars  review_count  is_open  \\\n0  34.426679 -119.711197    5.0             7        0   \n1  38.551126  -90.335695    3.0            15        1   \n2  32.223236 -110.880452    3.5            22        0   \n\n                                          attributes  \\\n0                      {'ByAppointmentOnly': 'True'}   \n1             {'BusinessAcceptsCreditCards': 'True'}   \n2  {'BikeParking': 'True', 'BusinessAcceptsCredit...   \n\n                                          categories  \\\n0  Doctors, Traditional Chinese Medicine, Naturop...   \n1  Shipping Centers, Local Services, Notaries, Ma...   \n2  Department Stores, Shopping, Fashion, Home & G...   \n\n                                               hours  \n0                                               None  \n1  {'Monday': '0:0-0:0', 'Tuesday': '8:0-18:30', ...  \n2  {'Monday': '8:0-22:0', 'Tuesday': '8:0-22:0', ...  ",
      "text/html": "<div>\n<style scoped>\n    .dataframe tbody tr th:only-of-type {\n        vertical-align: middle;\n    }\n\n    .dataframe tbody tr th {\n        vertical-align: top;\n    }\n\n    .dataframe thead th {\n        text-align: right;\n    }\n</style>\n<table border=\"1\" class=\"dataframe\">\n  <thead>\n    <tr style=\"text-align: right;\">\n      <th></th>\n      <th>business_id</th>\n      <th>name</th>\n      <th>address</th>\n      <th>city</th>\n      <th>state</th>\n      <th>postal_code</th>\n      <th>latitude</th>\n      <th>longitude</th>\n      <th>stars</th>\n      <th>review_count</th>\n      <th>is_open</th>\n      <th>attributes</th>\n      <th>categories</th>\n      <th>hours</th>\n    </tr>\n  </thead>\n  <tbody>\n    <tr>\n      <th>0</th>\n      <td>Pns2l4eNsfO8kk83dixA6A</td>\n      <td>Abby Rappoport, LAC, CMQ</td>\n      <td>1616 Chapala St, Ste 2</td>\n      <td>Santa Barbara</td>\n      <td>CA</td>\n      <td>93101</td>\n      <td>34.426679</td>\n      <td>-119.711197</td>\n      <td>5.0</td>\n      <td>7</td>\n      <td>0</td>\n      <td>{'ByAppointmentOnly': 'True'}</td>\n      <td>Doctors, Traditional Chinese Medicine, Naturop...</td>\n      <td>None</td>\n    </tr>\n    <tr>\n      <th>1</th>\n      <td>mpf3x-BjTdTEA3yCZrAYPw</td>\n      <td>The UPS Store</td>\n      <td>87 Grasso Plaza Shopping Center</td>\n      <td>Affton</td>\n      <td>MO</td>\n      <td>63123</td>\n      <td>38.551126</td>\n      <td>-90.335695</td>\n      <td>3.0</td>\n      <td>15</td>\n      <td>1</td>\n      <td>{'BusinessAcceptsCreditCards': 'True'}</td>\n      <td>Shipping Centers, Local Services, Notaries, Ma...</td>\n      <td>{'Monday': '0:0-0:0', 'Tuesday': '8:0-18:30', ...</td>\n    </tr>\n    <tr>\n      <th>2</th>\n      <td>tUFrWirKiKi_TAnsVWINQQ</td>\n      <td>Target</td>\n      <td>5255 E Broadway Blvd</td>\n      <td>Tucson</td>\n      <td>AZ</td>\n      <td>85711</td>\n      <td>32.223236</td>\n      <td>-110.880452</td>\n      <td>3.5</td>\n      <td>22</td>\n      <td>0</td>\n      <td>{'BikeParking': 'True', 'BusinessAcceptsCredit...</td>\n      <td>Department Stores, Shopping, Fashion, Home &amp; G...</td>\n      <td>{'Monday': '8:0-22:0', 'Tuesday': '8:0-22:0', ...</td>\n    </tr>\n  </tbody>\n</table>\n</div>"
     },
     "execution_count": 4,
     "metadata": {},
     "output_type": "execute_result"
    }
   ],
   "source": [
    "yelp_business_data.head(3)"
   ],
   "metadata": {
    "collapsed": false,
    "pycharm": {
     "name": "#%%\n"
    }
   }
  },
  {
   "cell_type": "code",
   "execution_count": 5,
   "outputs": [
    {
     "ename": "MemoryError",
     "evalue": "",
     "output_type": "error",
     "traceback": [
      "\u001B[1;31m---------------------------------------------------------------------------\u001B[0m",
      "\u001B[1;31mMemoryError\u001B[0m                               Traceback (most recent call last)",
      "File \u001B[1;32m<timed exec>:1\u001B[0m\n",
      "File \u001B[1;32mg:\\documents\\github\\taller2sisrec\\venv\\lib\\site-packages\\pandas\\util\\_decorators.py:211\u001B[0m, in \u001B[0;36mdeprecate_kwarg.<locals>._deprecate_kwarg.<locals>.wrapper\u001B[1;34m(*args, **kwargs)\u001B[0m\n\u001B[0;32m    209\u001B[0m     \u001B[38;5;28;01melse\u001B[39;00m:\n\u001B[0;32m    210\u001B[0m         kwargs[new_arg_name] \u001B[38;5;241m=\u001B[39m new_arg_value\n\u001B[1;32m--> 211\u001B[0m \u001B[38;5;28;01mreturn\u001B[39;00m func(\u001B[38;5;241m*\u001B[39margs, \u001B[38;5;241m*\u001B[39m\u001B[38;5;241m*\u001B[39mkwargs)\n",
      "File \u001B[1;32mg:\\documents\\github\\taller2sisrec\\venv\\lib\\site-packages\\pandas\\util\\_decorators.py:331\u001B[0m, in \u001B[0;36mdeprecate_nonkeyword_arguments.<locals>.decorate.<locals>.wrapper\u001B[1;34m(*args, **kwargs)\u001B[0m\n\u001B[0;32m    325\u001B[0m \u001B[38;5;28;01mif\u001B[39;00m \u001B[38;5;28mlen\u001B[39m(args) \u001B[38;5;241m>\u001B[39m num_allow_args:\n\u001B[0;32m    326\u001B[0m     warnings\u001B[38;5;241m.\u001B[39mwarn(\n\u001B[0;32m    327\u001B[0m         msg\u001B[38;5;241m.\u001B[39mformat(arguments\u001B[38;5;241m=\u001B[39m_format_argument_list(allow_args)),\n\u001B[0;32m    328\u001B[0m         \u001B[38;5;167;01mFutureWarning\u001B[39;00m,\n\u001B[0;32m    329\u001B[0m         stacklevel\u001B[38;5;241m=\u001B[39mfind_stack_level(),\n\u001B[0;32m    330\u001B[0m     )\n\u001B[1;32m--> 331\u001B[0m \u001B[38;5;28;01mreturn\u001B[39;00m func(\u001B[38;5;241m*\u001B[39margs, \u001B[38;5;241m*\u001B[39m\u001B[38;5;241m*\u001B[39mkwargs)\n",
      "File \u001B[1;32mg:\\documents\\github\\taller2sisrec\\venv\\lib\\site-packages\\pandas\\io\\json\\_json.py:757\u001B[0m, in \u001B[0;36mread_json\u001B[1;34m(path_or_buf, orient, typ, dtype, convert_axes, convert_dates, keep_default_dates, numpy, precise_float, date_unit, encoding, encoding_errors, lines, chunksize, compression, nrows, storage_options)\u001B[0m\n\u001B[0;32m    754\u001B[0m     \u001B[38;5;28;01mreturn\u001B[39;00m json_reader\n\u001B[0;32m    756\u001B[0m \u001B[38;5;28;01mwith\u001B[39;00m json_reader:\n\u001B[1;32m--> 757\u001B[0m     \u001B[38;5;28;01mreturn\u001B[39;00m \u001B[43mjson_reader\u001B[49m\u001B[38;5;241;43m.\u001B[39;49m\u001B[43mread\u001B[49m\u001B[43m(\u001B[49m\u001B[43m)\u001B[49m\n",
      "File \u001B[1;32mg:\\documents\\github\\taller2sisrec\\venv\\lib\\site-packages\\pandas\\io\\json\\_json.py:913\u001B[0m, in \u001B[0;36mJsonReader.read\u001B[1;34m(self)\u001B[0m\n\u001B[0;32m    911\u001B[0m         data \u001B[38;5;241m=\u001B[39m ensure_str(\u001B[38;5;28mself\u001B[39m\u001B[38;5;241m.\u001B[39mdata)\n\u001B[0;32m    912\u001B[0m         data_lines \u001B[38;5;241m=\u001B[39m data\u001B[38;5;241m.\u001B[39msplit(\u001B[38;5;124m\"\u001B[39m\u001B[38;5;130;01m\\n\u001B[39;00m\u001B[38;5;124m\"\u001B[39m)\n\u001B[1;32m--> 913\u001B[0m         obj \u001B[38;5;241m=\u001B[39m \u001B[38;5;28mself\u001B[39m\u001B[38;5;241m.\u001B[39m_get_object_parser(\u001B[38;5;28;43mself\u001B[39;49m\u001B[38;5;241;43m.\u001B[39;49m\u001B[43m_combine_lines\u001B[49m\u001B[43m(\u001B[49m\u001B[43mdata_lines\u001B[49m\u001B[43m)\u001B[49m)\n\u001B[0;32m    914\u001B[0m \u001B[38;5;28;01melse\u001B[39;00m:\n\u001B[0;32m    915\u001B[0m     obj \u001B[38;5;241m=\u001B[39m \u001B[38;5;28mself\u001B[39m\u001B[38;5;241m.\u001B[39m_get_object_parser(\u001B[38;5;28mself\u001B[39m\u001B[38;5;241m.\u001B[39mdata)\n",
      "File \u001B[1;32mg:\\documents\\github\\taller2sisrec\\venv\\lib\\site-packages\\pandas\\io\\json\\_json.py:883\u001B[0m, in \u001B[0;36mJsonReader._combine_lines\u001B[1;34m(self, lines)\u001B[0m\n\u001B[0;32m    878\u001B[0m \u001B[38;5;28;01mdef\u001B[39;00m \u001B[38;5;21m_combine_lines\u001B[39m(\u001B[38;5;28mself\u001B[39m, lines) \u001B[38;5;241m-\u001B[39m\u001B[38;5;241m>\u001B[39m \u001B[38;5;28mstr\u001B[39m:\n\u001B[0;32m    879\u001B[0m \u001B[38;5;250m    \u001B[39m\u001B[38;5;124;03m\"\"\"\u001B[39;00m\n\u001B[0;32m    880\u001B[0m \u001B[38;5;124;03m    Combines a list of JSON objects into one JSON object.\u001B[39;00m\n\u001B[0;32m    881\u001B[0m \u001B[38;5;124;03m    \"\"\"\u001B[39;00m\n\u001B[0;32m    882\u001B[0m     \u001B[38;5;28;01mreturn\u001B[39;00m (\n\u001B[1;32m--> 883\u001B[0m         \u001B[38;5;124mf\u001B[39m\u001B[38;5;124m'\u001B[39m\u001B[38;5;124m[\u001B[39m\u001B[38;5;132;01m{\u001B[39;00m\u001B[38;5;124;43m\"\u001B[39;49m\u001B[38;5;124;43m,\u001B[39;49m\u001B[38;5;124;43m\"\u001B[39;49m\u001B[38;5;241;43m.\u001B[39;49m\u001B[43mjoin\u001B[49m\u001B[43m(\u001B[49m\u001B[43m[\u001B[49m\u001B[43mline\u001B[49m\u001B[38;5;250;43m \u001B[39;49m\u001B[38;5;28;43;01mfor\u001B[39;49;00m\u001B[38;5;250;43m \u001B[39;49m\u001B[43mline\u001B[49m\u001B[38;5;250;43m \u001B[39;49m\u001B[38;5;129;43;01min\u001B[39;49;00m\u001B[38;5;250;43m \u001B[39;49m\u001B[43m(\u001B[49m\u001B[43mline\u001B[49m\u001B[38;5;241;43m.\u001B[39;49m\u001B[43mstrip\u001B[49m\u001B[43m(\u001B[49m\u001B[43m)\u001B[49m\u001B[38;5;250;43m \u001B[39;49m\u001B[38;5;28;43;01mfor\u001B[39;49;00m\u001B[38;5;250;43m \u001B[39;49m\u001B[43mline\u001B[49m\u001B[38;5;250;43m \u001B[39;49m\u001B[38;5;129;43;01min\u001B[39;49;00m\u001B[38;5;250;43m \u001B[39;49m\u001B[43mlines\u001B[49m\u001B[43m)\u001B[49m\u001B[38;5;250;43m \u001B[39;49m\u001B[38;5;28;43;01mif\u001B[39;49;00m\u001B[38;5;250;43m \u001B[39;49m\u001B[43mline\u001B[49m\u001B[43m]\u001B[49m\u001B[43m)\u001B[49m\u001B[38;5;132;01m}\u001B[39;00m\u001B[38;5;124m]\u001B[39m\u001B[38;5;124m'\u001B[39m\n\u001B[0;32m    884\u001B[0m     )\n",
      "\u001B[1;31mMemoryError\u001B[0m: "
     ]
    }
   ],
   "source": [
    "%%time\n",
    "yelp_review_data = pd.read_json(yelp_review, lines=True) # 116 MB"
   ],
   "metadata": {
    "collapsed": false,
    "pycharm": {
     "name": "#%%\n"
    }
   }
  },
  {
   "cell_type": "code",
   "execution_count": 6,
   "outputs": [
    {
     "ename": "NameError",
     "evalue": "name 'yelp_review_data' is not defined",
     "output_type": "error",
     "traceback": [
      "\u001B[1;31m---------------------------------------------------------------------------\u001B[0m",
      "\u001B[1;31mNameError\u001B[0m                                 Traceback (most recent call last)",
      "Cell \u001B[1;32mIn[6], line 1\u001B[0m\n\u001B[1;32m----> 1\u001B[0m \u001B[43myelp_review_data\u001B[49m\u001B[38;5;241m.\u001B[39mhead(\u001B[38;5;241m3\u001B[39m)\n",
      "\u001B[1;31mNameError\u001B[0m: name 'yelp_review_data' is not defined"
     ]
    }
   ],
   "source": [
    "yelp_review_data.head(3)"
   ],
   "metadata": {
    "collapsed": false,
    "pycharm": {
     "name": "#%%\n"
    }
   }
  },
  {
   "cell_type": "code",
   "execution_count": null,
   "outputs": [],
   "source": [],
   "metadata": {
    "collapsed": false,
    "pycharm": {
     "name": "#%%\n"
    }
   }
  }
 ],
 "metadata": {
  "kernelspec": {
   "display_name": "Python 3",
   "language": "python",
   "name": "python3"
  },
  "language_info": {
   "codemirror_mode": {
    "name": "ipython",
    "version": 2
   },
   "file_extension": ".py",
   "mimetype": "text/x-python",
   "name": "python",
   "nbconvert_exporter": "python",
   "pygments_lexer": "ipython2",
   "version": "2.7.6"
  }
 },
 "nbformat": 4,
 "nbformat_minor": 0
}